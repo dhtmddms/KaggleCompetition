{
 "cells": [
  {
   "cell_type": "code",
   "execution_count": 1,
   "id": "ae0be939",
   "metadata": {
    "_cell_guid": "b1076dfc-b9ad-4769-8c92-a6c4dae69d19",
    "_uuid": "8f2839f25d086af736a60e9eeb907d3b93b6e0e5",
    "execution": {
     "iopub.execute_input": "2022-04-04T08:33:36.606357Z",
     "iopub.status.busy": "2022-04-04T08:33:36.605176Z",
     "iopub.status.idle": "2022-04-04T08:33:36.618072Z",
     "shell.execute_reply": "2022-04-04T08:33:36.618506Z",
     "shell.execute_reply.started": "2022-04-04T06:14:39.237752Z"
    },
    "papermill": {
     "duration": 0.081227,
     "end_time": "2022-04-04T08:33:36.618833",
     "exception": false,
     "start_time": "2022-04-04T08:33:36.537606",
     "status": "completed"
    },
    "tags": []
   },
   "outputs": [
    {
     "name": "stdout",
     "output_type": "stream",
     "text": [
      "/kaggle/input/spaceship-titanic/sample_submission.csv\n",
      "/kaggle/input/spaceship-titanic/train.csv\n",
      "/kaggle/input/spaceship-titanic/test.csv\n"
     ]
    }
   ],
   "source": [
    "# This Python 3 environment comes with many helpful analytics libraries installed\n",
    "# It is defined by the kaggle/python Docker image: https://github.com/kaggle/docker-python\n",
    "# For example, here's several helpful packages to load\n",
    "\n",
    "import numpy as np # linear algebra\n",
    "import pandas as pd # data processing, CSV file I/O (e.g. pd.read_csv)\n",
    "\n",
    "# Input data files are available in the read-only \"../input/\" directory\n",
    "# For example, running this (by clicking run or pressing Shift+Enter) will list all files under the input directory\n",
    "\n",
    "import os\n",
    "for dirname, _, filenames in os.walk('/kaggle/input'):\n",
    "    for filename in filenames:\n",
    "        print(os.path.join(dirname, filename))\n",
    "\n",
    "# You can write up to 20GB to the current directory (/kaggle/working/) that gets preserved as output when you create a version using \"Save & Run All\" \n",
    "# You can also write temporary files to /kaggle/temp/, but they won't be saved outside of the current session"
   ]
  },
  {
   "cell_type": "markdown",
   "id": "5d4038a6",
   "metadata": {
    "papermill": {
     "duration": 0.064923,
     "end_time": "2022-04-04T08:33:36.748106",
     "exception": false,
     "start_time": "2022-04-04T08:33:36.683183",
     "status": "completed"
    },
    "tags": []
   },
   "source": []
  },
  {
   "cell_type": "markdown",
   "id": "1e109859",
   "metadata": {
    "papermill": {
     "duration": 0.065336,
     "end_time": "2022-04-04T08:33:36.885629",
     "exception": false,
     "start_time": "2022-04-04T08:33:36.820293",
     "status": "completed"
    },
    "tags": []
   },
   "source": [
    "# Step 1. Library and Dataset Loading"
   ]
  },
  {
   "cell_type": "markdown",
   "id": "aeebc19e",
   "metadata": {
    "papermill": {
     "duration": 0.06295,
     "end_time": "2022-04-04T08:33:37.012494",
     "exception": false,
     "start_time": "2022-04-04T08:33:36.949544",
     "status": "completed"
    },
    "tags": []
   },
   "source": [
    "## Import Library"
   ]
  },
  {
   "cell_type": "code",
   "execution_count": 2,
   "id": "b11c41bf",
   "metadata": {
    "execution": {
     "iopub.execute_input": "2022-04-04T08:33:37.144551Z",
     "iopub.status.busy": "2022-04-04T08:33:37.143881Z",
     "iopub.status.idle": "2022-04-04T08:33:38.148466Z",
     "shell.execute_reply": "2022-04-04T08:33:38.147868Z",
     "shell.execute_reply.started": "2022-04-04T06:14:40.232319Z"
    },
    "papermill": {
     "duration": 1.071031,
     "end_time": "2022-04-04T08:33:38.148599",
     "exception": false,
     "start_time": "2022-04-04T08:33:37.077568",
     "status": "completed"
    },
    "tags": []
   },
   "outputs": [
    {
     "name": "stdout",
     "output_type": "stream",
     "text": [
      "Numpy ver. 1.20.3\n",
      "Pandas ver. 1.3.5\n",
      "Matplotlib ver. 3.5.1\n",
      "Seaborn ver. 0.11.2\n",
      "['sample_submission.csv', 'train.csv', 'test.csv']\n"
     ]
    }
   ],
   "source": [
    "%matplotlib inline\n",
    "\n",
    "import numpy as np\n",
    "import pandas as pd\n",
    "import seaborn as sns\n",
    "import matplotlib\n",
    "import matplotlib.pyplot as plt\n",
    "import os\n",
    "\n",
    "print(\"Numpy ver.\", np.__version__)\n",
    "print(\"Pandas ver.\", pd.__version__)\n",
    "print(\"Matplotlib ver.\", matplotlib.__version__)\n",
    "print(\"Seaborn ver.\", sns.__version__)\n",
    "\n",
    "print(os.listdir('../input/spaceship-titanic/'))"
   ]
  },
  {
   "cell_type": "code",
   "execution_count": 3,
   "id": "7ecd68ec",
   "metadata": {
    "execution": {
     "iopub.execute_input": "2022-04-04T08:33:38.279990Z",
     "iopub.status.busy": "2022-04-04T08:33:38.279364Z",
     "iopub.status.idle": "2022-04-04T08:33:39.426655Z",
     "shell.execute_reply": "2022-04-04T08:33:39.426035Z",
     "shell.execute_reply.started": "2022-04-04T08:12:59.161342Z"
    },
    "papermill": {
     "duration": 1.213992,
     "end_time": "2022-04-04T08:33:39.426817",
     "exception": false,
     "start_time": "2022-04-04T08:33:38.212825",
     "status": "completed"
    },
    "tags": []
   },
   "outputs": [
    {
     "data": {
      "text/html": [
       "<style type='text/css'>\n",
       ".datatable table.frame { margin-bottom: 0; }\n",
       ".datatable table.frame thead { border-bottom: none; }\n",
       ".datatable table.frame tr.coltypes td {  color: #FFFFFF;  line-height: 6px;  padding: 0 0.5em;}\n",
       ".datatable .bool    { background: #DDDD99; }\n",
       ".datatable .object  { background: #565656; }\n",
       ".datatable .int     { background: #5D9E5D; }\n",
       ".datatable .float   { background: #4040CC; }\n",
       ".datatable .str     { background: #CC4040; }\n",
       ".datatable .time    { background: #40CC40; }\n",
       ".datatable .row_index {  background: var(--jp-border-color3);  border-right: 1px solid var(--jp-border-color0);  color: var(--jp-ui-font-color3);  font-size: 9px;}\n",
       ".datatable .frame tbody td { text-align: left; }\n",
       ".datatable .frame tr.coltypes .row_index {  background: var(--jp-border-color0);}\n",
       ".datatable th:nth-child(2) { padding-left: 12px; }\n",
       ".datatable .hellipsis {  color: var(--jp-cell-editor-border-color);}\n",
       ".datatable .vellipsis {  background: var(--jp-layout-color0);  color: var(--jp-cell-editor-border-color);}\n",
       ".datatable .na {  color: var(--jp-cell-editor-border-color);  font-size: 80%;}\n",
       ".datatable .sp {  opacity: 0.25;}\n",
       ".datatable .footer { font-size: 9px; }\n",
       ".datatable .frame_dimensions {  background: var(--jp-border-color3);  border-top: 1px solid var(--jp-border-color0);  color: var(--jp-ui-font-color3);  display: inline-block;  opacity: 0.6;  padding: 1px 10px 1px 5px;}\n",
       "</style>\n"
      ],
      "text/plain": [
       "<IPython.core.display.HTML object>"
      ]
     },
     "metadata": {},
     "output_type": "display_data"
    }
   ],
   "source": [
    "from sklearn.impute import SimpleImputer\n",
    "from sklearn.metrics import accuracy_score\n",
    "from sklearn.preprocessing import RobustScaler\n",
    "from sklearn.preprocessing import OrdinalEncoder\n",
    "from sklearn.preprocessing import OneHotEncoder\n",
    "from sklearn.compose import make_column_transformer\n",
    "from sklearn.preprocessing import LabelEncoder\n",
    "from sklearn.model_selection import train_test_split\n",
    "from sklearn.model_selection import StratifiedKFold\n",
    "from sklearn.model_selection import cross_validate\n",
    "from lightgbm import LGBMClassifier\n",
    "\n",
    "import time\n",
    "import warnings\n",
    "warnings.filterwarnings('ignore')"
   ]
  },
  {
   "cell_type": "markdown",
   "id": "4c53833e",
   "metadata": {
    "papermill": {
     "duration": 0.063927,
     "end_time": "2022-04-04T08:33:39.555831",
     "exception": false,
     "start_time": "2022-04-04T08:33:39.491904",
     "status": "completed"
    },
    "tags": []
   },
   "source": []
  },
  {
   "cell_type": "markdown",
   "id": "33879f88",
   "metadata": {
    "papermill": {
     "duration": 0.0636,
     "end_time": "2022-04-04T08:33:39.683575",
     "exception": false,
     "start_time": "2022-04-04T08:33:39.619975",
     "status": "completed"
    },
    "tags": []
   },
   "source": [
    "## Load Dataset"
   ]
  },
  {
   "cell_type": "code",
   "execution_count": 4,
   "id": "67eda31f",
   "metadata": {
    "execution": {
     "iopub.execute_input": "2022-04-04T08:33:39.815326Z",
     "iopub.status.busy": "2022-04-04T08:33:39.814658Z",
     "iopub.status.idle": "2022-04-04T08:33:39.902212Z",
     "shell.execute_reply": "2022-04-04T08:33:39.903048Z",
     "shell.execute_reply.started": "2022-04-04T06:14:41.877760Z"
    },
    "papermill": {
     "duration": 0.155345,
     "end_time": "2022-04-04T08:33:39.903269",
     "exception": false,
     "start_time": "2022-04-04T08:33:39.747924",
     "status": "completed"
    },
    "tags": []
   },
   "outputs": [
    {
     "name": "stdout",
     "output_type": "stream",
     "text": [
      "Train Data: (8693, 14)\n",
      "Test Data: (4277, 13)\n",
      "Submission: (4277, 2)\n"
     ]
    }
   ],
   "source": [
    "BASE_DIR = '../input/spaceship-titanic/'\n",
    "train = pd.read_csv(BASE_DIR + \"train.csv\")\n",
    "test = pd.read_csv(BASE_DIR + \"test.csv\")\n",
    "sample_submission = pd.read_csv(BASE_DIR + \"sample_submission.csv\")\n",
    "print(\"Train Data:\",train.shape)\n",
    "print(\"Test Data:\",test.shape)\n",
    "print(\"Submission:\",sample_submission.shape)"
   ]
  },
  {
   "cell_type": "code",
   "execution_count": 5,
   "id": "1a3871bd",
   "metadata": {
    "execution": {
     "iopub.execute_input": "2022-04-04T08:33:40.038904Z",
     "iopub.status.busy": "2022-04-04T08:33:40.037941Z",
     "iopub.status.idle": "2022-04-04T08:33:40.069399Z",
     "shell.execute_reply": "2022-04-04T08:33:40.068533Z",
     "shell.execute_reply.started": "2022-04-04T06:14:42.626357Z"
    },
    "papermill": {
     "duration": 0.100115,
     "end_time": "2022-04-04T08:33:40.069578",
     "exception": false,
     "start_time": "2022-04-04T08:33:39.969463",
     "status": "completed"
    },
    "tags": []
   },
   "outputs": [
    {
     "name": "stdout",
     "output_type": "stream",
     "text": [
      "<class 'pandas.core.frame.DataFrame'>\n",
      "RangeIndex: 8693 entries, 0 to 8692\n",
      "Data columns (total 14 columns):\n",
      " #   Column        Non-Null Count  Dtype  \n",
      "---  ------        --------------  -----  \n",
      " 0   PassengerId   8693 non-null   object \n",
      " 1   HomePlanet    8492 non-null   object \n",
      " 2   CryoSleep     8476 non-null   object \n",
      " 3   Cabin         8494 non-null   object \n",
      " 4   Destination   8511 non-null   object \n",
      " 5   Age           8514 non-null   float64\n",
      " 6   VIP           8490 non-null   object \n",
      " 7   RoomService   8512 non-null   float64\n",
      " 8   FoodCourt     8510 non-null   float64\n",
      " 9   ShoppingMall  8485 non-null   float64\n",
      " 10  Spa           8510 non-null   float64\n",
      " 11  VRDeck        8505 non-null   float64\n",
      " 12  Name          8493 non-null   object \n",
      " 13  Transported   8693 non-null   bool   \n",
      "dtypes: bool(1), float64(6), object(7)\n",
      "memory usage: 891.5+ KB\n"
     ]
    }
   ],
   "source": [
    "train.info()"
   ]
  },
  {
   "cell_type": "code",
   "execution_count": 6,
   "id": "23aadffd",
   "metadata": {
    "execution": {
     "iopub.execute_input": "2022-04-04T08:33:40.212138Z",
     "iopub.status.busy": "2022-04-04T08:33:40.211487Z",
     "iopub.status.idle": "2022-04-04T08:33:40.220886Z",
     "shell.execute_reply": "2022-04-04T08:33:40.221457Z",
     "shell.execute_reply.started": "2022-04-04T06:14:43.452167Z"
    },
    "papermill": {
     "duration": 0.085535,
     "end_time": "2022-04-04T08:33:40.221617",
     "exception": false,
     "start_time": "2022-04-04T08:33:40.136082",
     "status": "completed"
    },
    "tags": []
   },
   "outputs": [
    {
     "name": "stdout",
     "output_type": "stream",
     "text": [
      "<class 'pandas.core.frame.DataFrame'>\n",
      "RangeIndex: 4277 entries, 0 to 4276\n",
      "Data columns (total 13 columns):\n",
      " #   Column        Non-Null Count  Dtype  \n",
      "---  ------        --------------  -----  \n",
      " 0   PassengerId   4277 non-null   object \n",
      " 1   HomePlanet    4190 non-null   object \n",
      " 2   CryoSleep     4184 non-null   object \n",
      " 3   Cabin         4177 non-null   object \n",
      " 4   Destination   4185 non-null   object \n",
      " 5   Age           4186 non-null   float64\n",
      " 6   VIP           4184 non-null   object \n",
      " 7   RoomService   4195 non-null   float64\n",
      " 8   FoodCourt     4171 non-null   float64\n",
      " 9   ShoppingMall  4179 non-null   float64\n",
      " 10  Spa           4176 non-null   float64\n",
      " 11  VRDeck        4197 non-null   float64\n",
      " 12  Name          4183 non-null   object \n",
      "dtypes: float64(6), object(7)\n",
      "memory usage: 434.5+ KB\n"
     ]
    }
   ],
   "source": [
    "test.info()"
   ]
  },
  {
   "cell_type": "code",
   "execution_count": 7,
   "id": "cb2507b7",
   "metadata": {
    "execution": {
     "iopub.execute_input": "2022-04-04T08:33:40.357270Z",
     "iopub.status.busy": "2022-04-04T08:33:40.354965Z",
     "iopub.status.idle": "2022-04-04T08:33:40.376617Z",
     "shell.execute_reply": "2022-04-04T08:33:40.377125Z",
     "shell.execute_reply.started": "2022-04-04T06:14:44.490351Z"
    },
    "papermill": {
     "duration": 0.090141,
     "end_time": "2022-04-04T08:33:40.377286",
     "exception": false,
     "start_time": "2022-04-04T08:33:40.287145",
     "status": "completed"
    },
    "tags": []
   },
   "outputs": [
    {
     "data": {
      "text/html": [
       "<div>\n",
       "<style scoped>\n",
       "    .dataframe tbody tr th:only-of-type {\n",
       "        vertical-align: middle;\n",
       "    }\n",
       "\n",
       "    .dataframe tbody tr th {\n",
       "        vertical-align: top;\n",
       "    }\n",
       "\n",
       "    .dataframe thead th {\n",
       "        text-align: right;\n",
       "    }\n",
       "</style>\n",
       "<table border=\"1\" class=\"dataframe\">\n",
       "  <thead>\n",
       "    <tr style=\"text-align: right;\">\n",
       "      <th></th>\n",
       "      <th>PassengerId</th>\n",
       "      <th>HomePlanet</th>\n",
       "      <th>CryoSleep</th>\n",
       "      <th>Cabin</th>\n",
       "      <th>Destination</th>\n",
       "      <th>Age</th>\n",
       "      <th>VIP</th>\n",
       "      <th>RoomService</th>\n",
       "      <th>FoodCourt</th>\n",
       "      <th>ShoppingMall</th>\n",
       "      <th>Spa</th>\n",
       "      <th>VRDeck</th>\n",
       "      <th>Name</th>\n",
       "      <th>Transported</th>\n",
       "    </tr>\n",
       "  </thead>\n",
       "  <tbody>\n",
       "    <tr>\n",
       "      <th>0</th>\n",
       "      <td>0001_01</td>\n",
       "      <td>Europa</td>\n",
       "      <td>False</td>\n",
       "      <td>B/0/P</td>\n",
       "      <td>TRAPPIST-1e</td>\n",
       "      <td>39.0</td>\n",
       "      <td>False</td>\n",
       "      <td>0.0</td>\n",
       "      <td>0.0</td>\n",
       "      <td>0.0</td>\n",
       "      <td>0.0</td>\n",
       "      <td>0.0</td>\n",
       "      <td>Maham Ofracculy</td>\n",
       "      <td>False</td>\n",
       "    </tr>\n",
       "    <tr>\n",
       "      <th>1</th>\n",
       "      <td>0002_01</td>\n",
       "      <td>Earth</td>\n",
       "      <td>False</td>\n",
       "      <td>F/0/S</td>\n",
       "      <td>TRAPPIST-1e</td>\n",
       "      <td>24.0</td>\n",
       "      <td>False</td>\n",
       "      <td>109.0</td>\n",
       "      <td>9.0</td>\n",
       "      <td>25.0</td>\n",
       "      <td>549.0</td>\n",
       "      <td>44.0</td>\n",
       "      <td>Juanna Vines</td>\n",
       "      <td>True</td>\n",
       "    </tr>\n",
       "    <tr>\n",
       "      <th>2</th>\n",
       "      <td>0003_01</td>\n",
       "      <td>Europa</td>\n",
       "      <td>False</td>\n",
       "      <td>A/0/S</td>\n",
       "      <td>TRAPPIST-1e</td>\n",
       "      <td>58.0</td>\n",
       "      <td>True</td>\n",
       "      <td>43.0</td>\n",
       "      <td>3576.0</td>\n",
       "      <td>0.0</td>\n",
       "      <td>6715.0</td>\n",
       "      <td>49.0</td>\n",
       "      <td>Altark Susent</td>\n",
       "      <td>False</td>\n",
       "    </tr>\n",
       "  </tbody>\n",
       "</table>\n",
       "</div>"
      ],
      "text/plain": [
       "  PassengerId HomePlanet CryoSleep  Cabin  Destination   Age    VIP  \\\n",
       "0     0001_01     Europa     False  B/0/P  TRAPPIST-1e  39.0  False   \n",
       "1     0002_01      Earth     False  F/0/S  TRAPPIST-1e  24.0  False   \n",
       "2     0003_01     Europa     False  A/0/S  TRAPPIST-1e  58.0   True   \n",
       "\n",
       "   RoomService  FoodCourt  ShoppingMall     Spa  VRDeck             Name  \\\n",
       "0          0.0        0.0           0.0     0.0     0.0  Maham Ofracculy   \n",
       "1        109.0        9.0          25.0   549.0    44.0     Juanna Vines   \n",
       "2         43.0     3576.0           0.0  6715.0    49.0    Altark Susent   \n",
       "\n",
       "   Transported  \n",
       "0        False  \n",
       "1         True  \n",
       "2        False  "
      ]
     },
     "execution_count": 7,
     "metadata": {},
     "output_type": "execute_result"
    }
   ],
   "source": [
    "train.head(3)"
   ]
  },
  {
   "cell_type": "code",
   "execution_count": 8,
   "id": "756db23d",
   "metadata": {
    "execution": {
     "iopub.execute_input": "2022-04-04T08:33:40.527234Z",
     "iopub.status.busy": "2022-04-04T08:33:40.512348Z",
     "iopub.status.idle": "2022-04-04T08:33:40.529991Z",
     "shell.execute_reply": "2022-04-04T08:33:40.530564Z",
     "shell.execute_reply.started": "2022-04-04T06:14:45.439090Z"
    },
    "papermill": {
     "duration": 0.087174,
     "end_time": "2022-04-04T08:33:40.530746",
     "exception": false,
     "start_time": "2022-04-04T08:33:40.443572",
     "status": "completed"
    },
    "tags": []
   },
   "outputs": [
    {
     "data": {
      "text/html": [
       "<div>\n",
       "<style scoped>\n",
       "    .dataframe tbody tr th:only-of-type {\n",
       "        vertical-align: middle;\n",
       "    }\n",
       "\n",
       "    .dataframe tbody tr th {\n",
       "        vertical-align: top;\n",
       "    }\n",
       "\n",
       "    .dataframe thead th {\n",
       "        text-align: right;\n",
       "    }\n",
       "</style>\n",
       "<table border=\"1\" class=\"dataframe\">\n",
       "  <thead>\n",
       "    <tr style=\"text-align: right;\">\n",
       "      <th></th>\n",
       "      <th>PassengerId</th>\n",
       "      <th>HomePlanet</th>\n",
       "      <th>CryoSleep</th>\n",
       "      <th>Cabin</th>\n",
       "      <th>Destination</th>\n",
       "      <th>Age</th>\n",
       "      <th>VIP</th>\n",
       "      <th>RoomService</th>\n",
       "      <th>FoodCourt</th>\n",
       "      <th>ShoppingMall</th>\n",
       "      <th>Spa</th>\n",
       "      <th>VRDeck</th>\n",
       "      <th>Name</th>\n",
       "    </tr>\n",
       "  </thead>\n",
       "  <tbody>\n",
       "    <tr>\n",
       "      <th>0</th>\n",
       "      <td>0013_01</td>\n",
       "      <td>Earth</td>\n",
       "      <td>True</td>\n",
       "      <td>G/3/S</td>\n",
       "      <td>TRAPPIST-1e</td>\n",
       "      <td>27.0</td>\n",
       "      <td>False</td>\n",
       "      <td>0.0</td>\n",
       "      <td>0.0</td>\n",
       "      <td>0.0</td>\n",
       "      <td>0.0</td>\n",
       "      <td>0.0</td>\n",
       "      <td>Nelly Carsoning</td>\n",
       "    </tr>\n",
       "    <tr>\n",
       "      <th>1</th>\n",
       "      <td>0018_01</td>\n",
       "      <td>Earth</td>\n",
       "      <td>False</td>\n",
       "      <td>F/4/S</td>\n",
       "      <td>TRAPPIST-1e</td>\n",
       "      <td>19.0</td>\n",
       "      <td>False</td>\n",
       "      <td>0.0</td>\n",
       "      <td>9.0</td>\n",
       "      <td>0.0</td>\n",
       "      <td>2823.0</td>\n",
       "      <td>0.0</td>\n",
       "      <td>Lerome Peckers</td>\n",
       "    </tr>\n",
       "    <tr>\n",
       "      <th>2</th>\n",
       "      <td>0019_01</td>\n",
       "      <td>Europa</td>\n",
       "      <td>True</td>\n",
       "      <td>C/0/S</td>\n",
       "      <td>55 Cancri e</td>\n",
       "      <td>31.0</td>\n",
       "      <td>False</td>\n",
       "      <td>0.0</td>\n",
       "      <td>0.0</td>\n",
       "      <td>0.0</td>\n",
       "      <td>0.0</td>\n",
       "      <td>0.0</td>\n",
       "      <td>Sabih Unhearfus</td>\n",
       "    </tr>\n",
       "  </tbody>\n",
       "</table>\n",
       "</div>"
      ],
      "text/plain": [
       "  PassengerId HomePlanet CryoSleep  Cabin  Destination   Age    VIP  \\\n",
       "0     0013_01      Earth      True  G/3/S  TRAPPIST-1e  27.0  False   \n",
       "1     0018_01      Earth     False  F/4/S  TRAPPIST-1e  19.0  False   \n",
       "2     0019_01     Europa      True  C/0/S  55 Cancri e  31.0  False   \n",
       "\n",
       "   RoomService  FoodCourt  ShoppingMall     Spa  VRDeck             Name  \n",
       "0          0.0        0.0           0.0     0.0     0.0  Nelly Carsoning  \n",
       "1          0.0        9.0           0.0  2823.0     0.0   Lerome Peckers  \n",
       "2          0.0        0.0           0.0     0.0     0.0  Sabih Unhearfus  "
      ]
     },
     "execution_count": 8,
     "metadata": {},
     "output_type": "execute_result"
    }
   ],
   "source": [
    "test.head(3)"
   ]
  },
  {
   "cell_type": "code",
   "execution_count": 9,
   "id": "da6d67ca",
   "metadata": {
    "execution": {
     "iopub.execute_input": "2022-04-04T08:33:40.667538Z",
     "iopub.status.busy": "2022-04-04T08:33:40.666614Z",
     "iopub.status.idle": "2022-04-04T08:33:40.674630Z",
     "shell.execute_reply": "2022-04-04T08:33:40.675172Z",
     "shell.execute_reply.started": "2022-04-04T06:14:46.491953Z"
    },
    "papermill": {
     "duration": 0.077848,
     "end_time": "2022-04-04T08:33:40.675327",
     "exception": false,
     "start_time": "2022-04-04T08:33:40.597479",
     "status": "completed"
    },
    "tags": []
   },
   "outputs": [
    {
     "data": {
      "text/html": [
       "<div>\n",
       "<style scoped>\n",
       "    .dataframe tbody tr th:only-of-type {\n",
       "        vertical-align: middle;\n",
       "    }\n",
       "\n",
       "    .dataframe tbody tr th {\n",
       "        vertical-align: top;\n",
       "    }\n",
       "\n",
       "    .dataframe thead th {\n",
       "        text-align: right;\n",
       "    }\n",
       "</style>\n",
       "<table border=\"1\" class=\"dataframe\">\n",
       "  <thead>\n",
       "    <tr style=\"text-align: right;\">\n",
       "      <th></th>\n",
       "      <th>PassengerId</th>\n",
       "      <th>Transported</th>\n",
       "    </tr>\n",
       "  </thead>\n",
       "  <tbody>\n",
       "    <tr>\n",
       "      <th>0</th>\n",
       "      <td>0013_01</td>\n",
       "      <td>False</td>\n",
       "    </tr>\n",
       "    <tr>\n",
       "      <th>1</th>\n",
       "      <td>0018_01</td>\n",
       "      <td>False</td>\n",
       "    </tr>\n",
       "    <tr>\n",
       "      <th>2</th>\n",
       "      <td>0019_01</td>\n",
       "      <td>False</td>\n",
       "    </tr>\n",
       "  </tbody>\n",
       "</table>\n",
       "</div>"
      ],
      "text/plain": [
       "  PassengerId  Transported\n",
       "0     0013_01        False\n",
       "1     0018_01        False\n",
       "2     0019_01        False"
      ]
     },
     "execution_count": 9,
     "metadata": {},
     "output_type": "execute_result"
    }
   ],
   "source": [
    "sample_submission.head(3)"
   ]
  },
  {
   "cell_type": "markdown",
   "id": "1614f364",
   "metadata": {
    "papermill": {
     "duration": 0.068222,
     "end_time": "2022-04-04T08:33:40.812375",
     "exception": false,
     "start_time": "2022-04-04T08:33:40.744153",
     "status": "completed"
    },
    "tags": []
   },
   "source": [
    "#### There are a total of 13 features, of which 6 are numerical variables.<br/>The target, the column we're going to predict, is 'Trasnported', which is a bool type variable\n",
    "\n",
    "- For the detail descriptions, go to https://www.kaggle.com/competitions/spaceship-titanic/data"
   ]
  },
  {
   "cell_type": "markdown",
   "id": "5468f7e0",
   "metadata": {
    "papermill": {
     "duration": 0.067272,
     "end_time": "2022-04-04T08:33:40.947158",
     "exception": false,
     "start_time": "2022-04-04T08:33:40.879886",
     "status": "completed"
    },
    "tags": []
   },
   "source": []
  },
  {
   "cell_type": "markdown",
   "id": "dc54187d",
   "metadata": {
    "papermill": {
     "duration": 0.068966,
     "end_time": "2022-04-04T08:33:41.083573",
     "exception": false,
     "start_time": "2022-04-04T08:33:41.014607",
     "status": "completed"
    },
    "tags": []
   },
   "source": [
    "# Step 2. EDA"
   ]
  },
  {
   "cell_type": "markdown",
   "id": "ec73212d",
   "metadata": {
    "papermill": {
     "duration": 0.067269,
     "end_time": "2022-04-04T08:33:41.218275",
     "exception": false,
     "start_time": "2022-04-04T08:33:41.151006",
     "status": "completed"
    },
    "tags": []
   },
   "source": [
    "## Overview of Data"
   ]
  },
  {
   "cell_type": "code",
   "execution_count": 10,
   "id": "d74d9c92",
   "metadata": {
    "execution": {
     "iopub.execute_input": "2022-04-04T08:33:41.356405Z",
     "iopub.status.busy": "2022-04-04T08:33:41.355555Z",
     "iopub.status.idle": "2022-04-04T08:33:41.465093Z",
     "shell.execute_reply": "2022-04-04T08:33:41.464544Z",
     "shell.execute_reply.started": "2022-04-04T06:14:47.634069Z"
    },
    "papermill": {
     "duration": 0.17956,
     "end_time": "2022-04-04T08:33:41.465231",
     "exception": false,
     "start_time": "2022-04-04T08:33:41.285671",
     "status": "completed"
    },
    "tags": []
   },
   "outputs": [
    {
     "data": {
      "text/html": [
       "<style type=\"text/css\">\n",
       "#T_f378b_row0_col0 {\n",
       "  background-color: #08306b;\n",
       "  color: #000000;\n",
       "  width: 10em;\n",
       "  height: 80%;\n",
       "  background: linear-gradient(90deg,lavender 85.7%, transparent 85.7%);\n",
       "}\n",
       "#T_f378b_row0_col1 {\n",
       "  background-color: #d1e2f3;\n",
       "  color: #000000;\n",
       "  width: 10em;\n",
       "  height: 80%;\n",
       "  background: linear-gradient(90deg,wheat 6.3%, transparent 6.3%);\n",
       "}\n",
       "#T_f378b_row0_col2 {\n",
       "  background-color: #e4eff9;\n",
       "  color: #000000;\n",
       "  width: 10em;\n",
       "  height: 80%;\n",
       "  background: linear-gradient(90deg,peachpuff 0.9%, transparent 0.9%);\n",
       "}\n",
       "#T_f378b_row0_col3, #T_f378b_row1_col3, #T_f378b_row1_col4, #T_f378b_row1_col5, #T_f378b_row2_col3, #T_f378b_row2_col4, #T_f378b_row2_col5, #T_f378b_row3_col3, #T_f378b_row3_col4, #T_f378b_row3_col5, #T_f378b_row4_col3, #T_f378b_row4_col4, #T_f378b_row4_col5, #T_f378b_row5_col3, #T_f378b_row5_col4, #T_f378b_row5_col5 {\n",
       "  background-color: #f7fbff;\n",
       "  color: #000000;\n",
       "}\n",
       "#T_f378b_row0_col4 {\n",
       "  background-color: #deebf7;\n",
       "  color: #000000;\n",
       "}\n",
       "#T_f378b_row0_col5, #T_f378b_row3_col6 {\n",
       "  background-color: #d3e4f3;\n",
       "  color: #000000;\n",
       "}\n",
       "#T_f378b_row0_col6 {\n",
       "  background-color: #c6dbef;\n",
       "  color: #000000;\n",
       "}\n",
       "#T_f378b_row0_col7 {\n",
       "  background-color: #63a8d3;\n",
       "  color: #000000;\n",
       "  width: 10em;\n",
       "  height: 80%;\n",
       "  background: linear-gradient(90deg,steelblue 0.3%, transparent 0.3%);\n",
       "}\n",
       "#T_f378b_row1_col0 {\n",
       "  background-color: #08306b;\n",
       "  color: #000000;\n",
       "  width: 10em;\n",
       "  height: 80%;\n",
       "  background: linear-gradient(90deg,lavender 85.3%, transparent 85.3%);\n",
       "}\n",
       "#T_f378b_row1_col1 {\n",
       "  background-color: #08306b;\n",
       "  color: #000000;\n",
       "  width: 10em;\n",
       "  height: 80%;\n",
       "  background: linear-gradient(90deg,wheat 49.1%, transparent 49.1%);\n",
       "}\n",
       "#T_f378b_row1_col2 {\n",
       "  background-color: #08306b;\n",
       "  color: #000000;\n",
       "  width: 10em;\n",
       "  height: 80%;\n",
       "  background: linear-gradient(90deg,peachpuff 41.4%, transparent 41.4%);\n",
       "}\n",
       "#T_f378b_row1_col6 {\n",
       "  background-color: #b2d2e8;\n",
       "  color: #000000;\n",
       "}\n",
       "#T_f378b_row1_col7 {\n",
       "  background-color: #08306b;\n",
       "  color: #000000;\n",
       "  width: 10em;\n",
       "  height: 80%;\n",
       "  background: linear-gradient(90deg,steelblue 48.1%, transparent 48.1%);\n",
       "}\n",
       "#T_f378b_row2_col0, #T_f378b_row4_col0 {\n",
       "  background-color: #08306b;\n",
       "  color: #000000;\n",
       "  width: 10em;\n",
       "  height: 80%;\n",
       "  background: linear-gradient(90deg,lavender 85.0%, transparent 85.0%);\n",
       "}\n",
       "#T_f378b_row2_col1 {\n",
       "  background-color: #08306b;\n",
       "  color: #000000;\n",
       "  width: 10em;\n",
       "  height: 80%;\n",
       "  background: linear-gradient(90deg,wheat 100.0%, transparent 100.0%);\n",
       "}\n",
       "#T_f378b_row2_col2 {\n",
       "  background-color: #08306b;\n",
       "  color: #000000;\n",
       "  width: 10em;\n",
       "  height: 80%;\n",
       "  background: linear-gradient(90deg,peachpuff 100.0%, transparent 100.0%);\n",
       "}\n",
       "#T_f378b_row2_col6 {\n",
       "  background-color: #69add5;\n",
       "  color: #000000;\n",
       "}\n",
       "#T_f378b_row2_col7 {\n",
       "  background-color: #08306b;\n",
       "  color: #000000;\n",
       "  width: 10em;\n",
       "  height: 80%;\n",
       "  background: linear-gradient(90deg,steelblue 100.0%, transparent 100.0%);\n",
       "}\n",
       "#T_f378b_row3_col0 {\n",
       "  background-color: #08306b;\n",
       "  color: #000000;\n",
       "  width: 10em;\n",
       "  height: 80%;\n",
       "  background: linear-gradient(90deg,lavender 80.8%, transparent 80.8%);\n",
       "}\n",
       "#T_f378b_row3_col1 {\n",
       "  background-color: #08306b;\n",
       "  color: #000000;\n",
       "  width: 10em;\n",
       "  height: 80%;\n",
       "  background: linear-gradient(90deg,wheat 37.9%, transparent 37.9%);\n",
       "}\n",
       "#T_f378b_row3_col2 {\n",
       "  background-color: #08306b;\n",
       "  color: #000000;\n",
       "  width: 10em;\n",
       "  height: 80%;\n",
       "  background: linear-gradient(90deg,peachpuff 37.5%, transparent 37.5%);\n",
       "}\n",
       "#T_f378b_row3_col7 {\n",
       "  background-color: #08306b;\n",
       "  color: #000000;\n",
       "  width: 10em;\n",
       "  height: 80%;\n",
       "  background: linear-gradient(90deg,steelblue 78.8%, transparent 78.8%);\n",
       "}\n",
       "#T_f378b_row4_col1 {\n",
       "  background-color: #08306b;\n",
       "  color: #000000;\n",
       "  width: 10em;\n",
       "  height: 80%;\n",
       "  background: linear-gradient(90deg,wheat 67.9%, transparent 67.9%);\n",
       "}\n",
       "#T_f378b_row4_col2 {\n",
       "  background-color: #08306b;\n",
       "  color: #000000;\n",
       "  width: 10em;\n",
       "  height: 80%;\n",
       "  background: linear-gradient(90deg,peachpuff 70.5%, transparent 70.5%);\n",
       "}\n",
       "#T_f378b_row4_col6 {\n",
       "  background-color: #97c6df;\n",
       "  color: #000000;\n",
       "}\n",
       "#T_f378b_row4_col7 {\n",
       "  background-color: #08306b;\n",
       "  color: #000000;\n",
       "  width: 10em;\n",
       "  height: 80%;\n",
       "  background: linear-gradient(90deg,steelblue 75.2%, transparent 75.2%);\n",
       "}\n",
       "#T_f378b_row5_col0 {\n",
       "  background-color: #08306b;\n",
       "  color: #000000;\n",
       "  width: 10em;\n",
       "  height: 80%;\n",
       "  background: linear-gradient(90deg,lavender 84.2%, transparent 84.2%);\n",
       "}\n",
       "#T_f378b_row5_col1 {\n",
       "  background-color: #08306b;\n",
       "  color: #000000;\n",
       "  width: 10em;\n",
       "  height: 80%;\n",
       "  background: linear-gradient(90deg,wheat 66.6%, transparent 66.6%);\n",
       "}\n",
       "#T_f378b_row5_col2 {\n",
       "  background-color: #08306b;\n",
       "  color: #000000;\n",
       "  width: 10em;\n",
       "  height: 80%;\n",
       "  background: linear-gradient(90deg,peachpuff 71.1%, transparent 71.1%);\n",
       "}\n",
       "#T_f378b_row5_col6 {\n",
       "  background-color: #b4d3e9;\n",
       "  color: #000000;\n",
       "}\n",
       "#T_f378b_row5_col7 {\n",
       "  background-color: #08306b;\n",
       "  color: #000000;\n",
       "  width: 10em;\n",
       "  height: 80%;\n",
       "  background: linear-gradient(90deg,steelblue 80.9%, transparent 80.9%);\n",
       "}\n",
       "</style>\n",
       "<table id=\"T_f378b_\">\n",
       "  <thead>\n",
       "    <tr>\n",
       "      <th class=\"blank level0\" >&nbsp;</th>\n",
       "      <th class=\"col_heading level0 col0\" >count</th>\n",
       "      <th class=\"col_heading level0 col1\" >mean</th>\n",
       "      <th class=\"col_heading level0 col2\" >std</th>\n",
       "      <th class=\"col_heading level0 col3\" >min</th>\n",
       "      <th class=\"col_heading level0 col4\" >25%</th>\n",
       "      <th class=\"col_heading level0 col5\" >50%</th>\n",
       "      <th class=\"col_heading level0 col6\" >75%</th>\n",
       "      <th class=\"col_heading level0 col7\" >max</th>\n",
       "    </tr>\n",
       "  </thead>\n",
       "  <tbody>\n",
       "    <tr>\n",
       "      <th id=\"T_f378b_level0_row0\" class=\"row_heading level0 row0\" >Age</th>\n",
       "      <td id=\"T_f378b_row0_col0\" class=\"data row0 col0\" >8514.000000</td>\n",
       "      <td id=\"T_f378b_row0_col1\" class=\"data row0 col1\" >28.827930</td>\n",
       "      <td id=\"T_f378b_row0_col2\" class=\"data row0 col2\" >14.489021</td>\n",
       "      <td id=\"T_f378b_row0_col3\" class=\"data row0 col3\" >0.000000</td>\n",
       "      <td id=\"T_f378b_row0_col4\" class=\"data row0 col4\" >19.000000</td>\n",
       "      <td id=\"T_f378b_row0_col5\" class=\"data row0 col5\" >27.000000</td>\n",
       "      <td id=\"T_f378b_row0_col6\" class=\"data row0 col6\" >38.000000</td>\n",
       "      <td id=\"T_f378b_row0_col7\" class=\"data row0 col7\" >79.000000</td>\n",
       "    </tr>\n",
       "    <tr>\n",
       "      <th id=\"T_f378b_level0_row1\" class=\"row_heading level0 row1\" >RoomService</th>\n",
       "      <td id=\"T_f378b_row1_col0\" class=\"data row1 col0\" >8512.000000</td>\n",
       "      <td id=\"T_f378b_row1_col1\" class=\"data row1 col1\" >224.687617</td>\n",
       "      <td id=\"T_f378b_row1_col2\" class=\"data row1 col2\" >666.717663</td>\n",
       "      <td id=\"T_f378b_row1_col3\" class=\"data row1 col3\" >0.000000</td>\n",
       "      <td id=\"T_f378b_row1_col4\" class=\"data row1 col4\" >0.000000</td>\n",
       "      <td id=\"T_f378b_row1_col5\" class=\"data row1 col5\" >0.000000</td>\n",
       "      <td id=\"T_f378b_row1_col6\" class=\"data row1 col6\" >47.000000</td>\n",
       "      <td id=\"T_f378b_row1_col7\" class=\"data row1 col7\" >14327.000000</td>\n",
       "    </tr>\n",
       "    <tr>\n",
       "      <th id=\"T_f378b_level0_row2\" class=\"row_heading level0 row2\" >FoodCourt</th>\n",
       "      <td id=\"T_f378b_row2_col0\" class=\"data row2 col0\" >8510.000000</td>\n",
       "      <td id=\"T_f378b_row2_col1\" class=\"data row2 col1\" >458.077203</td>\n",
       "      <td id=\"T_f378b_row2_col2\" class=\"data row2 col2\" >1611.489240</td>\n",
       "      <td id=\"T_f378b_row2_col3\" class=\"data row2 col3\" >0.000000</td>\n",
       "      <td id=\"T_f378b_row2_col4\" class=\"data row2 col4\" >0.000000</td>\n",
       "      <td id=\"T_f378b_row2_col5\" class=\"data row2 col5\" >0.000000</td>\n",
       "      <td id=\"T_f378b_row2_col6\" class=\"data row2 col6\" >76.000000</td>\n",
       "      <td id=\"T_f378b_row2_col7\" class=\"data row2 col7\" >29813.000000</td>\n",
       "    </tr>\n",
       "    <tr>\n",
       "      <th id=\"T_f378b_level0_row3\" class=\"row_heading level0 row3\" >ShoppingMall</th>\n",
       "      <td id=\"T_f378b_row3_col0\" class=\"data row3 col0\" >8485.000000</td>\n",
       "      <td id=\"T_f378b_row3_col1\" class=\"data row3 col1\" >173.729169</td>\n",
       "      <td id=\"T_f378b_row3_col2\" class=\"data row3 col2\" >604.696458</td>\n",
       "      <td id=\"T_f378b_row3_col3\" class=\"data row3 col3\" >0.000000</td>\n",
       "      <td id=\"T_f378b_row3_col4\" class=\"data row3 col4\" >0.000000</td>\n",
       "      <td id=\"T_f378b_row3_col5\" class=\"data row3 col5\" >0.000000</td>\n",
       "      <td id=\"T_f378b_row3_col6\" class=\"data row3 col6\" >27.000000</td>\n",
       "      <td id=\"T_f378b_row3_col7\" class=\"data row3 col7\" >23492.000000</td>\n",
       "    </tr>\n",
       "    <tr>\n",
       "      <th id=\"T_f378b_level0_row4\" class=\"row_heading level0 row4\" >Spa</th>\n",
       "      <td id=\"T_f378b_row4_col0\" class=\"data row4 col0\" >8510.000000</td>\n",
       "      <td id=\"T_f378b_row4_col1\" class=\"data row4 col1\" >311.138778</td>\n",
       "      <td id=\"T_f378b_row4_col2\" class=\"data row4 col2\" >1136.705535</td>\n",
       "      <td id=\"T_f378b_row4_col3\" class=\"data row4 col3\" >0.000000</td>\n",
       "      <td id=\"T_f378b_row4_col4\" class=\"data row4 col4\" >0.000000</td>\n",
       "      <td id=\"T_f378b_row4_col5\" class=\"data row4 col5\" >0.000000</td>\n",
       "      <td id=\"T_f378b_row4_col6\" class=\"data row4 col6\" >59.000000</td>\n",
       "      <td id=\"T_f378b_row4_col7\" class=\"data row4 col7\" >22408.000000</td>\n",
       "    </tr>\n",
       "    <tr>\n",
       "      <th id=\"T_f378b_level0_row5\" class=\"row_heading level0 row5\" >VRDeck</th>\n",
       "      <td id=\"T_f378b_row5_col0\" class=\"data row5 col0\" >8505.000000</td>\n",
       "      <td id=\"T_f378b_row5_col1\" class=\"data row5 col1\" >304.854791</td>\n",
       "      <td id=\"T_f378b_row5_col2\" class=\"data row5 col2\" >1145.717189</td>\n",
       "      <td id=\"T_f378b_row5_col3\" class=\"data row5 col3\" >0.000000</td>\n",
       "      <td id=\"T_f378b_row5_col4\" class=\"data row5 col4\" >0.000000</td>\n",
       "      <td id=\"T_f378b_row5_col5\" class=\"data row5 col5\" >0.000000</td>\n",
       "      <td id=\"T_f378b_row5_col6\" class=\"data row5 col6\" >46.000000</td>\n",
       "      <td id=\"T_f378b_row5_col7\" class=\"data row5 col7\" >24133.000000</td>\n",
       "    </tr>\n",
       "  </tbody>\n",
       "</table>\n"
      ],
      "text/plain": [
       "<pandas.io.formats.style.Styler at 0x7f8e8c25d710>"
      ]
     },
     "execution_count": 10,
     "metadata": {},
     "output_type": "execute_result"
    }
   ],
   "source": [
    "train.describe().T.style.background_gradient(cmap=\"Blues\", axis=None,\n",
    "                          vmin=0, vmax=100, high=0.5, text_color_threshold=0)\\\n",
    "                    .bar(subset=[\"count\"], color=\"lavender\", vmin=8000, vmax=8600)\\\n",
    "                    .bar(subset=[\"mean\"], color=\"wheat\", vmin=0)\\\n",
    "                    .bar(subset=[\"std\"], color=\"peachpuff\", vmin=0)\\\n",
    "                    .bar(subset=[\"max\"], color=\"steelblue\", vmin=0)"
   ]
  },
  {
   "cell_type": "markdown",
   "id": "a858fc4c",
   "metadata": {
    "papermill": {
     "duration": 0.068403,
     "end_time": "2022-04-04T08:33:41.602803",
     "exception": false,
     "start_time": "2022-04-04T08:33:41.534400",
     "status": "completed"
    },
    "tags": []
   },
   "source": [
    "#### Except Age, more than half of each numeric variable is zero.\n",
    "   - They are amount the passenger has billed at each of many amenities\n",
    "   - Preprocessing such as feature engineering and one-hot encoding is required."
   ]
  },
  {
   "cell_type": "code",
   "execution_count": 11,
   "id": "e6e82542",
   "metadata": {
    "execution": {
     "iopub.execute_input": "2022-04-04T08:33:41.744782Z",
     "iopub.status.busy": "2022-04-04T08:33:41.743794Z",
     "iopub.status.idle": "2022-04-04T08:33:41.792544Z",
     "shell.execute_reply": "2022-04-04T08:33:41.793163Z",
     "shell.execute_reply.started": "2022-04-04T06:14:48.591974Z"
    },
    "papermill": {
     "duration": 0.121044,
     "end_time": "2022-04-04T08:33:41.793324",
     "exception": false,
     "start_time": "2022-04-04T08:33:41.672280",
     "status": "completed"
    },
    "tags": []
   },
   "outputs": [
    {
     "data": {
      "text/html": [
       "<style type=\"text/css\">\n",
       "#T_8b828_row0_col0 {\n",
       "  width: 10em;\n",
       "  height: 80%;\n",
       "  background: linear-gradient(90deg,lavender 100.0%, transparent 100.0%);\n",
       "}\n",
       "#T_8b828_row0_col1 {\n",
       "  width: 10em;\n",
       "  height: 80%;\n",
       "  background: linear-gradient(90deg,sandybrown 100.0%, transparent 100.0%);\n",
       "}\n",
       "#T_8b828_row1_col0 {\n",
       "  width: 10em;\n",
       "  height: 80%;\n",
       "  background: linear-gradient(90deg,lavender 82.0%, transparent 82.0%);\n",
       "}\n",
       "#T_8b828_row1_col1, #T_8b828_row4_col1 {\n",
       "  width: 10em;\n",
       "  height: 80%;\n",
       "  background: linear-gradient(90deg,sandybrown 0.0%, transparent 0.0%);\n",
       "}\n",
       "#T_8b828_row2_col0 {\n",
       "  width: 10em;\n",
       "  height: 80%;\n",
       "  background: linear-gradient(90deg,lavender 79.3%, transparent 79.3%);\n",
       "}\n",
       "#T_8b828_row2_col1, #T_8b828_row5_col1 {\n",
       "  width: 10em;\n",
       "  height: 80%;\n",
       "}\n",
       "#T_8b828_row3_col0 {\n",
       "  width: 10em;\n",
       "  height: 80%;\n",
       "  background: linear-gradient(90deg,lavender 82.3%, transparent 82.3%);\n",
       "}\n",
       "#T_8b828_row3_col1 {\n",
       "  width: 10em;\n",
       "  height: 80%;\n",
       "  background: linear-gradient(90deg,sandybrown 75.5%, transparent 75.5%);\n",
       "}\n",
       "#T_8b828_row4_col0 {\n",
       "  width: 10em;\n",
       "  height: 80%;\n",
       "  background: linear-gradient(90deg,lavender 85.2%, transparent 85.2%);\n",
       "}\n",
       "#T_8b828_row5_col0 {\n",
       "  width: 10em;\n",
       "  height: 80%;\n",
       "  background: linear-gradient(90deg,lavender 81.7%, transparent 81.7%);\n",
       "}\n",
       "#T_8b828_row6_col0 {\n",
       "  width: 10em;\n",
       "  height: 80%;\n",
       "  background: linear-gradient(90deg,lavender 82.2%, transparent 82.2%);\n",
       "}\n",
       "#T_8b828_row6_col1 {\n",
       "  width: 10em;\n",
       "  height: 80%;\n",
       "  background: linear-gradient(90deg,sandybrown 97.5%, transparent 97.5%);\n",
       "}\n",
       "</style>\n",
       "<table id=\"T_8b828_\">\n",
       "  <thead>\n",
       "    <tr>\n",
       "      <th class=\"blank level0\" >&nbsp;</th>\n",
       "      <th class=\"col_heading level0 col0\" >count</th>\n",
       "      <th class=\"col_heading level0 col1\" >unique</th>\n",
       "      <th class=\"col_heading level0 col2\" >top</th>\n",
       "      <th class=\"col_heading level0 col3\" >freq</th>\n",
       "    </tr>\n",
       "  </thead>\n",
       "  <tbody>\n",
       "    <tr>\n",
       "      <th id=\"T_8b828_level0_row0\" class=\"row_heading level0 row0\" >PassengerId</th>\n",
       "      <td id=\"T_8b828_row0_col0\" class=\"data row0 col0\" >8693</td>\n",
       "      <td id=\"T_8b828_row0_col1\" class=\"data row0 col1\" >8693</td>\n",
       "      <td id=\"T_8b828_row0_col2\" class=\"data row0 col2\" >0001_01</td>\n",
       "      <td id=\"T_8b828_row0_col3\" class=\"data row0 col3\" >1</td>\n",
       "    </tr>\n",
       "    <tr>\n",
       "      <th id=\"T_8b828_level0_row1\" class=\"row_heading level0 row1\" >HomePlanet</th>\n",
       "      <td id=\"T_8b828_row1_col0\" class=\"data row1 col0\" >8492</td>\n",
       "      <td id=\"T_8b828_row1_col1\" class=\"data row1 col1\" >3</td>\n",
       "      <td id=\"T_8b828_row1_col2\" class=\"data row1 col2\" >Earth</td>\n",
       "      <td id=\"T_8b828_row1_col3\" class=\"data row1 col3\" >4602</td>\n",
       "    </tr>\n",
       "    <tr>\n",
       "      <th id=\"T_8b828_level0_row2\" class=\"row_heading level0 row2\" >CryoSleep</th>\n",
       "      <td id=\"T_8b828_row2_col0\" class=\"data row2 col0\" >8476</td>\n",
       "      <td id=\"T_8b828_row2_col1\" class=\"data row2 col1\" >2</td>\n",
       "      <td id=\"T_8b828_row2_col2\" class=\"data row2 col2\" >False</td>\n",
       "      <td id=\"T_8b828_row2_col3\" class=\"data row2 col3\" >5439</td>\n",
       "    </tr>\n",
       "    <tr>\n",
       "      <th id=\"T_8b828_level0_row3\" class=\"row_heading level0 row3\" >Cabin</th>\n",
       "      <td id=\"T_8b828_row3_col0\" class=\"data row3 col0\" >8494</td>\n",
       "      <td id=\"T_8b828_row3_col1\" class=\"data row3 col1\" >6560</td>\n",
       "      <td id=\"T_8b828_row3_col2\" class=\"data row3 col2\" >G/734/S</td>\n",
       "      <td id=\"T_8b828_row3_col3\" class=\"data row3 col3\" >8</td>\n",
       "    </tr>\n",
       "    <tr>\n",
       "      <th id=\"T_8b828_level0_row4\" class=\"row_heading level0 row4\" >Destination</th>\n",
       "      <td id=\"T_8b828_row4_col0\" class=\"data row4 col0\" >8511</td>\n",
       "      <td id=\"T_8b828_row4_col1\" class=\"data row4 col1\" >3</td>\n",
       "      <td id=\"T_8b828_row4_col2\" class=\"data row4 col2\" >TRAPPIST-1e</td>\n",
       "      <td id=\"T_8b828_row4_col3\" class=\"data row4 col3\" >5915</td>\n",
       "    </tr>\n",
       "    <tr>\n",
       "      <th id=\"T_8b828_level0_row5\" class=\"row_heading level0 row5\" >VIP</th>\n",
       "      <td id=\"T_8b828_row5_col0\" class=\"data row5 col0\" >8490</td>\n",
       "      <td id=\"T_8b828_row5_col1\" class=\"data row5 col1\" >2</td>\n",
       "      <td id=\"T_8b828_row5_col2\" class=\"data row5 col2\" >False</td>\n",
       "      <td id=\"T_8b828_row5_col3\" class=\"data row5 col3\" >8291</td>\n",
       "    </tr>\n",
       "    <tr>\n",
       "      <th id=\"T_8b828_level0_row6\" class=\"row_heading level0 row6\" >Name</th>\n",
       "      <td id=\"T_8b828_row6_col0\" class=\"data row6 col0\" >8493</td>\n",
       "      <td id=\"T_8b828_row6_col1\" class=\"data row6 col1\" >8473</td>\n",
       "      <td id=\"T_8b828_row6_col2\" class=\"data row6 col2\" >Gollux Reedall</td>\n",
       "      <td id=\"T_8b828_row6_col3\" class=\"data row6 col3\" >2</td>\n",
       "    </tr>\n",
       "  </tbody>\n",
       "</table>\n"
      ],
      "text/plain": [
       "<pandas.io.formats.style.Styler at 0x7f8e89686e90>"
      ]
     },
     "execution_count": 11,
     "metadata": {},
     "output_type": "execute_result"
    }
   ],
   "source": [
    "train.describe(include=['O']).T.style.background_gradient()\\\n",
    "                    .bar(subset=[\"count\"], color=\"lavender\", vmin=8000, vmax=8600)\\\n",
    "                    .bar(subset=[\"unique\"], color=\"sandybrown\")"
   ]
  },
  {
   "cell_type": "markdown",
   "id": "80ce663c",
   "metadata": {
    "papermill": {
     "duration": 0.068607,
     "end_time": "2022-04-04T08:33:41.930271",
     "exception": false,
     "start_time": "2022-04-04T08:33:41.861664",
     "status": "completed"
    },
    "tags": []
   },
   "source": [
    "#### PassengerID, Cabin, and Name are text data, not categorical.\n",
    "  - They don't seem to be important to the performance of the model.\n",
    "  - In ML modeling, these features won't be used."
   ]
  },
  {
   "cell_type": "markdown",
   "id": "59e05b09",
   "metadata": {
    "papermill": {
     "duration": 0.069258,
     "end_time": "2022-04-04T08:33:42.068290",
     "exception": false,
     "start_time": "2022-04-04T08:33:41.999032",
     "status": "completed"
    },
    "tags": []
   },
   "source": []
  },
  {
   "cell_type": "markdown",
   "id": "b661afe4",
   "metadata": {
    "papermill": {
     "duration": 0.068462,
     "end_time": "2022-04-04T08:33:42.205432",
     "exception": false,
     "start_time": "2022-04-04T08:33:42.136970",
     "status": "completed"
    },
    "tags": []
   },
   "source": [
    "## Missing Value Distribution"
   ]
  },
  {
   "cell_type": "code",
   "execution_count": 12,
   "id": "f313f228",
   "metadata": {
    "execution": {
     "iopub.execute_input": "2022-04-04T08:33:42.346573Z",
     "iopub.status.busy": "2022-04-04T08:33:42.345634Z",
     "iopub.status.idle": "2022-04-04T08:33:42.365781Z",
     "shell.execute_reply": "2022-04-04T08:33:42.366230Z",
     "shell.execute_reply.started": "2022-04-04T06:14:49.376511Z"
    },
    "papermill": {
     "duration": 0.092502,
     "end_time": "2022-04-04T08:33:42.366402",
     "exception": false,
     "start_time": "2022-04-04T08:33:42.273900",
     "status": "completed"
    },
    "tags": []
   },
   "outputs": [],
   "source": [
    "train_miss = pd.DataFrame({'dtype' : train.iloc[:, :-1].dtypes,\n",
    "                           'missing' : train.iloc[:, :-1].isnull().sum()})\n",
    "test_miss = pd.DataFrame({'dtype' : test.dtypes,\n",
    "                          'missing' : test.isnull().sum()})"
   ]
  },
  {
   "cell_type": "code",
   "execution_count": 13,
   "id": "88b27473",
   "metadata": {
    "execution": {
     "iopub.execute_input": "2022-04-04T08:33:42.513044Z",
     "iopub.status.busy": "2022-04-04T08:33:42.512057Z",
     "iopub.status.idle": "2022-04-04T08:33:43.196771Z",
     "shell.execute_reply": "2022-04-04T08:33:43.197284Z",
     "shell.execute_reply.started": "2022-04-04T06:14:50.261172Z"
    },
    "papermill": {
     "duration": 0.762473,
     "end_time": "2022-04-04T08:33:43.197455",
     "exception": false,
     "start_time": "2022-04-04T08:33:42.434982",
     "status": "completed"
    },
    "tags": []
   },
   "outputs": [
    {
     "data": {
      "image/png": "[encoded data removed]",
      "text/plain": [
       "<Figure size 792x360 with 2 Axes>"
      ]
     },
     "metadata": {
      "needs_background": "light"
     },
     "output_type": "display_data"
    }
   ],
   "source": [
    "fig, ax = plt.subplots(1,2, figsize=(11,5))\n",
    "width = 0.5\n",
    "bar1 = ax[0].barh(sorted(train.columns[:-1].to_list(), reverse=True),\n",
    "                  train_miss['missing'].sort_index(ascending=False),\n",
    "                  width, color=\"cornflowerblue\")\n",
    "bar2 = ax[1].barh(sorted(test.columns.to_list(), reverse=True),\n",
    "                  test_miss['missing'].sort_index(ascending=False),\n",
    "                  width, color=\"lightsalmon\")\n",
    "\n",
    "ax[0].set_title(\"Missing in Train Data\", loc=\"left\", pad=10, size=15)\n",
    "ax[0].set_xlim(0,240)\n",
    "ax[1].set_title(\"Missing in Test Data\", loc=\"left\", pad=10, size=15)\n",
    "ax[1].set_xlim(0,120)\n",
    "\n",
    "ax[0].bar_label(bar1, padding=2, size=12)\n",
    "ax[1].bar_label(bar2, padding=2, size=12)\n",
    "\n",
    "fig.tight_layout()\n",
    "plt.show()"
   ]
  },
  {
   "cell_type": "markdown",
   "id": "3a445e66",
   "metadata": {
    "papermill": {
     "duration": 0.071903,
     "end_time": "2022-04-04T08:33:43.339415",
     "exception": false,
     "start_time": "2022-04-04T08:33:43.267512",
     "status": "completed"
    },
    "tags": []
   },
   "source": [
    "#### The ratio of missing values by feature is less than 10%.\n",
    "- The numerical features will be replaced by the median value.\n",
    "- The categorical features will be replaced by the most frequent value."
   ]
  },
  {
   "cell_type": "markdown",
   "id": "0df1bc42",
   "metadata": {
    "papermill": {
     "duration": 0.070672,
     "end_time": "2022-04-04T08:33:43.480546",
     "exception": false,
     "start_time": "2022-04-04T08:33:43.409874",
     "status": "completed"
    },
    "tags": []
   },
   "source": []
  },
  {
   "cell_type": "markdown",
   "id": "b0208de8",
   "metadata": {
    "papermill": {
     "duration": 0.069957,
     "end_time": "2022-04-04T08:33:43.620894",
     "exception": false,
     "start_time": "2022-04-04T08:33:43.550937",
     "status": "completed"
    },
    "tags": []
   },
   "source": [
    "## Categorical Feature Distribution"
   ]
  },
  {
   "cell_type": "code",
   "execution_count": 14,
   "id": "edeca597",
   "metadata": {
    "execution": {
     "iopub.execute_input": "2022-04-04T08:33:43.771081Z",
     "iopub.status.busy": "2022-04-04T08:33:43.764453Z",
     "iopub.status.idle": "2022-04-04T08:33:43.775121Z",
     "shell.execute_reply": "2022-04-04T08:33:43.774569Z",
     "shell.execute_reply.started": "2022-04-04T06:14:51.048047Z"
    },
    "papermill": {
     "duration": 0.08412,
     "end_time": "2022-04-04T08:33:43.775259",
     "exception": false,
     "start_time": "2022-04-04T08:33:43.691139",
     "status": "completed"
    },
    "tags": []
   },
   "outputs": [
    {
     "data": {
      "text/plain": [
       "['HomePlanet', 'CryoSleep', 'Destination', 'VIP']"
      ]
     },
     "execution_count": 14,
     "metadata": {},
     "output_type": "execute_result"
    }
   ],
   "source": [
    "train_cat = train.select_dtypes(include = 'object')\n",
    "test_cat = test.select_dtypes(include = 'object')\n",
    "col_cat = train_cat.columns.to_list()[1:6]\n",
    "del col_cat[2]\n",
    "col_cat"
   ]
  },
  {
   "cell_type": "code",
   "execution_count": 15,
   "id": "19a149b9",
   "metadata": {
    "execution": {
     "iopub.execute_input": "2022-04-04T08:33:43.919757Z",
     "iopub.status.busy": "2022-04-04T08:33:43.919120Z",
     "iopub.status.idle": "2022-04-04T08:33:44.592080Z",
     "shell.execute_reply": "2022-04-04T08:33:44.592547Z",
     "shell.execute_reply.started": "2022-04-04T06:14:51.865273Z"
    },
    "papermill": {
     "duration": 0.747199,
     "end_time": "2022-04-04T08:33:44.592736",
     "exception": false,
     "start_time": "2022-04-04T08:33:43.845537",
     "status": "completed"
    },
    "tags": []
   },
   "outputs": [
    {
     "data": {
      "image/png": "[encoded data removed]",
      "text/plain": [
       "<Figure size 720x504 with 4 Axes>"
      ]
     },
     "metadata": {
      "needs_background": "light"
     },
     "output_type": "display_data"
    }
   ],
   "source": [
    "fig, ax = plt.subplots(2,2,figsize=(10,7))\n",
    "\n",
    "width = 0.35\n",
    "x = []\n",
    "b = []\n",
    "b2 = []\n",
    "\n",
    "for i in range(2):\n",
    "    for j in range(2):\n",
    "        x.append(train_cat.loc[:,col_cat[2*i+j]].value_counts().index)\n",
    "        b.append(ax[i,j].bar(np.arange(len(x[2*i+j])) - width/2,\n",
    "                            train_cat.loc[:,col_cat[2*i+j]].value_counts().to_list(),\n",
    "                            width, label = \"Train Data\", color=\"cornflowerblue\"))\n",
    "        b2.append(ax[i,j].bar(np.arange(len(x[2*i+j])) + width/2,\n",
    "                            test_cat.loc[:,col_cat[2*i+j]].value_counts().to_list(),\n",
    "                            width, label = \"Test Data\", color=\"lightsalmon\"))\n",
    "        ax[i,j].bar_label(b[2*i+j], label_type='edge', size=12)\n",
    "        ax[i,j].bar_label(b2[2*i+j], label_type='edge', size=12)\n",
    "        ax[i,j].set_title(f'{col_cat[2*i+j]} Distribution',\n",
    "                          pad=10, size=15)\n",
    "        ax[i,j].set_xticks(np.arange(len(x[2*i+j])), x[2*i+j], size=12)\n",
    "        ax[i,j].legend(loc=\"best\", fontsize=12)\n",
    "\n",
    "ax[0,0].set_ylim(0,5000)\n",
    "ax[0,1].set_ylim(0,6000)\n",
    "ax[1,0].set_ylim(0,6500)\n",
    "ax[1,1].set_ylim(0,9000)\n",
    "        \n",
    "fig.tight_layout()\n",
    "plt.show()"
   ]
  },
  {
   "cell_type": "markdown",
   "id": "57d19c74",
   "metadata": {
    "papermill": {
     "duration": 0.072508,
     "end_time": "2022-04-04T08:33:44.738152",
     "exception": false,
     "start_time": "2022-04-04T08:33:44.665644",
     "status": "completed"
    },
    "tags": []
   },
   "source": [
    "#### The distribution in the training set and the test set is similar.\n",
    "**HomePlanet**<br/>3 categories. - 'Earth' account for more than half.\n",
    "\n",
    "**CryoSleep**<br/>False / True. - False is nearly twice as many as True.\n",
    "\n",
    "**Destination**<br/>3 categories. - 'TRAPPIST-1e' accounts for about 70 percent.\n",
    "\n",
    "**VIP**<br/>False / True. - False accounts for almost all data"
   ]
  },
  {
   "cell_type": "markdown",
   "id": "ef26d7a9",
   "metadata": {
    "papermill": {
     "duration": 0.072056,
     "end_time": "2022-04-04T08:33:44.883132",
     "exception": false,
     "start_time": "2022-04-04T08:33:44.811076",
     "status": "completed"
    },
    "tags": []
   },
   "source": []
  },
  {
   "cell_type": "markdown",
   "id": "6c930455",
   "metadata": {
    "papermill": {
     "duration": 0.074141,
     "end_time": "2022-04-04T08:33:45.030447",
     "exception": false,
     "start_time": "2022-04-04T08:33:44.956306",
     "status": "completed"
    },
    "tags": []
   },
   "source": [
    "## Numeric Feature Distribution"
   ]
  },
  {
   "cell_type": "code",
   "execution_count": 16,
   "id": "67992366",
   "metadata": {
    "execution": {
     "iopub.execute_input": "2022-04-04T08:33:45.187957Z",
     "iopub.status.busy": "2022-04-04T08:33:45.187303Z",
     "iopub.status.idle": "2022-04-04T08:33:45.189712Z",
     "shell.execute_reply": "2022-04-04T08:33:45.190187Z",
     "shell.execute_reply.started": "2022-04-04T08:25:12.105858Z"
    },
    "papermill": {
     "duration": 0.085893,
     "end_time": "2022-04-04T08:33:45.190346",
     "exception": false,
     "start_time": "2022-04-04T08:33:45.104453",
     "status": "completed"
    },
    "tags": []
   },
   "outputs": [
    {
     "data": {
      "text/plain": [
       "['Age', 'RoomService', 'FoodCourt', 'ShoppingMall', 'Spa', 'VRDeck']"
      ]
     },
     "execution_count": 16,
     "metadata": {},
     "output_type": "execute_result"
    }
   ],
   "source": [
    "numeric = ['int8', 'int16', 'int32', 'int64', 'float16', 'float32', 'float64']\n",
    "train_num = train.select_dtypes(include = numeric)\n",
    "test_num = test.select_dtypes(include = numeric)\n",
    "col_num = train_num.columns.to_list()\n",
    "col_num"
   ]
  },
  {
   "cell_type": "code",
   "execution_count": 17,
   "id": "46d74010",
   "metadata": {
    "execution": {
     "iopub.execute_input": "2022-04-04T08:33:45.339715Z",
     "iopub.status.busy": "2022-04-04T08:33:45.339104Z",
     "iopub.status.idle": "2022-04-04T08:33:45.987143Z",
     "shell.execute_reply": "2022-04-04T08:33:45.986589Z",
     "shell.execute_reply.started": "2022-04-04T06:14:53.902770Z"
    },
    "papermill": {
     "duration": 0.72413,
     "end_time": "2022-04-04T08:33:45.987289",
     "exception": false,
     "start_time": "2022-04-04T08:33:45.263159",
     "status": "completed"
    },
    "tags": []
   },
   "outputs": [
    {
     "data": {
      "image/png": "[encoded data removed]",
      "text/plain": [
       "<Figure size 720x504 with 6 Axes>"
      ]
     },
     "metadata": {
      "needs_background": "light"
     },
     "output_type": "display_data"
    }
   ],
   "source": [
    "fig, ax = plt.subplots(3,2,figsize=(10,7))\n",
    "\n",
    "for i in range(3):\n",
    "    for j in range(2):\n",
    "        ax[i, j].boxplot(train_num.iloc[:,2*i+j].tolist()[:10], 0, 'rD', vert=0)\n",
    "        ax[i, j].set_title(col_num[2*i+j], pad=7, size=15)\n",
    "\n",
    "fig.tight_layout()\n",
    "plt.show()"
   ]
  },
  {
   "cell_type": "markdown",
   "id": "b6a730cf",
   "metadata": {
    "papermill": {
     "duration": 0.090757,
     "end_time": "2022-04-04T08:33:46.156401",
     "exception": false,
     "start_time": "2022-04-04T08:33:46.065644",
     "status": "completed"
    },
    "tags": []
   },
   "source": [
    "#### Except Age, all numeric features have a very unbalanced distribution.\n",
    "- They seem necessary to convert variables such as encoding, scaling, and standardization."
   ]
  },
  {
   "cell_type": "markdown",
   "id": "061ae246",
   "metadata": {
    "papermill": {
     "duration": 0.077873,
     "end_time": "2022-04-04T08:33:46.319492",
     "exception": false,
     "start_time": "2022-04-04T08:33:46.241619",
     "status": "completed"
    },
    "tags": []
   },
   "source": []
  },
  {
   "cell_type": "markdown",
   "id": "6d0c2726",
   "metadata": {
    "papermill": {
     "duration": 0.073645,
     "end_time": "2022-04-04T08:33:46.481553",
     "exception": false,
     "start_time": "2022-04-04T08:33:46.407908",
     "status": "completed"
    },
    "tags": []
   },
   "source": [
    "## Feature Correlation"
   ]
  },
  {
   "cell_type": "code",
   "execution_count": 18,
   "id": "53b9c064",
   "metadata": {
    "execution": {
     "iopub.execute_input": "2022-04-04T08:33:46.636727Z",
     "iopub.status.busy": "2022-04-04T08:33:46.633923Z",
     "iopub.status.idle": "2022-04-04T08:33:46.660498Z",
     "shell.execute_reply": "2022-04-04T08:33:46.661127Z",
     "shell.execute_reply.started": "2022-04-04T06:14:54.909442Z"
    },
    "papermill": {
     "duration": 0.1051,
     "end_time": "2022-04-04T08:33:46.661308",
     "exception": false,
     "start_time": "2022-04-04T08:33:46.556208",
     "status": "completed"
    },
    "tags": []
   },
   "outputs": [
    {
     "data": {
      "text/html": [
       "<style type=\"text/css\">\n",
       "#T_f08a0_row0_col0, #T_f08a0_row1_col1, #T_f08a0_row2_col2, #T_f08a0_row3_col3, #T_f08a0_row4_col4, #T_f08a0_row5_col5 {\n",
       "  background-color: #053061;\n",
       "  color: #f1f1f1;\n",
       "}\n",
       "#T_f08a0_row0_col1, #T_f08a0_row1_col0 {\n",
       "  background-color: #d7e8f1;\n",
       "  color: #000000;\n",
       "}\n",
       "#T_f08a0_row0_col2, #T_f08a0_row2_col0 {\n",
       "  background-color: #a9d1e5;\n",
       "  color: #000000;\n",
       "}\n",
       "#T_f08a0_row0_col3, #T_f08a0_row3_col0 {\n",
       "  background-color: #e7f0f4;\n",
       "  color: #000000;\n",
       "}\n",
       "#T_f08a0_row0_col4, #T_f08a0_row4_col0 {\n",
       "  background-color: #aed3e6;\n",
       "  color: #000000;\n",
       "}\n",
       "#T_f08a0_row0_col5, #T_f08a0_row5_col0 {\n",
       "  background-color: #c0dceb;\n",
       "  color: #000000;\n",
       "}\n",
       "#T_f08a0_row1_col2, #T_f08a0_row2_col1 {\n",
       "  background-color: #f8f1ed;\n",
       "  color: #000000;\n",
       "}\n",
       "#T_f08a0_row1_col3, #T_f08a0_row3_col1 {\n",
       "  background-color: #ddebf2;\n",
       "  color: #000000;\n",
       "}\n",
       "#T_f08a0_row1_col4, #T_f08a0_row4_col1 {\n",
       "  background-color: #f2f5f6;\n",
       "  color: #000000;\n",
       "}\n",
       "#T_f08a0_row1_col5, #T_f08a0_row5_col1 {\n",
       "  background-color: #f9f0eb;\n",
       "  color: #000000;\n",
       "}\n",
       "#T_f08a0_row2_col3, #T_f08a0_row3_col2 {\n",
       "  background-color: #f8f2ef;\n",
       "  color: #000000;\n",
       "}\n",
       "#T_f08a0_row2_col4, #T_f08a0_row4_col2 {\n",
       "  background-color: #529dc8;\n",
       "  color: #f1f1f1;\n",
       "}\n",
       "#T_f08a0_row2_col5, #T_f08a0_row5_col2 {\n",
       "  background-color: #4f9bc7;\n",
       "  color: #f1f1f1;\n",
       "}\n",
       "#T_f08a0_row3_col4, #T_f08a0_row4_col3 {\n",
       "  background-color: #f0f4f6;\n",
       "  color: #000000;\n",
       "}\n",
       "#T_f08a0_row3_col5, #T_f08a0_row5_col3 {\n",
       "  background-color: #f8f4f2;\n",
       "  color: #000000;\n",
       "}\n",
       "#T_f08a0_row4_col5, #T_f08a0_row5_col4 {\n",
       "  background-color: #96c7df;\n",
       "  color: #000000;\n",
       "}\n",
       "</style>\n",
       "<table id=\"T_f08a0_\">\n",
       "  <thead>\n",
       "    <tr>\n",
       "      <th class=\"blank level0\" >&nbsp;</th>\n",
       "      <th class=\"col_heading level0 col0\" >Age</th>\n",
       "      <th class=\"col_heading level0 col1\" >RoomService</th>\n",
       "      <th class=\"col_heading level0 col2\" >FoodCourt</th>\n",
       "      <th class=\"col_heading level0 col3\" >ShoppingMall</th>\n",
       "      <th class=\"col_heading level0 col4\" >Spa</th>\n",
       "      <th class=\"col_heading level0 col5\" >VRDeck</th>\n",
       "    </tr>\n",
       "  </thead>\n",
       "  <tbody>\n",
       "    <tr>\n",
       "      <th id=\"T_f08a0_level0_row0\" class=\"row_heading level0 row0\" >Age</th>\n",
       "      <td id=\"T_f08a0_row0_col0\" class=\"data row0 col0\" >1.000000</td>\n",
       "      <td id=\"T_f08a0_row0_col1\" class=\"data row0 col1\" >0.068723</td>\n",
       "      <td id=\"T_f08a0_row0_col2\" class=\"data row0 col2\" >0.130421</td>\n",
       "      <td id=\"T_f08a0_row0_col3\" class=\"data row0 col3\" >0.033133</td>\n",
       "      <td id=\"T_f08a0_row0_col4\" class=\"data row0 col4\" >0.123970</td>\n",
       "      <td id=\"T_f08a0_row0_col5\" class=\"data row0 col5\" >0.101007</td>\n",
       "    </tr>\n",
       "    <tr>\n",
       "      <th id=\"T_f08a0_level0_row1\" class=\"row_heading level0 row1\" >RoomService</th>\n",
       "      <td id=\"T_f08a0_row1_col0\" class=\"data row1 col0\" >0.068723</td>\n",
       "      <td id=\"T_f08a0_row1_col1\" class=\"data row1 col1\" >1.000000</td>\n",
       "      <td id=\"T_f08a0_row1_col2\" class=\"data row1 col2\" >-0.015889</td>\n",
       "      <td id=\"T_f08a0_row1_col3\" class=\"data row1 col3\" >0.054480</td>\n",
       "      <td id=\"T_f08a0_row1_col4\" class=\"data row1 col4\" >0.010080</td>\n",
       "      <td id=\"T_f08a0_row1_col5\" class=\"data row1 col5\" >-0.019581</td>\n",
       "    </tr>\n",
       "    <tr>\n",
       "      <th id=\"T_f08a0_level0_row2\" class=\"row_heading level0 row2\" >FoodCourt</th>\n",
       "      <td id=\"T_f08a0_row2_col0\" class=\"data row2 col0\" >0.130421</td>\n",
       "      <td id=\"T_f08a0_row2_col1\" class=\"data row2 col1\" >-0.015889</td>\n",
       "      <td id=\"T_f08a0_row2_col2\" class=\"data row2 col2\" >1.000000</td>\n",
       "      <td id=\"T_f08a0_row2_col3\" class=\"data row2 col3\" >-0.014228</td>\n",
       "      <td id=\"T_f08a0_row2_col4\" class=\"data row2 col4\" >0.221891</td>\n",
       "      <td id=\"T_f08a0_row2_col5\" class=\"data row2 col5\" >0.227995</td>\n",
       "    </tr>\n",
       "    <tr>\n",
       "      <th id=\"T_f08a0_level0_row3\" class=\"row_heading level0 row3\" >ShoppingMall</th>\n",
       "      <td id=\"T_f08a0_row3_col0\" class=\"data row3 col0\" >0.033133</td>\n",
       "      <td id=\"T_f08a0_row3_col1\" class=\"data row3 col1\" >0.054480</td>\n",
       "      <td id=\"T_f08a0_row3_col2\" class=\"data row3 col2\" >-0.014228</td>\n",
       "      <td id=\"T_f08a0_row3_col3\" class=\"data row3 col3\" >1.000000</td>\n",
       "      <td id=\"T_f08a0_row3_col4\" class=\"data row3 col4\" >0.013879</td>\n",
       "      <td id=\"T_f08a0_row3_col5\" class=\"data row3 col5\" >-0.007322</td>\n",
       "    </tr>\n",
       "    <tr>\n",
       "      <th id=\"T_f08a0_level0_row4\" class=\"row_heading level0 row4\" >Spa</th>\n",
       "      <td id=\"T_f08a0_row4_col0\" class=\"data row4 col0\" >0.123970</td>\n",
       "      <td id=\"T_f08a0_row4_col1\" class=\"data row4 col1\" >0.010080</td>\n",
       "      <td id=\"T_f08a0_row4_col2\" class=\"data row4 col2\" >0.221891</td>\n",
       "      <td id=\"T_f08a0_row4_col3\" class=\"data row4 col3\" >0.013879</td>\n",
       "      <td id=\"T_f08a0_row4_col4\" class=\"data row4 col4\" >1.000000</td>\n",
       "      <td id=\"T_f08a0_row4_col5\" class=\"data row4 col5\" >0.153821</td>\n",
       "    </tr>\n",
       "    <tr>\n",
       "      <th id=\"T_f08a0_level0_row5\" class=\"row_heading level0 row5\" >VRDeck</th>\n",
       "      <td id=\"T_f08a0_row5_col0\" class=\"data row5 col0\" >0.101007</td>\n",
       "      <td id=\"T_f08a0_row5_col1\" class=\"data row5 col1\" >-0.019581</td>\n",
       "      <td id=\"T_f08a0_row5_col2\" class=\"data row5 col2\" >0.227995</td>\n",
       "      <td id=\"T_f08a0_row5_col3\" class=\"data row5 col3\" >-0.007322</td>\n",
       "      <td id=\"T_f08a0_row5_col4\" class=\"data row5 col4\" >0.153821</td>\n",
       "      <td id=\"T_f08a0_row5_col5\" class=\"data row5 col5\" >1.000000</td>\n",
       "    </tr>\n",
       "  </tbody>\n",
       "</table>\n"
      ],
      "text/plain": [
       "<pandas.io.formats.style.Styler at 0x7f8e88996150>"
      ]
     },
     "execution_count": 18,
     "metadata": {},
     "output_type": "execute_result"
    }
   ],
   "source": [
    "train.iloc[:,:-1].corr().style.background_gradient(\n",
    "                        cmap=\"RdBu\", axis=None, vmin=-0.4, vmax=0.4)"
   ]
  },
  {
   "cell_type": "markdown",
   "id": "9e760940",
   "metadata": {
    "papermill": {
     "duration": 0.075737,
     "end_time": "2022-04-04T08:33:46.811923",
     "exception": false,
     "start_time": "2022-04-04T08:33:46.736186",
     "status": "completed"
    },
    "tags": []
   },
   "source": [
    "#### There seems to be little correlation between features.\n",
    "- Issues such as multicollinearity don't have to be considered."
   ]
  },
  {
   "cell_type": "markdown",
   "id": "3ed1df81",
   "metadata": {
    "papermill": {
     "duration": 0.074722,
     "end_time": "2022-04-04T08:33:46.961652",
     "exception": false,
     "start_time": "2022-04-04T08:33:46.886930",
     "status": "completed"
    },
    "tags": []
   },
   "source": [
    "## Target Distribution"
   ]
  },
  {
   "cell_type": "code",
   "execution_count": 19,
   "id": "56e47c0e",
   "metadata": {
    "execution": {
     "iopub.execute_input": "2022-04-04T08:33:47.117443Z",
     "iopub.status.busy": "2022-04-04T08:33:47.116481Z",
     "iopub.status.idle": "2022-04-04T08:33:47.474559Z",
     "shell.execute_reply": "2022-04-04T08:33:47.473967Z",
     "shell.execute_reply.started": "2022-04-04T06:14:55.759585Z"
    },
    "papermill": {
     "duration": 0.437245,
     "end_time": "2022-04-04T08:33:47.474718",
     "exception": false,
     "start_time": "2022-04-04T08:33:47.037473",
     "status": "completed"
    },
    "tags": []
   },
   "outputs": [
    {
     "data": {
      "image/png": "[encoded data removed]",
      "text/plain": [
       "<Figure size 360x360 with 1 Axes>"
      ]
     },
     "metadata": {},
     "output_type": "display_data"
    }
   ],
   "source": [
    "fig, ax = plt.subplots(figsize=(5,5))\n",
    "\n",
    "labels = train[\"Transported\"].value_counts().index\n",
    "lst = train[\"Transported\"].value_counts().to_list()\n",
    "pie = ax.pie(lst, labels = labels, autopct='%.2f%%',\n",
    "             textprops=dict(color=\"white\", fontsize=15, weight=\"bold\"),\n",
    "             colors=[\"cornflowerblue\", \"lightsalmon\"], shadow=True,\n",
    "             wedgeprops=dict(width=0.75), startangle=45, explode=(0.025,0))\n",
    "\n",
    "ax.set_title(\"Target Distribution\", size=20)\n",
    "ax.legend(title=\"Transported\", title_fontsize=12, loc='best', fontsize=12)\n",
    "\n",
    "plt.show()"
   ]
  },
  {
   "cell_type": "code",
   "execution_count": 20,
   "id": "094cc274",
   "metadata": {
    "execution": {
     "iopub.execute_input": "2022-04-04T08:33:47.629687Z",
     "iopub.status.busy": "2022-04-04T08:33:47.629085Z",
     "iopub.status.idle": "2022-04-04T08:33:47.635300Z",
     "shell.execute_reply": "2022-04-04T08:33:47.635839Z",
     "shell.execute_reply.started": "2022-04-04T06:14:56.713331Z"
    },
    "papermill": {
     "duration": 0.085455,
     "end_time": "2022-04-04T08:33:47.636009",
     "exception": false,
     "start_time": "2022-04-04T08:33:47.550554",
     "status": "completed"
    },
    "tags": []
   },
   "outputs": [],
   "source": [
    "train_0 = train[train['Transported']==False]\n",
    "train_1 = train[train['Transported']==True]"
   ]
  },
  {
   "cell_type": "code",
   "execution_count": 21,
   "id": "053edbe8",
   "metadata": {
    "execution": {
     "iopub.execute_input": "2022-04-04T08:33:47.793865Z",
     "iopub.status.busy": "2022-04-04T08:33:47.793173Z",
     "iopub.status.idle": "2022-04-04T08:33:48.489378Z",
     "shell.execute_reply": "2022-04-04T08:33:48.489900Z",
     "shell.execute_reply.started": "2022-04-04T06:14:57.598148Z"
    },
    "papermill": {
     "duration": 0.775884,
     "end_time": "2022-04-04T08:33:48.490085",
     "exception": false,
     "start_time": "2022-04-04T08:33:47.714201",
     "status": "completed"
    },
    "tags": []
   },
   "outputs": [
    {
     "data": {
      "image/png": "[encoded data removed]",
      "text/plain": [
       "<Figure size 720x504 with 4 Axes>"
      ]
     },
     "metadata": {
      "needs_background": "light"
     },
     "output_type": "display_data"
    }
   ],
   "source": [
    "fig, ax = plt.subplots(2,2,figsize=(10,7))\n",
    "\n",
    "width = 0.35\n",
    "x = []\n",
    "b = []\n",
    "b2 = []\n",
    "\n",
    "for i in range(2):\n",
    "    for j in range(2):\n",
    "        x.append(train_cat.loc[:,col_cat[2*i+j]].value_counts().index)\n",
    "        b.append(ax[i,j].bar(np.arange(len(x[2*i+j])) - width/2,\n",
    "                            train_1.loc[:,col_cat[2*i+j]].value_counts().to_list(),\n",
    "                            width, label = \"Target True\", color=\"cornflowerblue\"))\n",
    "        b2.append(ax[i,j].bar(np.arange(len(x[2*i+j])) + width/2,\n",
    "                            train_0.loc[:,col_cat[2*i+j]].value_counts().to_list(),\n",
    "                            width, label = \"Target False\", color=\"lightsalmon\"))\n",
    "        ax[i,j].bar_label(b[2*i+j], label_type='edge', size=12)\n",
    "        ax[i,j].bar_label(b2[2*i+j], label_type='edge', size=12)\n",
    "        ax[i,j].set_title(f'{col_cat[2*i+j]} by Target',\n",
    "                          pad=10, size=15)\n",
    "        ax[i,j].set_xticks(np.arange(len(x[2*i+j])), x[2*i+j], size=12)\n",
    "        ax[i,j].legend(loc=\"best\", fontsize=12)\n",
    "\n",
    "ax[0,0].set_ylim(0,3000)\n",
    "ax[0,1].set_ylim(0,4000)\n",
    "ax[1,0].set_ylim(0,4000)\n",
    "ax[1,1].set_ylim(0,5000)\n",
    "\n",
    "fig.tight_layout()\n",
    "plt.show()"
   ]
  },
  {
   "cell_type": "markdown",
   "id": "17c0e19b",
   "metadata": {
    "papermill": {
     "duration": 0.077543,
     "end_time": "2022-04-04T08:33:48.646605",
     "exception": false,
     "start_time": "2022-04-04T08:33:48.569062",
     "status": "completed"
    },
    "tags": []
   },
   "source": [
    "#### Differences in distribution of categorical variables according to target values\n",
    "**HomePlanet**<br/>\n",
    "In Earth, False percentage of Tranported is certainly high.<br/>\n",
    "In Europa, on the contrary, True percentage of Tranported is certainly high.<br/>\n",
    "In Mars, there is not much difference in Transported.\n",
    "\n",
    "**CryoSleep**<br/>\n",
    "If CryoSleep is False, False percentage of Tranported is certainly high.<br/>\n",
    "When it's True, on the contrary, True percentage of Tranported is about 80%.\n",
    "\n",
    "**Destination**<br/>\n",
    "In all cases of Destination, there is not much difference in Transported.\n",
    "\n",
    "**VIP**<br/>\n",
    "Whether VIP is False or True, there is not much difference in Transported."
   ]
  },
  {
   "cell_type": "markdown",
   "id": "f436d645",
   "metadata": {
    "papermill": {
     "duration": 0.077156,
     "end_time": "2022-04-04T08:33:48.801669",
     "exception": false,
     "start_time": "2022-04-04T08:33:48.724513",
     "status": "completed"
    },
    "tags": []
   },
   "source": []
  },
  {
   "cell_type": "markdown",
   "id": "b75ae221",
   "metadata": {
    "papermill": {
     "duration": 0.078762,
     "end_time": "2022-04-04T08:33:48.957963",
     "exception": false,
     "start_time": "2022-04-04T08:33:48.879201",
     "status": "completed"
    },
    "tags": []
   },
   "source": [
    "# Step 3. Data Preproccessing\n",
    "#### - Feature engineering, standardization, one-hot encoding, etc\n",
    "#### - Create derived variables and descibe why you made this variable."
   ]
  },
  {
   "cell_type": "markdown",
   "id": "7e84cfe0",
   "metadata": {
    "papermill": {
     "duration": 0.080005,
     "end_time": "2022-04-04T08:33:49.116769",
     "exception": false,
     "start_time": "2022-04-04T08:33:49.036764",
     "status": "completed"
    },
    "tags": []
   },
   "source": [
    "## Removal of unnecessary variables\n",
    "- Text features, such as PassengerID, Cabin, and Name, is not necessary in ML model.\n",
    "- PassengerId will be used in the final submission data."
   ]
  },
  {
   "cell_type": "code",
   "execution_count": 22,
   "id": "8111dab5",
   "metadata": {
    "execution": {
     "iopub.execute_input": "2022-04-04T08:33:49.283087Z",
     "iopub.status.busy": "2022-04-04T08:33:49.282069Z",
     "iopub.status.idle": "2022-04-04T08:33:49.286351Z",
     "shell.execute_reply": "2022-04-04T08:33:49.286823Z",
     "shell.execute_reply.started": "2022-04-04T08:20:27.526866Z"
    },
    "papermill": {
     "duration": 0.09233,
     "end_time": "2022-04-04T08:33:49.287000",
     "exception": false,
     "start_time": "2022-04-04T08:33:49.194670",
     "status": "completed"
    },
    "tags": []
   },
   "outputs": [
    {
     "name": "stdout",
     "output_type": "stream",
     "text": [
      "Before Removal\n",
      "\tTrain data: (8693, 14) / Test data: (4277, 13)\n",
      "After Removal\n",
      "\tTrain data: (8693, 11) / Test data: (4277, 10)\n"
     ]
    }
   ],
   "source": [
    "remove_cols = ['PassengerId', 'Name', 'Cabin']\n",
    "PassengerId = test['PassengerId']\n",
    "\n",
    "print(\"Before Removal\")\n",
    "print(\"\\tTrain data:\", train.shape, \"/ Test data:\", test.shape)\n",
    "train_data = train.drop(remove_cols, axis=1)\n",
    "test_data = test.drop(remove_cols, axis=1)\n",
    "\n",
    "print(\"After Removal\")\n",
    "print(\"\\tTrain data:\", train_data.shape, \"/ Test data:\", test_data.shape)"
   ]
  },
  {
   "cell_type": "markdown",
   "id": "d60c274e",
   "metadata": {
    "papermill": {
     "duration": 0.097963,
     "end_time": "2022-04-04T08:33:49.472563",
     "exception": false,
     "start_time": "2022-04-04T08:33:49.374600",
     "status": "completed"
    },
    "tags": []
   },
   "source": []
  },
  {
   "cell_type": "markdown",
   "id": "923d0599",
   "metadata": {
    "papermill": {
     "duration": 0.078097,
     "end_time": "2022-04-04T08:33:49.629832",
     "exception": false,
     "start_time": "2022-04-04T08:33:49.551735",
     "status": "completed"
    },
    "tags": []
   },
   "source": [
    "## Imputation of missing value"
   ]
  },
  {
   "cell_type": "code",
   "execution_count": 23,
   "id": "99fb3048",
   "metadata": {
    "execution": {
     "iopub.execute_input": "2022-04-04T08:33:49.789669Z",
     "iopub.status.busy": "2022-04-04T08:33:49.789058Z",
     "iopub.status.idle": "2022-04-04T08:33:49.816393Z",
     "shell.execute_reply": "2022-04-04T08:33:49.815901Z",
     "shell.execute_reply.started": "2022-04-04T06:57:27.361193Z"
    },
    "papermill": {
     "duration": 0.108464,
     "end_time": "2022-04-04T08:33:49.816534",
     "exception": false,
     "start_time": "2022-04-04T08:33:49.708070",
     "status": "completed"
    },
    "tags": []
   },
   "outputs": [
    {
     "data": {
      "text/html": [
       "<div>\n",
       "<style scoped>\n",
       "    .dataframe tbody tr th:only-of-type {\n",
       "        vertical-align: middle;\n",
       "    }\n",
       "\n",
       "    .dataframe tbody tr th {\n",
       "        vertical-align: top;\n",
       "    }\n",
       "\n",
       "    .dataframe thead th {\n",
       "        text-align: right;\n",
       "    }\n",
       "</style>\n",
       "<table border=\"1\" class=\"dataframe\">\n",
       "  <thead>\n",
       "    <tr style=\"text-align: right;\">\n",
       "      <th></th>\n",
       "      <th>Age</th>\n",
       "      <th>CryoSleep</th>\n",
       "      <th>Destination</th>\n",
       "      <th>FoodCourt</th>\n",
       "      <th>HomePlanet</th>\n",
       "      <th>RoomService</th>\n",
       "      <th>ShoppingMall</th>\n",
       "      <th>Spa</th>\n",
       "      <th>Transported</th>\n",
       "      <th>VIP</th>\n",
       "      <th>VRDeck</th>\n",
       "    </tr>\n",
       "  </thead>\n",
       "  <tbody>\n",
       "    <tr>\n",
       "      <th>train</th>\n",
       "      <td>179.0</td>\n",
       "      <td>217.0</td>\n",
       "      <td>182.0</td>\n",
       "      <td>183.0</td>\n",
       "      <td>201.0</td>\n",
       "      <td>181.0</td>\n",
       "      <td>208.0</td>\n",
       "      <td>183.0</td>\n",
       "      <td>0.0</td>\n",
       "      <td>203.0</td>\n",
       "      <td>188.0</td>\n",
       "    </tr>\n",
       "    <tr>\n",
       "      <th>test</th>\n",
       "      <td>91.0</td>\n",
       "      <td>93.0</td>\n",
       "      <td>92.0</td>\n",
       "      <td>106.0</td>\n",
       "      <td>87.0</td>\n",
       "      <td>82.0</td>\n",
       "      <td>98.0</td>\n",
       "      <td>101.0</td>\n",
       "      <td>NaN</td>\n",
       "      <td>93.0</td>\n",
       "      <td>80.0</td>\n",
       "    </tr>\n",
       "  </tbody>\n",
       "</table>\n",
       "</div>"
      ],
      "text/plain": [
       "         Age  CryoSleep  Destination  FoodCourt  HomePlanet  RoomService  \\\n",
       "train  179.0      217.0        182.0      183.0       201.0        181.0   \n",
       "test    91.0       93.0         92.0      106.0        87.0         82.0   \n",
       "\n",
       "       ShoppingMall    Spa  Transported    VIP  VRDeck  \n",
       "train         208.0  183.0          0.0  203.0   188.0  \n",
       "test           98.0  101.0          NaN   93.0    80.0  "
      ]
     },
     "execution_count": 23,
     "metadata": {},
     "output_type": "execute_result"
    }
   ],
   "source": [
    "pd.DataFrame({'train':train_data.isnull().sum(),\n",
    "              'test':test_data.isnull().sum()}).T"
   ]
  },
  {
   "cell_type": "code",
   "execution_count": 24,
   "id": "ecf949e8",
   "metadata": {
    "execution": {
     "iopub.execute_input": "2022-04-04T08:33:49.983243Z",
     "iopub.status.busy": "2022-04-04T08:33:49.982175Z",
     "iopub.status.idle": "2022-04-04T08:33:49.995734Z",
     "shell.execute_reply": "2022-04-04T08:33:49.996204Z",
     "shell.execute_reply.started": "2022-04-04T08:20:32.798322Z"
    },
    "papermill": {
     "duration": 0.100941,
     "end_time": "2022-04-04T08:33:49.996381",
     "exception": false,
     "start_time": "2022-04-04T08:33:49.895440",
     "status": "completed"
    },
    "tags": []
   },
   "outputs": [],
   "source": [
    "# numerical features\n",
    "imputer_num = [\"Age\", \"FoodCourt\", \"ShoppingMall\", \"Spa\", \"VRDeck\" ,\"RoomService\"]\n",
    "imputer = SimpleImputer(strategy='median')\n",
    "imputer.fit(train_data[imputer_num])\n",
    "\n",
    "train_data[imputer_num] = imputer.transform(train_data[imputer_num])\n",
    "test_data[imputer_num] = imputer.transform(test_data[imputer_num])"
   ]
  },
  {
   "cell_type": "code",
   "execution_count": 25,
   "id": "156e69e3",
   "metadata": {
    "execution": {
     "iopub.execute_input": "2022-04-04T08:33:50.160356Z",
     "iopub.status.busy": "2022-04-04T08:33:50.159362Z",
     "iopub.status.idle": "2022-04-04T08:33:50.179238Z",
     "shell.execute_reply": "2022-04-04T08:33:50.179738Z",
     "shell.execute_reply.started": "2022-04-04T08:20:34.358864Z"
    },
    "papermill": {
     "duration": 0.104043,
     "end_time": "2022-04-04T08:33:50.179919",
     "exception": false,
     "start_time": "2022-04-04T08:33:50.075876",
     "status": "completed"
    },
    "tags": []
   },
   "outputs": [],
   "source": [
    "# categorical features\n",
    "imputer_cat = [\"HomePlanet\", \"CryoSleep\", \"Destination\", \"VIP\"]\n",
    "imputer = SimpleImputer(strategy='most_frequent')\n",
    "imputer.fit(train_data[imputer_cat])\n",
    "\n",
    "train_data[imputer_cat] = imputer.transform(train_data[imputer_cat])\n",
    "test_data[imputer_cat] = imputer.transform(test_data[imputer_cat])"
   ]
  },
  {
   "cell_type": "code",
   "execution_count": 26,
   "id": "ef8591dc",
   "metadata": {
    "execution": {
     "iopub.execute_input": "2022-04-04T08:33:50.342057Z",
     "iopub.status.busy": "2022-04-04T08:33:50.341058Z",
     "iopub.status.idle": "2022-04-04T08:33:50.367979Z",
     "shell.execute_reply": "2022-04-04T08:33:50.368516Z",
     "shell.execute_reply.started": "2022-04-04T08:09:16.263488Z"
    },
    "papermill": {
     "duration": 0.109755,
     "end_time": "2022-04-04T08:33:50.368706",
     "exception": false,
     "start_time": "2022-04-04T08:33:50.258951",
     "status": "completed"
    },
    "tags": []
   },
   "outputs": [
    {
     "data": {
      "text/html": [
       "<div>\n",
       "<style scoped>\n",
       "    .dataframe tbody tr th:only-of-type {\n",
       "        vertical-align: middle;\n",
       "    }\n",
       "\n",
       "    .dataframe tbody tr th {\n",
       "        vertical-align: top;\n",
       "    }\n",
       "\n",
       "    .dataframe thead th {\n",
       "        text-align: right;\n",
       "    }\n",
       "</style>\n",
       "<table border=\"1\" class=\"dataframe\">\n",
       "  <thead>\n",
       "    <tr style=\"text-align: right;\">\n",
       "      <th></th>\n",
       "      <th>Age</th>\n",
       "      <th>CryoSleep</th>\n",
       "      <th>Destination</th>\n",
       "      <th>FoodCourt</th>\n",
       "      <th>HomePlanet</th>\n",
       "      <th>RoomService</th>\n",
       "      <th>ShoppingMall</th>\n",
       "      <th>Spa</th>\n",
       "      <th>Transported</th>\n",
       "      <th>VIP</th>\n",
       "      <th>VRDeck</th>\n",
       "    </tr>\n",
       "  </thead>\n",
       "  <tbody>\n",
       "    <tr>\n",
       "      <th>train</th>\n",
       "      <td>0.0</td>\n",
       "      <td>0.0</td>\n",
       "      <td>0.0</td>\n",
       "      <td>0.0</td>\n",
       "      <td>0.0</td>\n",
       "      <td>0.0</td>\n",
       "      <td>0.0</td>\n",
       "      <td>0.0</td>\n",
       "      <td>0.0</td>\n",
       "      <td>0.0</td>\n",
       "      <td>0.0</td>\n",
       "    </tr>\n",
       "    <tr>\n",
       "      <th>test</th>\n",
       "      <td>0.0</td>\n",
       "      <td>0.0</td>\n",
       "      <td>0.0</td>\n",
       "      <td>0.0</td>\n",
       "      <td>0.0</td>\n",
       "      <td>0.0</td>\n",
       "      <td>0.0</td>\n",
       "      <td>0.0</td>\n",
       "      <td>NaN</td>\n",
       "      <td>0.0</td>\n",
       "      <td>0.0</td>\n",
       "    </tr>\n",
       "  </tbody>\n",
       "</table>\n",
       "</div>"
      ],
      "text/plain": [
       "       Age  CryoSleep  Destination  FoodCourt  HomePlanet  RoomService  \\\n",
       "train  0.0        0.0          0.0        0.0         0.0          0.0   \n",
       "test   0.0        0.0          0.0        0.0         0.0          0.0   \n",
       "\n",
       "       ShoppingMall  Spa  Transported  VIP  VRDeck  \n",
       "train           0.0  0.0          0.0  0.0     0.0  \n",
       "test            0.0  0.0          NaN  0.0     0.0  "
      ]
     },
     "execution_count": 26,
     "metadata": {},
     "output_type": "execute_result"
    }
   ],
   "source": [
    "pd.DataFrame({'train':train_data.isnull().sum(),\n",
    "              'test':test_data.isnull().sum()}).T"
   ]
  },
  {
   "cell_type": "markdown",
   "id": "89e968f4",
   "metadata": {
    "papermill": {
     "duration": 0.079093,
     "end_time": "2022-04-04T08:33:50.527266",
     "exception": false,
     "start_time": "2022-04-04T08:33:50.448173",
     "status": "completed"
    },
    "tags": []
   },
   "source": []
  },
  {
   "cell_type": "markdown",
   "id": "611d15b3",
   "metadata": {
    "papermill": {
     "duration": 0.078593,
     "end_time": "2022-04-04T08:33:50.685576",
     "exception": false,
     "start_time": "2022-04-04T08:33:50.606983",
     "status": "completed"
    },
    "tags": []
   },
   "source": [
    "## Numeric Feature Scailing\n",
    "**Since most numerical variables have an unbalanced distribution, scailing is required.**\n",
    "- Age does not require scaling.\n",
    "- Robustscaler is better suited to reduce the impact of extreme values."
   ]
  },
  {
   "cell_type": "code",
   "execution_count": 27,
   "id": "21ab08c8",
   "metadata": {
    "execution": {
     "iopub.execute_input": "2022-04-04T08:33:50.848610Z",
     "iopub.status.busy": "2022-04-04T08:33:50.847495Z",
     "iopub.status.idle": "2022-04-04T08:33:50.885720Z",
     "shell.execute_reply": "2022-04-04T08:33:50.886258Z",
     "shell.execute_reply.started": "2022-04-04T08:27:02.994626Z"
    },
    "papermill": {
     "duration": 0.121297,
     "end_time": "2022-04-04T08:33:50.886438",
     "exception": false,
     "start_time": "2022-04-04T08:33:50.765141",
     "status": "completed"
    },
    "tags": []
   },
   "outputs": [
    {
     "data": {
      "text/html": [
       "<div>\n",
       "<style scoped>\n",
       "    .dataframe tbody tr th:only-of-type {\n",
       "        vertical-align: middle;\n",
       "    }\n",
       "\n",
       "    .dataframe tbody tr th {\n",
       "        vertical-align: top;\n",
       "    }\n",
       "\n",
       "    .dataframe thead th {\n",
       "        text-align: right;\n",
       "    }\n",
       "</style>\n",
       "<table border=\"1\" class=\"dataframe\">\n",
       "  <thead>\n",
       "    <tr style=\"text-align: right;\">\n",
       "      <th></th>\n",
       "      <th>Age</th>\n",
       "      <th>RoomService</th>\n",
       "      <th>FoodCourt</th>\n",
       "      <th>ShoppingMall</th>\n",
       "      <th>Spa</th>\n",
       "      <th>VRDeck</th>\n",
       "    </tr>\n",
       "  </thead>\n",
       "  <tbody>\n",
       "    <tr>\n",
       "      <th>count</th>\n",
       "      <td>8693.000000</td>\n",
       "      <td>8693.000000</td>\n",
       "      <td>8693.000000</td>\n",
       "      <td>8693.000000</td>\n",
       "      <td>8693.000000</td>\n",
       "      <td>8693.000000</td>\n",
       "    </tr>\n",
       "    <tr>\n",
       "      <th>mean</th>\n",
       "      <td>28.790291</td>\n",
       "      <td>5.366081</td>\n",
       "      <td>7.351377</td>\n",
       "      <td>7.707832</td>\n",
       "      <td>5.746960</td>\n",
       "      <td>7.456545</td>\n",
       "    </tr>\n",
       "    <tr>\n",
       "      <th>std</th>\n",
       "      <td>14.341404</td>\n",
       "      <td>16.110221</td>\n",
       "      <td>26.160502</td>\n",
       "      <td>27.182144</td>\n",
       "      <td>21.237029</td>\n",
       "      <td>28.353160</td>\n",
       "    </tr>\n",
       "    <tr>\n",
       "      <th>min</th>\n",
       "      <td>0.000000</td>\n",
       "      <td>0.000000</td>\n",
       "      <td>0.000000</td>\n",
       "      <td>0.000000</td>\n",
       "      <td>0.000000</td>\n",
       "      <td>0.000000</td>\n",
       "    </tr>\n",
       "    <tr>\n",
       "      <th>25%</th>\n",
       "      <td>20.000000</td>\n",
       "      <td>0.000000</td>\n",
       "      <td>0.000000</td>\n",
       "      <td>0.000000</td>\n",
       "      <td>0.000000</td>\n",
       "      <td>0.000000</td>\n",
       "    </tr>\n",
       "    <tr>\n",
       "      <th>50%</th>\n",
       "      <td>27.000000</td>\n",
       "      <td>0.000000</td>\n",
       "      <td>0.000000</td>\n",
       "      <td>0.000000</td>\n",
       "      <td>0.000000</td>\n",
       "      <td>0.000000</td>\n",
       "    </tr>\n",
       "    <tr>\n",
       "      <th>75%</th>\n",
       "      <td>37.000000</td>\n",
       "      <td>1.000000</td>\n",
       "      <td>1.000000</td>\n",
       "      <td>1.000000</td>\n",
       "      <td>1.000000</td>\n",
       "      <td>1.000000</td>\n",
       "    </tr>\n",
       "    <tr>\n",
       "      <th>max</th>\n",
       "      <td>79.000000</td>\n",
       "      <td>349.439024</td>\n",
       "      <td>488.737705</td>\n",
       "      <td>1067.818182</td>\n",
       "      <td>422.792453</td>\n",
       "      <td>603.325000</td>\n",
       "    </tr>\n",
       "  </tbody>\n",
       "</table>\n",
       "</div>"
      ],
      "text/plain": [
       "               Age  RoomService    FoodCourt  ShoppingMall          Spa  \\\n",
       "count  8693.000000  8693.000000  8693.000000   8693.000000  8693.000000   \n",
       "mean     28.790291     5.366081     7.351377      7.707832     5.746960   \n",
       "std      14.341404    16.110221    26.160502     27.182144    21.237029   \n",
       "min       0.000000     0.000000     0.000000      0.000000     0.000000   \n",
       "25%      20.000000     0.000000     0.000000      0.000000     0.000000   \n",
       "50%      27.000000     0.000000     0.000000      0.000000     0.000000   \n",
       "75%      37.000000     1.000000     1.000000      1.000000     1.000000   \n",
       "max      79.000000   349.439024   488.737705   1067.818182   422.792453   \n",
       "\n",
       "            VRDeck  \n",
       "count  8693.000000  \n",
       "mean      7.456545  \n",
       "std      28.353160  \n",
       "min       0.000000  \n",
       "25%       0.000000  \n",
       "50%       0.000000  \n",
       "75%       1.000000  \n",
       "max     603.325000  "
      ]
     },
     "execution_count": 27,
     "metadata": {},
     "output_type": "execute_result"
    }
   ],
   "source": [
    "rs = RobustScaler()\n",
    "rs.fit(train_data[col_num[1:]])\n",
    "\n",
    "train_data[col_num[1:]] = rs.transform(train_data[col_num[1:]])\n",
    "test_data[col_num[1:]] = rs.transform(test_data[col_num[1:]])\n",
    "\n",
    "train_data.describe()"
   ]
  },
  {
   "cell_type": "markdown",
   "id": "92508f97",
   "metadata": {
    "papermill": {
     "duration": 0.080348,
     "end_time": "2022-04-04T08:33:51.046534",
     "exception": false,
     "start_time": "2022-04-04T08:33:50.966186",
     "status": "completed"
    },
    "tags": []
   },
   "source": []
  },
  {
   "cell_type": "markdown",
   "id": "4d0dc488",
   "metadata": {
    "papermill": {
     "duration": 0.081189,
     "end_time": "2022-04-04T08:33:51.207623",
     "exception": false,
     "start_time": "2022-04-04T08:33:51.126434",
     "status": "completed"
    },
    "tags": []
   },
   "source": [
    "## Categorical Feature Encoding\n",
    "**Since the machine learning algorithm consists of an equation, string data must be encoded.**"
   ]
  },
  {
   "cell_type": "code",
   "execution_count": 28,
   "id": "34fbee86",
   "metadata": {
    "execution": {
     "iopub.execute_input": "2022-04-04T08:33:51.370569Z",
     "iopub.status.busy": "2022-04-04T08:33:51.369631Z",
     "iopub.status.idle": "2022-04-04T08:33:51.375801Z",
     "shell.execute_reply": "2022-04-04T08:33:51.376322Z",
     "shell.execute_reply.started": "2022-04-04T08:27:11.958908Z"
    },
    "papermill": {
     "duration": 0.089275,
     "end_time": "2022-04-04T08:33:51.376477",
     "exception": false,
     "start_time": "2022-04-04T08:33:51.287202",
     "status": "completed"
    },
    "tags": []
   },
   "outputs": [],
   "source": [
    "# Target: True -> 1, False -> 0\n",
    "train_data['Transported'] = train_data['Transported'].map({True: 1, False: 0})"
   ]
  },
  {
   "cell_type": "code",
   "execution_count": 29,
   "id": "ab8e8996",
   "metadata": {
    "execution": {
     "iopub.execute_input": "2022-04-04T08:33:51.539576Z",
     "iopub.status.busy": "2022-04-04T08:33:51.538625Z",
     "iopub.status.idle": "2022-04-04T08:33:51.544182Z",
     "shell.execute_reply": "2022-04-04T08:33:51.544634Z",
     "shell.execute_reply.started": "2022-04-04T06:56:55.087746Z"
    },
    "papermill": {
     "duration": 0.088917,
     "end_time": "2022-04-04T08:33:51.544817",
     "exception": false,
     "start_time": "2022-04-04T08:33:51.455900",
     "status": "completed"
    },
    "tags": []
   },
   "outputs": [
    {
     "data": {
      "text/plain": [
       "'\\n# --- < Ordinal Encoding > ---\\nord = OrdinalEncoder()\\ntrain_data[col_cat] = ord.fit_transform(train_data[col_cat])\\ntest_data[col_cat] = ord.fit_transform(test_data[col_cat])\\n\\ntrain_data.info()\\n'"
      ]
     },
     "execution_count": 29,
     "metadata": {},
     "output_type": "execute_result"
    }
   ],
   "source": [
    "'''\n",
    "# --- < Ordinal Encoding > ---\n",
    "ord = OrdinalEncoder()\n",
    "train_data[col_cat] = ord.fit_transform(train_data[col_cat])\n",
    "test_data[col_cat] = ord.fit_transform(test_data[col_cat])\n",
    "\n",
    "train_data.info()\n",
    "'''"
   ]
  },
  {
   "cell_type": "code",
   "execution_count": 30,
   "id": "98135733",
   "metadata": {
    "execution": {
     "iopub.execute_input": "2022-04-04T08:33:51.710081Z",
     "iopub.status.busy": "2022-04-04T08:33:51.709407Z",
     "iopub.status.idle": "2022-04-04T08:33:51.763744Z",
     "shell.execute_reply": "2022-04-04T08:33:51.764321Z",
     "shell.execute_reply.started": "2022-04-04T08:27:15.233934Z"
    },
    "papermill": {
     "duration": 0.139586,
     "end_time": "2022-04-04T08:33:51.764482",
     "exception": false,
     "start_time": "2022-04-04T08:33:51.624896",
     "status": "completed"
    },
    "tags": []
   },
   "outputs": [
    {
     "name": "stdout",
     "output_type": "stream",
     "text": [
      "<class 'pandas.core.frame.DataFrame'>\n",
      "RangeIndex: 8693 entries, 0 to 8692\n",
      "Data columns (total 17 columns):\n",
      " #   Column                                    Non-Null Count  Dtype  \n",
      "---  ------                                    --------------  -----  \n",
      " 0   Age                                       8693 non-null   float64\n",
      " 1   RoomService                               8693 non-null   float64\n",
      " 2   FoodCourt                                 8693 non-null   float64\n",
      " 3   ShoppingMall                              8693 non-null   float64\n",
      " 4   Spa                                       8693 non-null   float64\n",
      " 5   VRDeck                                    8693 non-null   float64\n",
      " 6   Transported                               8693 non-null   int64  \n",
      " 7   onehotencoder__HomePlanet_Earth           8693 non-null   float64\n",
      " 8   onehotencoder__HomePlanet_Europa          8693 non-null   float64\n",
      " 9   onehotencoder__HomePlanet_Mars            8693 non-null   float64\n",
      " 10  onehotencoder__CryoSleep_False            8693 non-null   float64\n",
      " 11  onehotencoder__CryoSleep_True             8693 non-null   float64\n",
      " 12  onehotencoder__Destination_55 Cancri e    8693 non-null   float64\n",
      " 13  onehotencoder__Destination_PSO J318.5-22  8693 non-null   float64\n",
      " 14  onehotencoder__Destination_TRAPPIST-1e    8693 non-null   float64\n",
      " 15  onehotencoder__VIP_False                  8693 non-null   float64\n",
      " 16  onehotencoder__VIP_True                   8693 non-null   float64\n",
      "dtypes: float64(16), int64(1)\n",
      "memory usage: 1.1 MB\n"
     ]
    }
   ],
   "source": [
    "# --- < One-Hot Encoding > ---\n",
    "transformer = make_column_transformer(\n",
    "    (OneHotEncoder(), col_cat), remainder='passthrough')\n",
    "\n",
    "train_transformed = transformer.fit_transform(train_data[col_cat])\n",
    "train_transformed_df = pd.DataFrame(train_transformed,\n",
    "                                    columns=transformer.get_feature_names_out())\n",
    "train_data = pd.concat([train_data, train_transformed_df], axis = 1)\n",
    "train_data = train_data.drop(col_cat, axis = 1)\n",
    "\n",
    "test_transformed = transformer.fit_transform(test_data[col_cat])\n",
    "test_transformed_df = pd.DataFrame(test_transformed,\n",
    "                                   columns=transformer.get_feature_names_out())\n",
    "test_data = pd.concat([test_data, test_transformed_df], axis = 1)\n",
    "test_data = test_data.drop(col_cat, axis = 1)\n",
    "train_data.info()"
   ]
  },
  {
   "cell_type": "code",
   "execution_count": 31,
   "id": "d053ece9",
   "metadata": {
    "execution": {
     "iopub.execute_input": "2022-04-04T08:33:51.931413Z",
     "iopub.status.busy": "2022-04-04T08:33:51.930800Z",
     "iopub.status.idle": "2022-04-04T08:33:51.935586Z",
     "shell.execute_reply": "2022-04-04T08:33:51.936104Z",
     "shell.execute_reply.started": "2022-04-04T07:14:44.954799Z"
    },
    "papermill": {
     "duration": 0.091065,
     "end_time": "2022-04-04T08:33:51.936263",
     "exception": false,
     "start_time": "2022-04-04T08:33:51.845198",
     "status": "completed"
    },
    "tags": []
   },
   "outputs": [
    {
     "data": {
      "text/plain": [
       "'\\n# --- < Label Encoding > ---\\nle = LabelEncoder()\\nfor col in col_cat:\\n    train_data[col] = train_data[col].astype(str)\\n    test_data[col] = test_data[col].astype(str)\\n    train_data[col] = le.fit_transform(train_data[col])\\n    test_data[col] =  le.fit_transform(test_data[col])\\ntrain_data = train_data\\ntest_data = test_data\\ntrain_data.info()\\n'"
      ]
     },
     "execution_count": 31,
     "metadata": {},
     "output_type": "execute_result"
    }
   ],
   "source": [
    "'''\n",
    "# --- < Label Encoding > ---\n",
    "le = LabelEncoder()\n",
    "for col in col_cat:\n",
    "    train_data[col] = train_data[col].astype(str)\n",
    "    test_data[col] = test_data[col].astype(str)\n",
    "    train_data[col] = le.fit_transform(train_data[col])\n",
    "    test_data[col] =  le.fit_transform(test_data[col])\n",
    "train_data = train_data\n",
    "test_data = test_data\n",
    "train_data.info()\n",
    "'''"
   ]
  },
  {
   "cell_type": "markdown",
   "id": "be0b8cc5",
   "metadata": {
    "papermill": {
     "duration": 0.082612,
     "end_time": "2022-04-04T08:33:52.101008",
     "exception": false,
     "start_time": "2022-04-04T08:33:52.018396",
     "status": "completed"
    },
    "tags": []
   },
   "source": []
  },
  {
   "cell_type": "markdown",
   "id": "970993ad",
   "metadata": {
    "papermill": {
     "duration": 0.081181,
     "end_time": "2022-04-04T08:33:52.265414",
     "exception": false,
     "start_time": "2022-04-04T08:33:52.184233",
     "status": "completed"
    },
    "tags": []
   },
   "source": [
    "# Step 4. ML Model"
   ]
  },
  {
   "cell_type": "markdown",
   "id": "a2946b76",
   "metadata": {
    "papermill": {
     "duration": 0.081059,
     "end_time": "2022-04-04T08:33:52.427655",
     "exception": false,
     "start_time": "2022-04-04T08:33:52.346596",
     "status": "completed"
    },
    "tags": []
   },
   "source": [
    "## Data Split\n",
    "#### Seperate independent and dependent variables."
   ]
  },
  {
   "cell_type": "code",
   "execution_count": 32,
   "id": "ef443bd7",
   "metadata": {
    "execution": {
     "iopub.execute_input": "2022-04-04T08:33:52.593923Z",
     "iopub.status.busy": "2022-04-04T08:33:52.592883Z",
     "iopub.status.idle": "2022-04-04T08:33:52.600213Z",
     "shell.execute_reply": "2022-04-04T08:33:52.601106Z",
     "shell.execute_reply.started": "2022-04-04T08:27:20.536941Z"
    },
    "papermill": {
     "duration": 0.09247,
     "end_time": "2022-04-04T08:33:52.601357",
     "exception": false,
     "start_time": "2022-04-04T08:33:52.508887",
     "status": "completed"
    },
    "tags": []
   },
   "outputs": [
    {
     "name": "stdout",
     "output_type": "stream",
     "text": [
      "(8693, 16)\n",
      "(8693,)\n"
     ]
    }
   ],
   "source": [
    "train_input = train_data[test_data.columns].to_numpy()\n",
    "train_target = train_data['Transported'].to_numpy()\n",
    "print(train_input.shape)\n",
    "print(train_target.shape)"
   ]
  },
  {
   "cell_type": "markdown",
   "id": "7aa2997e",
   "metadata": {
    "papermill": {
     "duration": 0.081906,
     "end_time": "2022-04-04T08:33:52.766404",
     "exception": false,
     "start_time": "2022-04-04T08:33:52.684498",
     "status": "completed"
    },
    "tags": []
   },
   "source": [
    "#### Split train data and validation data (7:3)"
   ]
  },
  {
   "cell_type": "code",
   "execution_count": 33,
   "id": "778868cc",
   "metadata": {
    "execution": {
     "iopub.execute_input": "2022-04-04T08:33:52.937277Z",
     "iopub.status.busy": "2022-04-04T08:33:52.936623Z",
     "iopub.status.idle": "2022-04-04T08:33:52.942377Z",
     "shell.execute_reply": "2022-04-04T08:33:52.941675Z",
     "shell.execute_reply.started": "2022-04-04T08:27:23.885306Z"
    },
    "papermill": {
     "duration": 0.094295,
     "end_time": "2022-04-04T08:33:52.942565",
     "exception": false,
     "start_time": "2022-04-04T08:33:52.848270",
     "status": "completed"
    },
    "tags": []
   },
   "outputs": [
    {
     "name": "stdout",
     "output_type": "stream",
     "text": [
      "Train data\t: (6085, 16) (6085,)\n",
      "Validation data\t: (2608, 16) (2608,)\n"
     ]
    }
   ],
   "source": [
    "X_train, X_val, y_train, y_val = train_test_split(\n",
    "    train_input, train_target, test_size=0.3, random_state=42)\n",
    "print(\"Train data\\t:\", X_train.shape, y_train.shape)\n",
    "print(\"Validation data\\t:\", X_val.shape, y_val.shape)"
   ]
  },
  {
   "cell_type": "markdown",
   "id": "6404f043",
   "metadata": {
    "papermill": {
     "duration": 0.083059,
     "end_time": "2022-04-04T08:33:53.111195",
     "exception": false,
     "start_time": "2022-04-04T08:33:53.028136",
     "status": "completed"
    },
    "tags": []
   },
   "source": []
  },
  {
   "cell_type": "markdown",
   "id": "e5886437",
   "metadata": {
    "papermill": {
     "duration": 0.081693,
     "end_time": "2022-04-04T08:33:53.276771",
     "exception": false,
     "start_time": "2022-04-04T08:33:53.195078",
     "status": "completed"
    },
    "tags": []
   },
   "source": [
    "## LGBM Classifier"
   ]
  },
  {
   "cell_type": "code",
   "execution_count": 34,
   "id": "54d87738",
   "metadata": {
    "execution": {
     "iopub.execute_input": "2022-04-04T08:33:53.443818Z",
     "iopub.status.busy": "2022-04-04T08:33:53.443213Z",
     "iopub.status.idle": "2022-04-04T08:33:53.450553Z",
     "shell.execute_reply": "2022-04-04T08:33:53.451190Z",
     "shell.execute_reply.started": "2022-04-04T08:27:27.822249Z"
    },
    "papermill": {
     "duration": 0.092174,
     "end_time": "2022-04-04T08:33:53.451359",
     "exception": false,
     "start_time": "2022-04-04T08:33:53.359185",
     "status": "completed"
    },
    "tags": []
   },
   "outputs": [
    {
     "data": {
      "text/plain": [
       "LGBMClassifier(random_state=42)"
      ]
     },
     "execution_count": 34,
     "metadata": {},
     "output_type": "execute_result"
    }
   ],
   "source": [
    "lgb = LGBMClassifier(random_state=42)\n",
    "lgb"
   ]
  },
  {
   "cell_type": "markdown",
   "id": "70e766ac",
   "metadata": {
    "papermill": {
     "duration": 0.082347,
     "end_time": "2022-04-04T08:33:53.616314",
     "exception": false,
     "start_time": "2022-04-04T08:33:53.533967",
     "status": "completed"
    },
    "tags": []
   },
   "source": []
  },
  {
   "cell_type": "markdown",
   "id": "e7877a4b",
   "metadata": {
    "papermill": {
     "duration": 0.082044,
     "end_time": "2022-04-04T08:33:53.780962",
     "exception": false,
     "start_time": "2022-04-04T08:33:53.698918",
     "status": "completed"
    },
    "tags": []
   },
   "source": [
    "## Hyperparameter tuning\n",
    "1. Random Search\n",
    "2. Grid Search"
   ]
  },
  {
   "cell_type": "markdown",
   "id": "2abf6343",
   "metadata": {
    "papermill": {
     "duration": 0.08349,
     "end_time": "2022-04-04T08:33:53.948172",
     "exception": false,
     "start_time": "2022-04-04T08:33:53.864682",
     "status": "completed"
    },
    "tags": []
   },
   "source": []
  },
  {
   "cell_type": "markdown",
   "id": "2e75a258",
   "metadata": {
    "papermill": {
     "duration": 0.082138,
     "end_time": "2022-04-04T08:33:54.112724",
     "exception": false,
     "start_time": "2022-04-04T08:33:54.030586",
     "status": "completed"
    },
    "tags": []
   },
   "source": [
    "# Step 5. Model Evaluation"
   ]
  },
  {
   "cell_type": "code",
   "execution_count": 35,
   "id": "bb8c3258",
   "metadata": {
    "execution": {
     "iopub.execute_input": "2022-04-04T08:33:54.285087Z",
     "iopub.status.busy": "2022-04-04T08:33:54.284101Z",
     "iopub.status.idle": "2022-04-04T08:33:55.061392Z",
     "shell.execute_reply": "2022-04-04T08:33:55.062295Z",
     "shell.execute_reply.started": "2022-04-04T08:29:23.579134Z"
    },
    "papermill": {
     "duration": 0.866517,
     "end_time": "2022-04-04T08:33:55.062490",
     "exception": false,
     "start_time": "2022-04-04T08:33:54.195973",
     "status": "completed"
    },
    "tags": []
   },
   "outputs": [
    {
     "name": "stdout",
     "output_type": "stream",
     "text": [
      "Train Acc.\t: 0.868405916187346\n",
      "Validation Acc.\t: 0.7878389482333608\n"
     ]
    }
   ],
   "source": [
    "from sklearn.model_selection import StratifiedKFold\n",
    "from sklearn.model_selection import cross_validate\n",
    "\n",
    "splitter = StratifiedKFold(n_splits = 5, shuffle = True, random_state=42)\n",
    "scores = cross_validate(lgb, X_train, y_train, return_train_score = True, cv=splitter)\n",
    "\n",
    "print(\"Train Acc.\\t:\", np.mean(scores['train_score']))\n",
    "print(\"Validation Acc.\\t:\", np.mean(scores['test_score']))"
   ]
  },
  {
   "cell_type": "code",
   "execution_count": 36,
   "id": "9392f1c1",
   "metadata": {
    "execution": {
     "iopub.execute_input": "2022-04-04T08:33:55.236393Z",
     "iopub.status.busy": "2022-04-04T08:33:55.235448Z",
     "iopub.status.idle": "2022-04-04T08:33:55.382001Z",
     "shell.execute_reply": "2022-04-04T08:33:55.382902Z",
     "shell.execute_reply.started": "2022-04-04T08:29:28.519337Z"
    },
    "papermill": {
     "duration": 0.235913,
     "end_time": "2022-04-04T08:33:55.383099",
     "exception": false,
     "start_time": "2022-04-04T08:33:55.147186",
     "status": "completed"
    },
    "tags": []
   },
   "outputs": [
    {
     "name": "stdout",
     "output_type": "stream",
     "text": [
      "Acc. 0.7891104294478528\n"
     ]
    }
   ],
   "source": [
    "from sklearn.metrics import accuracy_score\n",
    "\n",
    "lgb.fit(X_train, y_train)\n",
    "y_pred = lgb.predict(X_val)\n",
    "print(\"Acc.\", accuracy_score(y_val, y_pred))"
   ]
  },
  {
   "cell_type": "markdown",
   "id": "c5ee88e8",
   "metadata": {
    "papermill": {
     "duration": 0.082469,
     "end_time": "2022-04-04T08:33:55.550200",
     "exception": false,
     "start_time": "2022-04-04T08:33:55.467731",
     "status": "completed"
    },
    "tags": []
   },
   "source": []
  },
  {
   "cell_type": "markdown",
   "id": "58238737",
   "metadata": {
    "papermill": {
     "duration": 0.082513,
     "end_time": "2022-04-04T08:33:55.715683",
     "exception": false,
     "start_time": "2022-04-04T08:33:55.633170",
     "status": "completed"
    },
    "tags": []
   },
   "source": [
    "# Step 6. Submission\n",
    "#### - Submit according to the sample given"
   ]
  },
  {
   "cell_type": "code",
   "execution_count": 37,
   "id": "004c7752",
   "metadata": {
    "execution": {
     "iopub.execute_input": "2022-04-04T08:33:55.887199Z",
     "iopub.status.busy": "2022-04-04T08:33:55.886492Z",
     "iopub.status.idle": "2022-04-04T08:33:55.918123Z",
     "shell.execute_reply": "2022-04-04T08:33:55.918658Z",
     "shell.execute_reply.started": "2022-04-04T08:29:32.595822Z"
    },
    "papermill": {
     "duration": 0.120544,
     "end_time": "2022-04-04T08:33:55.918837",
     "exception": false,
     "start_time": "2022-04-04T08:33:55.798293",
     "status": "completed"
    },
    "tags": []
   },
   "outputs": [
    {
     "data": {
      "text/html": [
       "<div>\n",
       "<style scoped>\n",
       "    .dataframe tbody tr th:only-of-type {\n",
       "        vertical-align: middle;\n",
       "    }\n",
       "\n",
       "    .dataframe tbody tr th {\n",
       "        vertical-align: top;\n",
       "    }\n",
       "\n",
       "    .dataframe thead th {\n",
       "        text-align: right;\n",
       "    }\n",
       "</style>\n",
       "<table border=\"1\" class=\"dataframe\">\n",
       "  <thead>\n",
       "    <tr style=\"text-align: right;\">\n",
       "      <th></th>\n",
       "      <th>PassengerId</th>\n",
       "      <th>Transported</th>\n",
       "    </tr>\n",
       "  </thead>\n",
       "  <tbody>\n",
       "    <tr>\n",
       "      <th>0</th>\n",
       "      <td>0013_01</td>\n",
       "      <td>True</td>\n",
       "    </tr>\n",
       "    <tr>\n",
       "      <th>1</th>\n",
       "      <td>0018_01</td>\n",
       "      <td>False</td>\n",
       "    </tr>\n",
       "    <tr>\n",
       "      <th>2</th>\n",
       "      <td>0019_01</td>\n",
       "      <td>True</td>\n",
       "    </tr>\n",
       "    <tr>\n",
       "      <th>3</th>\n",
       "      <td>0021_01</td>\n",
       "      <td>True</td>\n",
       "    </tr>\n",
       "    <tr>\n",
       "      <th>4</th>\n",
       "      <td>0023_01</td>\n",
       "      <td>True</td>\n",
       "    </tr>\n",
       "  </tbody>\n",
       "</table>\n",
       "</div>"
      ],
      "text/plain": [
       "  PassengerId  Transported\n",
       "0     0013_01         True\n",
       "1     0018_01        False\n",
       "2     0019_01         True\n",
       "3     0021_01         True\n",
       "4     0023_01         True"
      ]
     },
     "execution_count": 37,
     "metadata": {},
     "output_type": "execute_result"
    }
   ],
   "source": [
    "test_preds = lgb.predict(test_data.to_numpy())\n",
    "sample_submission['Transported'] = test_preds.astype(\"bool\")\n",
    "sample_submission.to_csv(\"submission.csv\",index=False)\n",
    "sample_submission.head()"
   ]
  },
  {
   "cell_type": "markdown",
   "id": "de78c2e4",
   "metadata": {
    "papermill": {
     "duration": 0.083279,
     "end_time": "2022-04-04T08:33:56.085819",
     "exception": false,
     "start_time": "2022-04-04T08:33:56.002540",
     "status": "completed"
    },
    "tags": []
   },
   "source": []
  },
  {
   "cell_type": "markdown",
   "id": "cc903662",
   "metadata": {
    "papermill": {
     "duration": 0.085544,
     "end_time": "2022-04-04T08:33:56.255843",
     "exception": false,
     "start_time": "2022-04-04T08:33:56.170299",
     "status": "completed"
    },
    "tags": []
   },
   "source": [
    "# Reference\n",
    "#### - Be sure to link the referenced code in order to prevent plagiarism on your laptop.\n",
    "#### - Write author name, code title, and url"
   ]
  }
 ],
 "metadata": {
  "kernelspec": {
   "display_name": "Python 3",
   "language": "python",
   "name": "python3"
  },
  "language_info": {
   "codemirror_mode": {
    "name": "ipython",
    "version": 3
   },
   "file_extension": ".py",
   "mimetype": "text/x-python",
   "name": "python",
   "nbconvert_exporter": "python",
   "pygments_lexer": "ipython3",
   "version": "3.7.12"
  },
  "papermill": {
   "default_parameters": {},
   "duration": 29.619699,
   "end_time": "2022-04-04T08:33:57.153622",
   "environment_variables": {},
   "exception": null,
   "input_path": "__notebook__.ipynb",
   "output_path": "__notebook__.ipynb",
   "parameters": {},
   "start_time": "2022-04-04T08:33:27.533923",
   "version": "2.3.3"
  }
 },
 "nbformat": 4,
 "nbformat_minor": 5
}
