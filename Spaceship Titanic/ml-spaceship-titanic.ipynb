{
 "cells": [
  {
   "cell_type": "code",
   "execution_count": 1,
   "id": "9218a9ae",
   "metadata": {
    "_cell_guid": "b1076dfc-b9ad-4769-8c92-a6c4dae69d19",
    "_uuid": "8f2839f25d086af736a60e9eeb907d3b93b6e0e5",
    "execution": {
     "iopub.execute_input": "2022-04-01T03:42:50.163911Z",
     "iopub.status.busy": "2022-04-01T03:42:50.163331Z",
     "iopub.status.idle": "2022-04-01T03:42:50.169000Z",
     "shell.execute_reply": "2022-04-01T03:42:50.169679Z",
     "shell.execute_reply.started": "2022-04-01T03:23:52.835477Z"
    },
    "papermill": {
     "duration": 0.02394,
     "end_time": "2022-04-01T03:42:50.170043",
     "exception": false,
     "start_time": "2022-04-01T03:42:50.146103",
     "status": "completed"
    },
    "tags": []
   },
   "outputs": [
    {
     "name": "stdout",
     "output_type": "stream",
     "text": [
      "/kaggle/input/spaceship-titanic/sample_submission.csv\n",
      "/kaggle/input/spaceship-titanic/train.csv\n",
      "/kaggle/input/spaceship-titanic/test.csv\n"
     ]
    }
   ],
   "source": [
    "# This Python 3 environment comes with many helpful analytics libraries installed\n",
    "# It is defined by the kaggle/python Docker image: https://github.com/kaggle/docker-python\n",
    "# For example, here's several helpful packages to load\n",
    "\n",
    "import numpy as np # linear algebra\n",
    "import pandas as pd # data processing, CSV file I/O (e.g. pd.read_csv)\n",
    "\n",
    "# Input data files are available in the read-only \"../input/\" directory\n",
    "# For example, running this (by clicking run or pressing Shift+Enter) will list all files under the input directory\n",
    "\n",
    "import os\n",
    "for dirname, _, filenames in os.walk('/kaggle/input'):\n",
    "    for filename in filenames:\n",
    "        print(os.path.join(dirname, filename))\n",
    "\n",
    "# You can write up to 20GB to the current directory (/kaggle/working/) that gets preserved as output when you create a version using \"Save & Run All\" \n",
    "# You can also write temporary files to /kaggle/temp/, but they won't be saved outside of the current session"
   ]
  },
  {
   "cell_type": "markdown",
   "id": "9963654a",
   "metadata": {
    "papermill": {
     "duration": 0.008191,
     "end_time": "2022-04-01T03:42:50.187996",
     "exception": false,
     "start_time": "2022-04-01T03:42:50.179805",
     "status": "completed"
    },
    "tags": []
   },
   "source": [
    "# Step 1. Library and Data Loading\n",
    "#### - Check the library version"
   ]
  },
  {
   "cell_type": "code",
   "execution_count": 2,
   "id": "620ef151",
   "metadata": {
    "execution": {
     "iopub.execute_input": "2022-04-01T03:42:50.207865Z",
     "iopub.status.busy": "2022-04-01T03:42:50.207269Z",
     "iopub.status.idle": "2022-04-01T03:42:51.243275Z",
     "shell.execute_reply": "2022-04-01T03:42:51.243713Z",
     "shell.execute_reply.started": "2022-04-01T03:23:54.060187Z"
    },
    "papermill": {
     "duration": 1.047219,
     "end_time": "2022-04-01T03:42:51.243885",
     "exception": false,
     "start_time": "2022-04-01T03:42:50.196666",
     "status": "completed"
    },
    "tags": []
   },
   "outputs": [
    {
     "name": "stdout",
     "output_type": "stream",
     "text": [
      "Numpy ver. 1.20.3\n",
      "Pandas ver. 1.3.5\n",
      "Matplotlib ver. 3.5.1\n",
      "Seaborn ver. 0.11.2\n"
     ]
    },
    {
     "data": {
      "text/plain": [
       "['sample_submission.csv', 'train.csv', 'test.csv']"
      ]
     },
     "execution_count": 2,
     "metadata": {},
     "output_type": "execute_result"
    }
   ],
   "source": [
    "import numpy as np\n",
    "import pandas as pd\n",
    "import seaborn as sns\n",
    "import matplotlib\n",
    "import matplotlib.pyplot as plt\n",
    "import os\n",
    "\n",
    "print(\"Numpy ver.\", np.__version__)\n",
    "print(\"Pandas ver.\", pd.__version__)\n",
    "print(\"Matplotlib ver.\", matplotlib.__version__)\n",
    "print(\"Seaborn ver.\", sns.__version__)\n",
    "\n",
    "os.listdir('../input/spaceship-titanic/')"
   ]
  },
  {
   "cell_type": "code",
   "execution_count": 3,
   "id": "29c23e32",
   "metadata": {
    "execution": {
     "iopub.execute_input": "2022-04-01T03:42:51.267815Z",
     "iopub.status.busy": "2022-04-01T03:42:51.267219Z",
     "iopub.status.idle": "2022-04-01T03:42:52.422769Z",
     "shell.execute_reply": "2022-04-01T03:42:52.422109Z",
     "shell.execute_reply.started": "2022-04-01T03:23:55.054771Z"
    },
    "papermill": {
     "duration": 1.170235,
     "end_time": "2022-04-01T03:42:52.422916",
     "exception": false,
     "start_time": "2022-04-01T03:42:51.252681",
     "status": "completed"
    },
    "tags": []
   },
   "outputs": [
    {
     "data": {
      "text/html": [
       "<style type='text/css'>\n",
       ".datatable table.frame { margin-bottom: 0; }\n",
       ".datatable table.frame thead { border-bottom: none; }\n",
       ".datatable table.frame tr.coltypes td {  color: #FFFFFF;  line-height: 6px;  padding: 0 0.5em;}\n",
       ".datatable .bool    { background: #DDDD99; }\n",
       ".datatable .object  { background: #565656; }\n",
       ".datatable .int     { background: #5D9E5D; }\n",
       ".datatable .float   { background: #4040CC; }\n",
       ".datatable .str     { background: #CC4040; }\n",
       ".datatable .time    { background: #40CC40; }\n",
       ".datatable .row_index {  background: var(--jp-border-color3);  border-right: 1px solid var(--jp-border-color0);  color: var(--jp-ui-font-color3);  font-size: 9px;}\n",
       ".datatable .frame tbody td { text-align: left; }\n",
       ".datatable .frame tr.coltypes .row_index {  background: var(--jp-border-color0);}\n",
       ".datatable th:nth-child(2) { padding-left: 12px; }\n",
       ".datatable .hellipsis {  color: var(--jp-cell-editor-border-color);}\n",
       ".datatable .vellipsis {  background: var(--jp-layout-color0);  color: var(--jp-cell-editor-border-color);}\n",
       ".datatable .na {  color: var(--jp-cell-editor-border-color);  font-size: 80%;}\n",
       ".datatable .sp {  opacity: 0.25;}\n",
       ".datatable .footer { font-size: 9px; }\n",
       ".datatable .frame_dimensions {  background: var(--jp-border-color3);  border-top: 1px solid var(--jp-border-color0);  color: var(--jp-ui-font-color3);  display: inline-block;  opacity: 0.6;  padding: 1px 10px 1px 5px;}\n",
       "</style>\n"
      ],
      "text/plain": [
       "<IPython.core.display.HTML object>"
      ]
     },
     "metadata": {},
     "output_type": "display_data"
    }
   ],
   "source": [
    "from sklearn.impute import SimpleImputer\n",
    "from sklearn.metrics import accuracy_score\n",
    "from sklearn.preprocessing import LabelEncoder\n",
    "from sklearn.model_selection import StratifiedKFold, train_test_split\n",
    "from lightgbm import LGBMClassifier\n",
    "\n",
    "import time\n",
    "import warnings\n",
    "warnings.filterwarnings('ignore')"
   ]
  },
  {
   "cell_type": "code",
   "execution_count": 4,
   "id": "982e116d",
   "metadata": {
    "execution": {
     "iopub.execute_input": "2022-04-01T03:42:52.447734Z",
     "iopub.status.busy": "2022-04-01T03:42:52.446919Z",
     "iopub.status.idle": "2022-04-01T03:42:52.548220Z",
     "shell.execute_reply": "2022-04-01T03:42:52.548739Z",
     "shell.execute_reply.started": "2022-04-01T03:26:06.353410Z"
    },
    "papermill": {
     "duration": 0.11628,
     "end_time": "2022-04-01T03:42:52.548945",
     "exception": false,
     "start_time": "2022-04-01T03:42:52.432665",
     "status": "completed"
    },
    "tags": []
   },
   "outputs": [],
   "source": [
    "BASE_DIR = '../input/spaceship-titanic/'\n",
    "train = pd.read_csv(BASE_DIR + \"train.csv\")\n",
    "test = pd.read_csv(BASE_DIR + \"test.csv\")\n",
    "submission = pd.read_csv(BASE_DIR + \"sample_submission.csv\")"
   ]
  },
  {
   "cell_type": "code",
   "execution_count": 5,
   "id": "30210634",
   "metadata": {
    "execution": {
     "iopub.execute_input": "2022-04-01T03:42:52.580941Z",
     "iopub.status.busy": "2022-04-01T03:42:52.577275Z",
     "iopub.status.idle": "2022-04-01T03:42:52.591635Z",
     "shell.execute_reply": "2022-04-01T03:42:52.592297Z",
     "shell.execute_reply.started": "2022-04-01T03:26:41.593736Z"
    },
    "papermill": {
     "duration": 0.033534,
     "end_time": "2022-04-01T03:42:52.592545",
     "exception": false,
     "start_time": "2022-04-01T03:42:52.559011",
     "status": "completed"
    },
    "tags": []
   },
   "outputs": [
    {
     "name": "stdout",
     "output_type": "stream",
     "text": [
      "Shape of train data: (8693, 14)\n",
      "Number of values in train data: 119378\n",
      "Number missing values in train data: 2324\n"
     ]
    }
   ],
   "source": [
    "print(f'Shape of train data: {train.shape}')\n",
    "print(f'Number of values in train data: {train.count().sum()}')\n",
    "print(f'Number missing values in train data: {sum(train.isna().sum())}')"
   ]
  },
  {
   "cell_type": "markdown",
   "id": "676bdcf3",
   "metadata": {
    "papermill": {
     "duration": 0.009819,
     "end_time": "2022-04-01T03:42:52.613177",
     "exception": false,
     "start_time": "2022-04-01T03:42:52.603358",
     "status": "completed"
    },
    "tags": []
   },
   "source": [
    "# Step 2. EDA\n",
    "#### - data visualization\n",
    "#### - scatter plot, bar graph, etc\n",
    "#### - interpretation and description of graphs"
   ]
  },
  {
   "cell_type": "markdown",
   "id": "d2a8cf37",
   "metadata": {
    "papermill": {
     "duration": 0.009694,
     "end_time": "2022-04-01T03:42:52.633735",
     "exception": false,
     "start_time": "2022-04-01T03:42:52.624041",
     "status": "completed"
    },
    "tags": []
   },
   "source": [
    "# Step 3. Data Preproccessing\n",
    "#### - Feature engineering, standardization, one-hot encoding, etc\n",
    "#### - Create derived variables and descibe why you made this variable."
   ]
  },
  {
   "cell_type": "markdown",
   "id": "1b3eaabc",
   "metadata": {
    "papermill": {
     "duration": 0.009445,
     "end_time": "2022-04-01T03:42:52.652910",
     "exception": false,
     "start_time": "2022-04-01T03:42:52.643465",
     "status": "completed"
    },
    "tags": []
   },
   "source": [
    "# Step 4. ML Model\n",
    "#### - Use 1~2 ML model and describe about them\n",
    "#### - Cross Validation and hyperparameter tuning"
   ]
  },
  {
   "cell_type": "markdown",
   "id": "daa75e2c",
   "metadata": {
    "papermill": {
     "duration": 0.009435,
     "end_time": "2022-04-01T03:42:52.672157",
     "exception": false,
     "start_time": "2022-04-01T03:42:52.662722",
     "status": "completed"
    },
    "tags": []
   },
   "source": [
    "# Step 5. Model Evaluation\n",
    "#### - Split data set into training data and verification data.\n",
    "#### - Create Confusion Matrix and compare model accuracy."
   ]
  },
  {
   "cell_type": "markdown",
   "id": "891b3b70",
   "metadata": {
    "papermill": {
     "duration": 0.009421,
     "end_time": "2022-04-01T03:42:52.691552",
     "exception": false,
     "start_time": "2022-04-01T03:42:52.682131",
     "status": "completed"
    },
    "tags": []
   },
   "source": [
    "# Step 6. Submission\n",
    "#### - Submit according to the sample given"
   ]
  },
  {
   "cell_type": "markdown",
   "id": "6ada7bae",
   "metadata": {
    "papermill": {
     "duration": 0.009504,
     "end_time": "2022-04-01T03:42:52.710814",
     "exception": false,
     "start_time": "2022-04-01T03:42:52.701310",
     "status": "completed"
    },
    "tags": []
   },
   "source": [
    "# Reference\n",
    "#### - Be sure to link the referenced code in order to prevent plagiarism on your laptop.\n",
    "#### - Write author name, code title, and url"
   ]
  }
 ],
 "metadata": {
  "kernelspec": {
   "display_name": "Python 3",
   "language": "python",
   "name": "python3"
  },
  "language_info": {
   "codemirror_mode": {
    "name": "ipython",
    "version": 3
   },
   "file_extension": ".py",
   "mimetype": "text/x-python",
   "name": "python",
   "nbconvert_exporter": "python",
   "pygments_lexer": "ipython3",
   "version": "3.7.12"
  },
  "papermill": {
   "default_parameters": {},
   "duration": 11.898578,
   "end_time": "2022-04-01T03:42:53.530498",
   "environment_variables": {},
   "exception": null,
   "input_path": "__notebook__.ipynb",
   "output_path": "__notebook__.ipynb",
   "parameters": {},
   "start_time": "2022-04-01T03:42:41.631920",
   "version": "2.3.3"
  }
 },
 "nbformat": 4,
 "nbformat_minor": 5
}
