{
 "cells": [
  {
   "cell_type": "code",
   "execution_count": 1,
   "id": "31776af4",
   "metadata": {
    "_cell_guid": "b1076dfc-b9ad-4769-8c92-a6c4dae69d19",
    "_uuid": "8f2839f25d086af736a60e9eeb907d3b93b6e0e5",
    "execution": {
     "iopub.execute_input": "2022-04-03T15:07:55.501858Z",
     "iopub.status.busy": "2022-04-03T15:07:55.500700Z",
     "iopub.status.idle": "2022-04-03T15:07:55.512962Z",
     "shell.execute_reply": "2022-04-03T15:07:55.513437Z",
     "shell.execute_reply.started": "2022-04-03T13:27:46.409149Z"
    },
    "papermill": {
     "duration": 0.051769,
     "end_time": "2022-04-03T15:07:55.513706",
     "exception": false,
     "start_time": "2022-04-03T15:07:55.461937",
     "status": "completed"
    },
    "tags": []
   },
   "outputs": [
    {
     "name": "stdout",
     "output_type": "stream",
     "text": [
      "/kaggle/input/spaceship-titanic/sample_submission.csv\n",
      "/kaggle/input/spaceship-titanic/train.csv\n",
      "/kaggle/input/spaceship-titanic/test.csv\n"
     ]
    }
   ],
   "source": [
    "# This Python 3 environment comes with many helpful analytics libraries installed\n",
    "# It is defined by the kaggle/python Docker image: https://github.com/kaggle/docker-python\n",
    "# For example, here's several helpful packages to load\n",
    "\n",
    "import numpy as np # linear algebra\n",
    "import pandas as pd # data processing, CSV file I/O (e.g. pd.read_csv)\n",
    "\n",
    "# Input data files are available in the read-only \"../input/\" directory\n",
    "# For example, running this (by clicking run or pressing Shift+Enter) will list all files under the input directory\n",
    "\n",
    "import os\n",
    "for dirname, _, filenames in os.walk('/kaggle/input'):\n",
    "    for filename in filenames:\n",
    "        print(os.path.join(dirname, filename))\n",
    "\n",
    "# You can write up to 20GB to the current directory (/kaggle/working/) that gets preserved as output when you create a version using \"Save & Run All\" \n",
    "# You can also write temporary files to /kaggle/temp/, but they won't be saved outside of the current session"
   ]
  },
  {
   "cell_type": "markdown",
   "id": "a7b73a7a",
   "metadata": {
    "papermill": {
     "duration": 0.033693,
     "end_time": "2022-04-03T15:07:55.582298",
     "exception": false,
     "start_time": "2022-04-03T15:07:55.548605",
     "status": "completed"
    },
    "tags": []
   },
   "source": []
  },
  {
   "cell_type": "markdown",
   "id": "2bc9ff5e",
   "metadata": {
    "papermill": {
     "duration": 0.033764,
     "end_time": "2022-04-03T15:07:55.649812",
     "exception": false,
     "start_time": "2022-04-03T15:07:55.616048",
     "status": "completed"
    },
    "tags": []
   },
   "source": [
    "# Step 1. Library and Dataset Loading\n",
    "#### - Check the library version"
   ]
  },
  {
   "cell_type": "markdown",
   "id": "1365d265",
   "metadata": {
    "papermill": {
     "duration": 0.03376,
     "end_time": "2022-04-03T15:07:55.717462",
     "exception": false,
     "start_time": "2022-04-03T15:07:55.683702",
     "status": "completed"
    },
    "tags": []
   },
   "source": [
    "## Import Library"
   ]
  },
  {
   "cell_type": "code",
   "execution_count": 2,
   "id": "56e9310f",
   "metadata": {
    "execution": {
     "iopub.execute_input": "2022-04-03T15:07:55.792191Z",
     "iopub.status.busy": "2022-04-03T15:07:55.791209Z",
     "iopub.status.idle": "2022-04-03T15:07:56.739862Z",
     "shell.execute_reply": "2022-04-03T15:07:56.739349Z",
     "shell.execute_reply.started": "2022-04-03T13:27:46.450423Z"
    },
    "papermill": {
     "duration": 0.988307,
     "end_time": "2022-04-03T15:07:56.740030",
     "exception": false,
     "start_time": "2022-04-03T15:07:55.751723",
     "status": "completed"
    },
    "tags": []
   },
   "outputs": [
    {
     "name": "stdout",
     "output_type": "stream",
     "text": [
      "Numpy ver. 1.20.3\n",
      "Pandas ver. 1.3.5\n",
      "Matplotlib ver. 3.5.1\n",
      "Seaborn ver. 0.11.2\n",
      "['sample_submission.csv', 'train.csv', 'test.csv']\n"
     ]
    }
   ],
   "source": [
    "import numpy as np\n",
    "import pandas as pd\n",
    "import seaborn as sns\n",
    "import matplotlib\n",
    "import matplotlib.pyplot as plt\n",
    "import os\n",
    "\n",
    "print(\"Numpy ver.\", np.__version__)\n",
    "print(\"Pandas ver.\", pd.__version__)\n",
    "print(\"Matplotlib ver.\", matplotlib.__version__)\n",
    "print(\"Seaborn ver.\", sns.__version__)\n",
    "\n",
    "print(os.listdir('../input/spaceship-titanic/'))"
   ]
  },
  {
   "cell_type": "code",
   "execution_count": 3,
   "id": "86689f43",
   "metadata": {
    "execution": {
     "iopub.execute_input": "2022-04-03T15:07:56.816195Z",
     "iopub.status.busy": "2022-04-03T15:07:56.815529Z",
     "iopub.status.idle": "2022-04-03T15:07:57.920358Z",
     "shell.execute_reply": "2022-04-03T15:07:57.919248Z",
     "shell.execute_reply.started": "2022-04-03T13:27:47.470961Z"
    },
    "papermill": {
     "duration": 1.144189,
     "end_time": "2022-04-03T15:07:57.920504",
     "exception": false,
     "start_time": "2022-04-03T15:07:56.776315",
     "status": "completed"
    },
    "tags": []
   },
   "outputs": [
    {
     "data": {
      "text/html": [
       "<style type='text/css'>\n",
       ".datatable table.frame { margin-bottom: 0; }\n",
       ".datatable table.frame thead { border-bottom: none; }\n",
       ".datatable table.frame tr.coltypes td {  color: #FFFFFF;  line-height: 6px;  padding: 0 0.5em;}\n",
       ".datatable .bool    { background: #DDDD99; }\n",
       ".datatable .object  { background: #565656; }\n",
       ".datatable .int     { background: #5D9E5D; }\n",
       ".datatable .float   { background: #4040CC; }\n",
       ".datatable .str     { background: #CC4040; }\n",
       ".datatable .time    { background: #40CC40; }\n",
       ".datatable .row_index {  background: var(--jp-border-color3);  border-right: 1px solid var(--jp-border-color0);  color: var(--jp-ui-font-color3);  font-size: 9px;}\n",
       ".datatable .frame tbody td { text-align: left; }\n",
       ".datatable .frame tr.coltypes .row_index {  background: var(--jp-border-color0);}\n",
       ".datatable th:nth-child(2) { padding-left: 12px; }\n",
       ".datatable .hellipsis {  color: var(--jp-cell-editor-border-color);}\n",
       ".datatable .vellipsis {  background: var(--jp-layout-color0);  color: var(--jp-cell-editor-border-color);}\n",
       ".datatable .na {  color: var(--jp-cell-editor-border-color);  font-size: 80%;}\n",
       ".datatable .sp {  opacity: 0.25;}\n",
       ".datatable .footer { font-size: 9px; }\n",
       ".datatable .frame_dimensions {  background: var(--jp-border-color3);  border-top: 1px solid var(--jp-border-color0);  color: var(--jp-ui-font-color3);  display: inline-block;  opacity: 0.6;  padding: 1px 10px 1px 5px;}\n",
       "</style>\n"
      ],
      "text/plain": [
       "<IPython.core.display.HTML object>"
      ]
     },
     "metadata": {},
     "output_type": "display_data"
    }
   ],
   "source": [
    "from sklearn.impute import SimpleImputer\n",
    "from sklearn.metrics import accuracy_score\n",
    "from sklearn.preprocessing import LabelEncoder\n",
    "from sklearn.model_selection import StratifiedKFold, train_test_split\n",
    "from lightgbm import LGBMClassifier\n",
    "\n",
    "import time\n",
    "import warnings\n",
    "warnings.filterwarnings('ignore')"
   ]
  },
  {
   "cell_type": "markdown",
   "id": "421cafe9",
   "metadata": {
    "papermill": {
     "duration": 0.034853,
     "end_time": "2022-04-03T15:07:57.990787",
     "exception": false,
     "start_time": "2022-04-03T15:07:57.955934",
     "status": "completed"
    },
    "tags": []
   },
   "source": [
    "## Load Data Set"
   ]
  },
  {
   "cell_type": "code",
   "execution_count": 4,
   "id": "5cd4186a",
   "metadata": {
    "execution": {
     "iopub.execute_input": "2022-04-03T15:07:58.068163Z",
     "iopub.status.busy": "2022-04-03T15:07:58.067524Z",
     "iopub.status.idle": "2022-04-03T15:07:58.177377Z",
     "shell.execute_reply": "2022-04-03T15:07:58.176170Z",
     "shell.execute_reply.started": "2022-04-03T13:27:48.781678Z"
    },
    "papermill": {
     "duration": 0.150633,
     "end_time": "2022-04-03T15:07:58.177624",
     "exception": false,
     "start_time": "2022-04-03T15:07:58.026991",
     "status": "completed"
    },
    "tags": []
   },
   "outputs": [
    {
     "name": "stdout",
     "output_type": "stream",
     "text": [
      "Train Data: (8693, 14)\n",
      "Test Data: (4277, 13)\n",
      "Submission: (4277, 2)\n"
     ]
    }
   ],
   "source": [
    "BASE_DIR = '../input/spaceship-titanic/'\n",
    "train = pd.read_csv(BASE_DIR + \"train.csv\")\n",
    "test = pd.read_csv(BASE_DIR + \"test.csv\")\n",
    "sample_submission = pd.read_csv(BASE_DIR + \"sample_submission.csv\")\n",
    "print(\"Train Data:\",train.shape)\n",
    "print(\"Test Data:\",test.shape)\n",
    "print(\"Submission:\",sample_submission.shape)"
   ]
  },
  {
   "cell_type": "code",
   "execution_count": 5,
   "id": "a55c6b42",
   "metadata": {
    "execution": {
     "iopub.execute_input": "2022-04-03T15:07:58.253527Z",
     "iopub.status.busy": "2022-04-03T15:07:58.252872Z",
     "iopub.status.idle": "2022-04-03T15:07:58.282083Z",
     "shell.execute_reply": "2022-04-03T15:07:58.282565Z",
     "shell.execute_reply.started": "2022-04-03T13:27:48.914340Z"
    },
    "papermill": {
     "duration": 0.068112,
     "end_time": "2022-04-03T15:07:58.282726",
     "exception": false,
     "start_time": "2022-04-03T15:07:58.214614",
     "status": "completed"
    },
    "tags": []
   },
   "outputs": [
    {
     "name": "stdout",
     "output_type": "stream",
     "text": [
      "<class 'pandas.core.frame.DataFrame'>\n",
      "RangeIndex: 8693 entries, 0 to 8692\n",
      "Data columns (total 14 columns):\n",
      " #   Column        Non-Null Count  Dtype  \n",
      "---  ------        --------------  -----  \n",
      " 0   PassengerId   8693 non-null   object \n",
      " 1   HomePlanet    8492 non-null   object \n",
      " 2   CryoSleep     8476 non-null   object \n",
      " 3   Cabin         8494 non-null   object \n",
      " 4   Destination   8511 non-null   object \n",
      " 5   Age           8514 non-null   float64\n",
      " 6   VIP           8490 non-null   object \n",
      " 7   RoomService   8512 non-null   float64\n",
      " 8   FoodCourt     8510 non-null   float64\n",
      " 9   ShoppingMall  8485 non-null   float64\n",
      " 10  Spa           8510 non-null   float64\n",
      " 11  VRDeck        8505 non-null   float64\n",
      " 12  Name          8493 non-null   object \n",
      " 13  Transported   8693 non-null   bool   \n",
      "dtypes: bool(1), float64(6), object(7)\n",
      "memory usage: 891.5+ KB\n"
     ]
    }
   ],
   "source": [
    "train.info()"
   ]
  },
  {
   "cell_type": "code",
   "execution_count": 6,
   "id": "54a7f0ba",
   "metadata": {
    "execution": {
     "iopub.execute_input": "2022-04-03T15:07:58.359946Z",
     "iopub.status.busy": "2022-04-03T15:07:58.359304Z",
     "iopub.status.idle": "2022-04-03T15:07:58.375374Z",
     "shell.execute_reply": "2022-04-03T15:07:58.375868Z",
     "shell.execute_reply.started": "2022-04-03T13:27:48.974902Z"
    },
    "papermill": {
     "duration": 0.05632,
     "end_time": "2022-04-03T15:07:58.376062",
     "exception": false,
     "start_time": "2022-04-03T15:07:58.319742",
     "status": "completed"
    },
    "tags": []
   },
   "outputs": [
    {
     "name": "stdout",
     "output_type": "stream",
     "text": [
      "<class 'pandas.core.frame.DataFrame'>\n",
      "RangeIndex: 4277 entries, 0 to 4276\n",
      "Data columns (total 13 columns):\n",
      " #   Column        Non-Null Count  Dtype  \n",
      "---  ------        --------------  -----  \n",
      " 0   PassengerId   4277 non-null   object \n",
      " 1   HomePlanet    4190 non-null   object \n",
      " 2   CryoSleep     4184 non-null   object \n",
      " 3   Cabin         4177 non-null   object \n",
      " 4   Destination   4185 non-null   object \n",
      " 5   Age           4186 non-null   float64\n",
      " 6   VIP           4184 non-null   object \n",
      " 7   RoomService   4195 non-null   float64\n",
      " 8   FoodCourt     4171 non-null   float64\n",
      " 9   ShoppingMall  4179 non-null   float64\n",
      " 10  Spa           4176 non-null   float64\n",
      " 11  VRDeck        4197 non-null   float64\n",
      " 12  Name          4183 non-null   object \n",
      "dtypes: float64(6), object(7)\n",
      "memory usage: 434.5+ KB\n"
     ]
    }
   ],
   "source": [
    "test.info()"
   ]
  },
  {
   "cell_type": "code",
   "execution_count": 7,
   "id": "cb157aa6",
   "metadata": {
    "execution": {
     "iopub.execute_input": "2022-04-03T15:07:58.455819Z",
     "iopub.status.busy": "2022-04-03T15:07:58.454823Z",
     "iopub.status.idle": "2022-04-03T15:07:58.475640Z",
     "shell.execute_reply": "2022-04-03T15:07:58.475116Z",
     "shell.execute_reply.started": "2022-04-03T13:27:48.881564Z"
    },
    "papermill": {
     "duration": 0.06319,
     "end_time": "2022-04-03T15:07:58.475773",
     "exception": false,
     "start_time": "2022-04-03T15:07:58.412583",
     "status": "completed"
    },
    "tags": []
   },
   "outputs": [
    {
     "data": {
      "text/html": [
       "<div>\n",
       "<style scoped>\n",
       "    .dataframe tbody tr th:only-of-type {\n",
       "        vertical-align: middle;\n",
       "    }\n",
       "\n",
       "    .dataframe tbody tr th {\n",
       "        vertical-align: top;\n",
       "    }\n",
       "\n",
       "    .dataframe thead th {\n",
       "        text-align: right;\n",
       "    }\n",
       "</style>\n",
       "<table border=\"1\" class=\"dataframe\">\n",
       "  <thead>\n",
       "    <tr style=\"text-align: right;\">\n",
       "      <th></th>\n",
       "      <th>PassengerId</th>\n",
       "      <th>HomePlanet</th>\n",
       "      <th>CryoSleep</th>\n",
       "      <th>Cabin</th>\n",
       "      <th>Destination</th>\n",
       "      <th>Age</th>\n",
       "      <th>VIP</th>\n",
       "      <th>RoomService</th>\n",
       "      <th>FoodCourt</th>\n",
       "      <th>ShoppingMall</th>\n",
       "      <th>Spa</th>\n",
       "      <th>VRDeck</th>\n",
       "      <th>Name</th>\n",
       "      <th>Transported</th>\n",
       "    </tr>\n",
       "  </thead>\n",
       "  <tbody>\n",
       "    <tr>\n",
       "      <th>0</th>\n",
       "      <td>0001_01</td>\n",
       "      <td>Europa</td>\n",
       "      <td>False</td>\n",
       "      <td>B/0/P</td>\n",
       "      <td>TRAPPIST-1e</td>\n",
       "      <td>39.0</td>\n",
       "      <td>False</td>\n",
       "      <td>0.0</td>\n",
       "      <td>0.0</td>\n",
       "      <td>0.0</td>\n",
       "      <td>0.0</td>\n",
       "      <td>0.0</td>\n",
       "      <td>Maham Ofracculy</td>\n",
       "      <td>False</td>\n",
       "    </tr>\n",
       "    <tr>\n",
       "      <th>1</th>\n",
       "      <td>0002_01</td>\n",
       "      <td>Earth</td>\n",
       "      <td>False</td>\n",
       "      <td>F/0/S</td>\n",
       "      <td>TRAPPIST-1e</td>\n",
       "      <td>24.0</td>\n",
       "      <td>False</td>\n",
       "      <td>109.0</td>\n",
       "      <td>9.0</td>\n",
       "      <td>25.0</td>\n",
       "      <td>549.0</td>\n",
       "      <td>44.0</td>\n",
       "      <td>Juanna Vines</td>\n",
       "      <td>True</td>\n",
       "    </tr>\n",
       "    <tr>\n",
       "      <th>2</th>\n",
       "      <td>0003_01</td>\n",
       "      <td>Europa</td>\n",
       "      <td>False</td>\n",
       "      <td>A/0/S</td>\n",
       "      <td>TRAPPIST-1e</td>\n",
       "      <td>58.0</td>\n",
       "      <td>True</td>\n",
       "      <td>43.0</td>\n",
       "      <td>3576.0</td>\n",
       "      <td>0.0</td>\n",
       "      <td>6715.0</td>\n",
       "      <td>49.0</td>\n",
       "      <td>Altark Susent</td>\n",
       "      <td>False</td>\n",
       "    </tr>\n",
       "  </tbody>\n",
       "</table>\n",
       "</div>"
      ],
      "text/plain": [
       "  PassengerId HomePlanet CryoSleep  Cabin  Destination   Age    VIP  \\\n",
       "0     0001_01     Europa     False  B/0/P  TRAPPIST-1e  39.0  False   \n",
       "1     0002_01      Earth     False  F/0/S  TRAPPIST-1e  24.0  False   \n",
       "2     0003_01     Europa     False  A/0/S  TRAPPIST-1e  58.0   True   \n",
       "\n",
       "   RoomService  FoodCourt  ShoppingMall     Spa  VRDeck             Name  \\\n",
       "0          0.0        0.0           0.0     0.0     0.0  Maham Ofracculy   \n",
       "1        109.0        9.0          25.0   549.0    44.0     Juanna Vines   \n",
       "2         43.0     3576.0           0.0  6715.0    49.0    Altark Susent   \n",
       "\n",
       "   Transported  \n",
       "0        False  \n",
       "1         True  \n",
       "2        False  "
      ]
     },
     "execution_count": 7,
     "metadata": {},
     "output_type": "execute_result"
    }
   ],
   "source": [
    "train.head(3)"
   ]
  },
  {
   "cell_type": "code",
   "execution_count": 8,
   "id": "1e5b2f8e",
   "metadata": {
    "execution": {
     "iopub.execute_input": "2022-04-03T15:07:58.554188Z",
     "iopub.status.busy": "2022-04-03T15:07:58.553183Z",
     "iopub.status.idle": "2022-04-03T15:07:58.570867Z",
     "shell.execute_reply": "2022-04-03T15:07:58.570353Z",
     "shell.execute_reply.started": "2022-04-03T13:27:48.945855Z"
    },
    "papermill": {
     "duration": 0.058229,
     "end_time": "2022-04-03T15:07:58.571040",
     "exception": false,
     "start_time": "2022-04-03T15:07:58.512811",
     "status": "completed"
    },
    "tags": []
   },
   "outputs": [
    {
     "data": {
      "text/html": [
       "<div>\n",
       "<style scoped>\n",
       "    .dataframe tbody tr th:only-of-type {\n",
       "        vertical-align: middle;\n",
       "    }\n",
       "\n",
       "    .dataframe tbody tr th {\n",
       "        vertical-align: top;\n",
       "    }\n",
       "\n",
       "    .dataframe thead th {\n",
       "        text-align: right;\n",
       "    }\n",
       "</style>\n",
       "<table border=\"1\" class=\"dataframe\">\n",
       "  <thead>\n",
       "    <tr style=\"text-align: right;\">\n",
       "      <th></th>\n",
       "      <th>PassengerId</th>\n",
       "      <th>HomePlanet</th>\n",
       "      <th>CryoSleep</th>\n",
       "      <th>Cabin</th>\n",
       "      <th>Destination</th>\n",
       "      <th>Age</th>\n",
       "      <th>VIP</th>\n",
       "      <th>RoomService</th>\n",
       "      <th>FoodCourt</th>\n",
       "      <th>ShoppingMall</th>\n",
       "      <th>Spa</th>\n",
       "      <th>VRDeck</th>\n",
       "      <th>Name</th>\n",
       "    </tr>\n",
       "  </thead>\n",
       "  <tbody>\n",
       "    <tr>\n",
       "      <th>0</th>\n",
       "      <td>0013_01</td>\n",
       "      <td>Earth</td>\n",
       "      <td>True</td>\n",
       "      <td>G/3/S</td>\n",
       "      <td>TRAPPIST-1e</td>\n",
       "      <td>27.0</td>\n",
       "      <td>False</td>\n",
       "      <td>0.0</td>\n",
       "      <td>0.0</td>\n",
       "      <td>0.0</td>\n",
       "      <td>0.0</td>\n",
       "      <td>0.0</td>\n",
       "      <td>Nelly Carsoning</td>\n",
       "    </tr>\n",
       "    <tr>\n",
       "      <th>1</th>\n",
       "      <td>0018_01</td>\n",
       "      <td>Earth</td>\n",
       "      <td>False</td>\n",
       "      <td>F/4/S</td>\n",
       "      <td>TRAPPIST-1e</td>\n",
       "      <td>19.0</td>\n",
       "      <td>False</td>\n",
       "      <td>0.0</td>\n",
       "      <td>9.0</td>\n",
       "      <td>0.0</td>\n",
       "      <td>2823.0</td>\n",
       "      <td>0.0</td>\n",
       "      <td>Lerome Peckers</td>\n",
       "    </tr>\n",
       "    <tr>\n",
       "      <th>2</th>\n",
       "      <td>0019_01</td>\n",
       "      <td>Europa</td>\n",
       "      <td>True</td>\n",
       "      <td>C/0/S</td>\n",
       "      <td>55 Cancri e</td>\n",
       "      <td>31.0</td>\n",
       "      <td>False</td>\n",
       "      <td>0.0</td>\n",
       "      <td>0.0</td>\n",
       "      <td>0.0</td>\n",
       "      <td>0.0</td>\n",
       "      <td>0.0</td>\n",
       "      <td>Sabih Unhearfus</td>\n",
       "    </tr>\n",
       "  </tbody>\n",
       "</table>\n",
       "</div>"
      ],
      "text/plain": [
       "  PassengerId HomePlanet CryoSleep  Cabin  Destination   Age    VIP  \\\n",
       "0     0013_01      Earth      True  G/3/S  TRAPPIST-1e  27.0  False   \n",
       "1     0018_01      Earth     False  F/4/S  TRAPPIST-1e  19.0  False   \n",
       "2     0019_01     Europa      True  C/0/S  55 Cancri e  31.0  False   \n",
       "\n",
       "   RoomService  FoodCourt  ShoppingMall     Spa  VRDeck             Name  \n",
       "0          0.0        0.0           0.0     0.0     0.0  Nelly Carsoning  \n",
       "1          0.0        9.0           0.0  2823.0     0.0   Lerome Peckers  \n",
       "2          0.0        0.0           0.0     0.0     0.0  Sabih Unhearfus  "
      ]
     },
     "execution_count": 8,
     "metadata": {},
     "output_type": "execute_result"
    }
   ],
   "source": [
    "test.head(3)"
   ]
  },
  {
   "cell_type": "code",
   "execution_count": 9,
   "id": "e1399532",
   "metadata": {
    "execution": {
     "iopub.execute_input": "2022-04-03T15:07:58.655651Z",
     "iopub.status.busy": "2022-04-03T15:07:58.654972Z",
     "iopub.status.idle": "2022-04-03T15:07:58.657649Z",
     "shell.execute_reply": "2022-04-03T15:07:58.658133Z",
     "shell.execute_reply.started": "2022-04-03T13:27:48.999569Z"
    },
    "papermill": {
     "duration": 0.049407,
     "end_time": "2022-04-03T15:07:58.658292",
     "exception": false,
     "start_time": "2022-04-03T15:07:58.608885",
     "status": "completed"
    },
    "tags": []
   },
   "outputs": [
    {
     "data": {
      "text/html": [
       "<div>\n",
       "<style scoped>\n",
       "    .dataframe tbody tr th:only-of-type {\n",
       "        vertical-align: middle;\n",
       "    }\n",
       "\n",
       "    .dataframe tbody tr th {\n",
       "        vertical-align: top;\n",
       "    }\n",
       "\n",
       "    .dataframe thead th {\n",
       "        text-align: right;\n",
       "    }\n",
       "</style>\n",
       "<table border=\"1\" class=\"dataframe\">\n",
       "  <thead>\n",
       "    <tr style=\"text-align: right;\">\n",
       "      <th></th>\n",
       "      <th>PassengerId</th>\n",
       "      <th>Transported</th>\n",
       "    </tr>\n",
       "  </thead>\n",
       "  <tbody>\n",
       "    <tr>\n",
       "      <th>0</th>\n",
       "      <td>0013_01</td>\n",
       "      <td>False</td>\n",
       "    </tr>\n",
       "    <tr>\n",
       "      <th>1</th>\n",
       "      <td>0018_01</td>\n",
       "      <td>False</td>\n",
       "    </tr>\n",
       "    <tr>\n",
       "      <th>2</th>\n",
       "      <td>0019_01</td>\n",
       "      <td>False</td>\n",
       "    </tr>\n",
       "  </tbody>\n",
       "</table>\n",
       "</div>"
      ],
      "text/plain": [
       "  PassengerId  Transported\n",
       "0     0013_01        False\n",
       "1     0018_01        False\n",
       "2     0019_01        False"
      ]
     },
     "execution_count": 9,
     "metadata": {},
     "output_type": "execute_result"
    }
   ],
   "source": [
    "sample_submission.head(3)"
   ]
  },
  {
   "cell_type": "markdown",
   "id": "a4403c87",
   "metadata": {
    "papermill": {
     "duration": 0.037328,
     "end_time": "2022-04-03T15:07:58.733474",
     "exception": false,
     "start_time": "2022-04-03T15:07:58.696146",
     "status": "completed"
    },
    "tags": []
   },
   "source": [
    "#### There are a total of 13 features, of which 6 are numerical variables.\n",
    "#### The target, the column we're going to predict, is 'Trasnported', which is a bool type variable"
   ]
  },
  {
   "cell_type": "markdown",
   "id": "33263608",
   "metadata": {
    "papermill": {
     "duration": 0.037623,
     "end_time": "2022-04-03T15:07:58.808611",
     "exception": false,
     "start_time": "2022-04-03T15:07:58.770988",
     "status": "completed"
    },
    "tags": []
   },
   "source": []
  },
  {
   "cell_type": "markdown",
   "id": "83b907d2",
   "metadata": {
    "papermill": {
     "duration": 0.038239,
     "end_time": "2022-04-03T15:07:58.885257",
     "exception": false,
     "start_time": "2022-04-03T15:07:58.847018",
     "status": "completed"
    },
    "tags": []
   },
   "source": [
    "# Step 2. EDA\n",
    "#### - data visualization\n",
    "#### - scatter plot, bar graph, etc\n",
    "#### - interpretation and description of graphs"
   ]
  },
  {
   "cell_type": "markdown",
   "id": "a5b1a118",
   "metadata": {
    "papermill": {
     "duration": 0.038021,
     "end_time": "2022-04-03T15:07:58.961322",
     "exception": false,
     "start_time": "2022-04-03T15:07:58.923301",
     "status": "completed"
    },
    "tags": []
   },
   "source": [
    "## Overview of Data"
   ]
  },
  {
   "cell_type": "code",
   "execution_count": 10,
   "id": "6ad4e2e9",
   "metadata": {
    "execution": {
     "iopub.execute_input": "2022-04-03T15:07:59.041479Z",
     "iopub.status.busy": "2022-04-03T15:07:59.040825Z",
     "iopub.status.idle": "2022-04-03T15:07:59.071952Z",
     "shell.execute_reply": "2022-04-03T15:07:59.071344Z",
     "shell.execute_reply.started": "2022-04-03T13:52:13.036558Z"
    },
    "papermill": {
     "duration": 0.072368,
     "end_time": "2022-04-03T15:07:59.072114",
     "exception": false,
     "start_time": "2022-04-03T15:07:58.999746",
     "status": "completed"
    },
    "tags": []
   },
   "outputs": [
    {
     "data": {
      "text/html": [
       "<div>\n",
       "<style scoped>\n",
       "    .dataframe tbody tr th:only-of-type {\n",
       "        vertical-align: middle;\n",
       "    }\n",
       "\n",
       "    .dataframe tbody tr th {\n",
       "        vertical-align: top;\n",
       "    }\n",
       "\n",
       "    .dataframe thead th {\n",
       "        text-align: right;\n",
       "    }\n",
       "</style>\n",
       "<table border=\"1\" class=\"dataframe\">\n",
       "  <thead>\n",
       "    <tr style=\"text-align: right;\">\n",
       "      <th></th>\n",
       "      <th>Age</th>\n",
       "      <th>RoomService</th>\n",
       "      <th>FoodCourt</th>\n",
       "      <th>ShoppingMall</th>\n",
       "      <th>Spa</th>\n",
       "      <th>VRDeck</th>\n",
       "    </tr>\n",
       "  </thead>\n",
       "  <tbody>\n",
       "    <tr>\n",
       "      <th>count</th>\n",
       "      <td>8514.000000</td>\n",
       "      <td>8512.000000</td>\n",
       "      <td>8510.000000</td>\n",
       "      <td>8485.000000</td>\n",
       "      <td>8510.000000</td>\n",
       "      <td>8505.000000</td>\n",
       "    </tr>\n",
       "    <tr>\n",
       "      <th>mean</th>\n",
       "      <td>28.827930</td>\n",
       "      <td>224.687617</td>\n",
       "      <td>458.077203</td>\n",
       "      <td>173.729169</td>\n",
       "      <td>311.138778</td>\n",
       "      <td>304.854791</td>\n",
       "    </tr>\n",
       "    <tr>\n",
       "      <th>std</th>\n",
       "      <td>14.489021</td>\n",
       "      <td>666.717663</td>\n",
       "      <td>1611.489240</td>\n",
       "      <td>604.696458</td>\n",
       "      <td>1136.705535</td>\n",
       "      <td>1145.717189</td>\n",
       "    </tr>\n",
       "    <tr>\n",
       "      <th>min</th>\n",
       "      <td>0.000000</td>\n",
       "      <td>0.000000</td>\n",
       "      <td>0.000000</td>\n",
       "      <td>0.000000</td>\n",
       "      <td>0.000000</td>\n",
       "      <td>0.000000</td>\n",
       "    </tr>\n",
       "    <tr>\n",
       "      <th>25%</th>\n",
       "      <td>19.000000</td>\n",
       "      <td>0.000000</td>\n",
       "      <td>0.000000</td>\n",
       "      <td>0.000000</td>\n",
       "      <td>0.000000</td>\n",
       "      <td>0.000000</td>\n",
       "    </tr>\n",
       "    <tr>\n",
       "      <th>50%</th>\n",
       "      <td>27.000000</td>\n",
       "      <td>0.000000</td>\n",
       "      <td>0.000000</td>\n",
       "      <td>0.000000</td>\n",
       "      <td>0.000000</td>\n",
       "      <td>0.000000</td>\n",
       "    </tr>\n",
       "    <tr>\n",
       "      <th>75%</th>\n",
       "      <td>38.000000</td>\n",
       "      <td>47.000000</td>\n",
       "      <td>76.000000</td>\n",
       "      <td>27.000000</td>\n",
       "      <td>59.000000</td>\n",
       "      <td>46.000000</td>\n",
       "    </tr>\n",
       "    <tr>\n",
       "      <th>max</th>\n",
       "      <td>79.000000</td>\n",
       "      <td>14327.000000</td>\n",
       "      <td>29813.000000</td>\n",
       "      <td>23492.000000</td>\n",
       "      <td>22408.000000</td>\n",
       "      <td>24133.000000</td>\n",
       "    </tr>\n",
       "  </tbody>\n",
       "</table>\n",
       "</div>"
      ],
      "text/plain": [
       "               Age   RoomService     FoodCourt  ShoppingMall           Spa  \\\n",
       "count  8514.000000   8512.000000   8510.000000   8485.000000   8510.000000   \n",
       "mean     28.827930    224.687617    458.077203    173.729169    311.138778   \n",
       "std      14.489021    666.717663   1611.489240    604.696458   1136.705535   \n",
       "min       0.000000      0.000000      0.000000      0.000000      0.000000   \n",
       "25%      19.000000      0.000000      0.000000      0.000000      0.000000   \n",
       "50%      27.000000      0.000000      0.000000      0.000000      0.000000   \n",
       "75%      38.000000     47.000000     76.000000     27.000000     59.000000   \n",
       "max      79.000000  14327.000000  29813.000000  23492.000000  22408.000000   \n",
       "\n",
       "             VRDeck  \n",
       "count   8505.000000  \n",
       "mean     304.854791  \n",
       "std     1145.717189  \n",
       "min        0.000000  \n",
       "25%        0.000000  \n",
       "50%        0.000000  \n",
       "75%       46.000000  \n",
       "max    24133.000000  "
      ]
     },
     "execution_count": 10,
     "metadata": {},
     "output_type": "execute_result"
    }
   ],
   "source": [
    "train.describe()"
   ]
  },
  {
   "cell_type": "markdown",
   "id": "3484a618",
   "metadata": {
    "papermill": {
     "duration": 0.038214,
     "end_time": "2022-04-03T15:07:59.148962",
     "exception": false,
     "start_time": "2022-04-03T15:07:59.110748",
     "status": "completed"
    },
    "tags": []
   },
   "source": [
    "#### ※ Except Age, more than half of all numeric variables are zero.\n",
    "   - They are amount the passenger has billed at each of many amenities\n",
    "   - Preprocessing such as feature engineering and one-hot encoding is required."
   ]
  },
  {
   "cell_type": "code",
   "execution_count": 11,
   "id": "adcd0b30",
   "metadata": {
    "execution": {
     "iopub.execute_input": "2022-04-03T15:07:59.231982Z",
     "iopub.status.busy": "2022-04-03T15:07:59.231046Z",
     "iopub.status.idle": "2022-04-03T15:07:59.277856Z",
     "shell.execute_reply": "2022-04-03T15:07:59.277313Z",
     "shell.execute_reply.started": "2022-04-03T13:52:05.330080Z"
    },
    "papermill": {
     "duration": 0.090657,
     "end_time": "2022-04-03T15:07:59.278013",
     "exception": false,
     "start_time": "2022-04-03T15:07:59.187356",
     "status": "completed"
    },
    "tags": []
   },
   "outputs": [
    {
     "data": {
      "text/html": [
       "<div>\n",
       "<style scoped>\n",
       "    .dataframe tbody tr th:only-of-type {\n",
       "        vertical-align: middle;\n",
       "    }\n",
       "\n",
       "    .dataframe tbody tr th {\n",
       "        vertical-align: top;\n",
       "    }\n",
       "\n",
       "    .dataframe thead th {\n",
       "        text-align: right;\n",
       "    }\n",
       "</style>\n",
       "<table border=\"1\" class=\"dataframe\">\n",
       "  <thead>\n",
       "    <tr style=\"text-align: right;\">\n",
       "      <th></th>\n",
       "      <th>PassengerId</th>\n",
       "      <th>HomePlanet</th>\n",
       "      <th>CryoSleep</th>\n",
       "      <th>Cabin</th>\n",
       "      <th>Destination</th>\n",
       "      <th>VIP</th>\n",
       "      <th>Name</th>\n",
       "    </tr>\n",
       "  </thead>\n",
       "  <tbody>\n",
       "    <tr>\n",
       "      <th>count</th>\n",
       "      <td>8693</td>\n",
       "      <td>8492</td>\n",
       "      <td>8476</td>\n",
       "      <td>8494</td>\n",
       "      <td>8511</td>\n",
       "      <td>8490</td>\n",
       "      <td>8493</td>\n",
       "    </tr>\n",
       "    <tr>\n",
       "      <th>unique</th>\n",
       "      <td>8693</td>\n",
       "      <td>3</td>\n",
       "      <td>2</td>\n",
       "      <td>6560</td>\n",
       "      <td>3</td>\n",
       "      <td>2</td>\n",
       "      <td>8473</td>\n",
       "    </tr>\n",
       "    <tr>\n",
       "      <th>top</th>\n",
       "      <td>0001_01</td>\n",
       "      <td>Earth</td>\n",
       "      <td>False</td>\n",
       "      <td>G/734/S</td>\n",
       "      <td>TRAPPIST-1e</td>\n",
       "      <td>False</td>\n",
       "      <td>Gollux Reedall</td>\n",
       "    </tr>\n",
       "    <tr>\n",
       "      <th>freq</th>\n",
       "      <td>1</td>\n",
       "      <td>4602</td>\n",
       "      <td>5439</td>\n",
       "      <td>8</td>\n",
       "      <td>5915</td>\n",
       "      <td>8291</td>\n",
       "      <td>2</td>\n",
       "    </tr>\n",
       "  </tbody>\n",
       "</table>\n",
       "</div>"
      ],
      "text/plain": [
       "       PassengerId HomePlanet CryoSleep    Cabin  Destination    VIP  \\\n",
       "count         8693       8492      8476     8494         8511   8490   \n",
       "unique        8693          3         2     6560            3      2   \n",
       "top        0001_01      Earth     False  G/734/S  TRAPPIST-1e  False   \n",
       "freq             1       4602      5439        8         5915   8291   \n",
       "\n",
       "                  Name  \n",
       "count             8493  \n",
       "unique            8473  \n",
       "top     Gollux Reedall  \n",
       "freq                 2  "
      ]
     },
     "execution_count": 11,
     "metadata": {},
     "output_type": "execute_result"
    }
   ],
   "source": [
    "train.describe(include=['O'])"
   ]
  },
  {
   "cell_type": "markdown",
   "id": "1e3e63ce",
   "metadata": {
    "papermill": {
     "duration": 0.038451,
     "end_time": "2022-04-03T15:07:59.355906",
     "exception": false,
     "start_time": "2022-04-03T15:07:59.317455",
     "status": "completed"
    },
    "tags": []
   },
   "source": [
    "#### ※ PassengerID, Cabin, and Name are text data, not categorical.\n",
    "  - They don't seem to be important to the performance of the model.\n",
    "  - In ML modeling, these features won't be used."
   ]
  },
  {
   "cell_type": "markdown",
   "id": "55bf6363",
   "metadata": {
    "papermill": {
     "duration": 0.038597,
     "end_time": "2022-04-03T15:07:59.433707",
     "exception": false,
     "start_time": "2022-04-03T15:07:59.395110",
     "status": "completed"
    },
    "tags": []
   },
   "source": [
    "## Missing Value Distribution"
   ]
  },
  {
   "cell_type": "code",
   "execution_count": 12,
   "id": "c1dfaf0b",
   "metadata": {
    "execution": {
     "iopub.execute_input": "2022-04-03T15:07:59.517293Z",
     "iopub.status.busy": "2022-04-03T15:07:59.516332Z",
     "iopub.status.idle": "2022-04-03T15:07:59.537439Z",
     "shell.execute_reply": "2022-04-03T15:07:59.538013Z",
     "shell.execute_reply.started": "2022-04-03T13:27:49.127169Z"
    },
    "papermill": {
     "duration": 0.06378,
     "end_time": "2022-04-03T15:07:59.538195",
     "exception": false,
     "start_time": "2022-04-03T15:07:59.474415",
     "status": "completed"
    },
    "tags": []
   },
   "outputs": [],
   "source": [
    "train_miss = pd.DataFrame({'dtype' : train.iloc[:, :-1].dtypes,\n",
    "                           'missing' : train.iloc[:, :-1].isnull().sum()})\n",
    "test_miss = pd.DataFrame({'dtype' : test.dtypes,\n",
    "                          'missing' : test.isnull().sum()})"
   ]
  },
  {
   "cell_type": "code",
   "execution_count": 13,
   "id": "822641fa",
   "metadata": {
    "execution": {
     "iopub.execute_input": "2022-04-03T15:07:59.631052Z",
     "iopub.status.busy": "2022-04-03T15:07:59.619693Z",
     "iopub.status.idle": "2022-04-03T15:08:00.255699Z",
     "shell.execute_reply": "2022-04-03T15:08:00.256162Z",
     "shell.execute_reply.started": "2022-04-03T13:27:49.152579Z"
    },
    "papermill": {
     "duration": 0.678985,
     "end_time": "2022-04-03T15:08:00.256351",
     "exception": false,
     "start_time": "2022-04-03T15:07:59.577366",
     "status": "completed"
    },
    "tags": []
   },
   "outputs": [
    {
     "data": {
      "image/png": "[encoded data removed]",
      "text/plain": [
       "<Figure size 792x360 with 2 Axes>"
      ]
     },
     "metadata": {
      "needs_background": "light"
     },
     "output_type": "display_data"
    }
   ],
   "source": [
    "fig, ax = plt.subplots(1,2, figsize=(11,5))\n",
    "width = 0.5\n",
    "bar1 = ax[0].barh(sorted(train.columns[:-1].to_list(), reverse=True),\n",
    "                  train_miss['missing'].sort_index(ascending=False), width, color=\"skyblue\")\n",
    "bar2 = ax[1].barh(sorted(test.columns.to_list(), reverse=True),\n",
    "                  test_miss['missing'].sort_index(ascending=False), width, color=\"pink\")\n",
    "\n",
    "ax[0].set_title(\"Missing in Train Data\", loc=\"left\", pad=10, size=15)\n",
    "ax[0].set_xlim(0,240)\n",
    "ax[1].set_title(\"Missing in Test Data\", loc=\"left\", pad=10, size=15)\n",
    "ax[1].set_xlim(0,120)\n",
    "\n",
    "ax[0].bar_label(bar1, padding=2, size=12)\n",
    "ax[1].bar_label(bar2, padding=2, size=12)\n",
    "\n",
    "fig.tight_layout()\n",
    "plt.show()"
   ]
  },
  {
   "cell_type": "markdown",
   "id": "ab0d169a",
   "metadata": {
    "papermill": {
     "duration": 0.041318,
     "end_time": "2022-04-03T15:08:00.339163",
     "exception": false,
     "start_time": "2022-04-03T15:08:00.297845",
     "status": "completed"
    },
    "tags": []
   },
   "source": [
    "#### The ratio of missing values by feature is less than 10%.\n",
    "- The numerical features will be replaced by the median value.\n",
    "- The categorical features will be replaced by the most frequent value."
   ]
  },
  {
   "cell_type": "markdown",
   "id": "9f841f19",
   "metadata": {
    "papermill": {
     "duration": 0.040214,
     "end_time": "2022-04-03T15:08:00.419688",
     "exception": false,
     "start_time": "2022-04-03T15:08:00.379474",
     "status": "completed"
    },
    "tags": []
   },
   "source": [
    "## Categorical Feature Distribution"
   ]
  },
  {
   "cell_type": "code",
   "execution_count": 14,
   "id": "8e52c905",
   "metadata": {
    "execution": {
     "iopub.execute_input": "2022-04-03T15:08:00.509545Z",
     "iopub.status.busy": "2022-04-03T15:08:00.508889Z",
     "iopub.status.idle": "2022-04-03T15:08:00.515446Z",
     "shell.execute_reply": "2022-04-03T15:08:00.516035Z",
     "shell.execute_reply.started": "2022-04-03T13:27:49.818344Z"
    },
    "papermill": {
     "duration": 0.055114,
     "end_time": "2022-04-03T15:08:00.516198",
     "exception": false,
     "start_time": "2022-04-03T15:08:00.461084",
     "status": "completed"
    },
    "tags": []
   },
   "outputs": [
    {
     "data": {
      "text/plain": [
       "['HomePlanet', 'CryoSleep', 'Destination', 'VIP']"
      ]
     },
     "execution_count": 14,
     "metadata": {},
     "output_type": "execute_result"
    }
   ],
   "source": [
    "train_cat = train.select_dtypes(include = 'object')\n",
    "test_cat = test.select_dtypes(include = 'object')\n",
    "col_cat = train_cat.columns.to_list()[1:6]\n",
    "del col_cat[2]\n",
    "col_cat"
   ]
  },
  {
   "cell_type": "code",
   "execution_count": 15,
   "id": "fddf378d",
   "metadata": {
    "execution": {
     "iopub.execute_input": "2022-04-03T15:08:00.608835Z",
     "iopub.status.busy": "2022-04-03T15:08:00.607589Z",
     "iopub.status.idle": "2022-04-03T15:08:01.343981Z",
     "shell.execute_reply": "2022-04-03T15:08:01.344782Z",
     "shell.execute_reply.started": "2022-04-03T14:22:30.546493Z"
    },
    "papermill": {
     "duration": 0.787393,
     "end_time": "2022-04-03T15:08:01.345021",
     "exception": false,
     "start_time": "2022-04-03T15:08:00.557628",
     "status": "completed"
    },
    "tags": []
   },
   "outputs": [
    {
     "data": {
      "image/png": "[encoded data removed]",
      "text/plain": [
       "<Figure size 792x792 with 4 Axes>"
      ]
     },
     "metadata": {
      "needs_background": "light"
     },
     "output_type": "display_data"
    }
   ],
   "source": [
    "fig, ax = plt.subplots(2,2,figsize=(11,11))\n",
    "\n",
    "width = 0.35\n",
    "x = []\n",
    "b = []\n",
    "b2 = []\n",
    "\n",
    "for i in range(2):\n",
    "    for j in range(2):\n",
    "        x.append(train_cat.loc[:,col_cat[2*i+j]].unique().tolist()[:-1])\n",
    "        b.append(ax[i,j].bar(np.arange(len(x[2*i+j])) - width/2,\n",
    "                               train_cat.loc[:,col_cat[2*i+j]].value_counts().to_list(),\n",
    "                               width, label = \"Train Data\", color=\"skyblue\"))\n",
    "        b2.append(ax[i,j].bar(np.arange(len(x[2*i+j])) + width/2,\n",
    "                                test_cat.loc[:,col_cat[2*i+j]].value_counts().to_list(),\n",
    "                                width, label = \"Test Data\", color=\"pink\"))\n",
    "        ax[i,j].bar_label(b[2*i+j], label_type='edge', size=12)\n",
    "        ax[i,j].bar_label(b2[2*i+j], label_type='edge', size=12)\n",
    "        ax[i,j].set_title(f'{col_cat[2*i+j]} Distribution',\n",
    "                          pad=10, size=15)\n",
    "        ax[i,j].set_xticks(np.arange(len(x[2*i+j])), x[2*i+j], size=12)\n",
    "        ax[i,j].legend(loc=\"best\", fontsize=12)\n",
    "\n",
    "fig.tight_layout()\n",
    "plt.show()"
   ]
  },
  {
   "cell_type": "markdown",
   "id": "dafd46b7",
   "metadata": {
    "papermill": {
     "duration": 0.043048,
     "end_time": "2022-04-03T15:08:01.436807",
     "exception": false,
     "start_time": "2022-04-03T15:08:01.393759",
     "status": "completed"
    },
    "tags": []
   },
   "source": [
    "## Numeric Feature Distribution"
   ]
  },
  {
   "cell_type": "code",
   "execution_count": 16,
   "id": "7735e225",
   "metadata": {
    "execution": {
     "iopub.execute_input": "2022-04-03T15:08:01.534152Z",
     "iopub.status.busy": "2022-04-03T15:08:01.533325Z",
     "iopub.status.idle": "2022-04-03T15:08:01.536510Z",
     "shell.execute_reply": "2022-04-03T15:08:01.536982Z",
     "shell.execute_reply.started": "2022-04-03T13:27:50.544429Z"
    },
    "papermill": {
     "duration": 0.0565,
     "end_time": "2022-04-03T15:08:01.537187",
     "exception": false,
     "start_time": "2022-04-03T15:08:01.480687",
     "status": "completed"
    },
    "tags": []
   },
   "outputs": [
    {
     "data": {
      "text/plain": [
       "['Age', 'RoomService', 'FoodCourt', 'ShoppingMall', 'Spa', 'VRDeck']"
      ]
     },
     "execution_count": 16,
     "metadata": {},
     "output_type": "execute_result"
    }
   ],
   "source": [
    "numeric = ['int8', 'int16', 'int32', 'int64', 'float16', 'float32', 'float64']\n",
    "train_num = train.select_dtypes(include = numeric)\n",
    "test_num = test.select_dtypes(include = numeric)\n",
    "col_num = train_num.columns.to_list()\n",
    "col_num"
   ]
  },
  {
   "cell_type": "code",
   "execution_count": 17,
   "id": "61c25ebf",
   "metadata": {
    "execution": {
     "iopub.execute_input": "2022-04-03T15:08:01.658891Z",
     "iopub.status.busy": "2022-04-03T15:08:01.643153Z",
     "iopub.status.idle": "2022-04-03T15:08:02.184765Z",
     "shell.execute_reply": "2022-04-03T15:08:02.185283Z",
     "shell.execute_reply.started": "2022-04-03T13:27:50.558135Z"
    },
    "papermill": {
     "duration": 0.604987,
     "end_time": "2022-04-03T15:08:02.185450",
     "exception": false,
     "start_time": "2022-04-03T15:08:01.580463",
     "status": "completed"
    },
    "tags": []
   },
   "outputs": [
    {
     "data": {
      "image/png": "[encoded data removed]",
      "text/plain": [
       "<Figure size 864x1080 with 6 Axes>"
      ]
     },
     "metadata": {
      "needs_background": "light"
     },
     "output_type": "display_data"
    }
   ],
   "source": [
    "fig, ax = plt.subplots(3,2,figsize=(12,15))\n",
    "\n",
    "for i in range(3):\n",
    "    for j in range(2):\n",
    "        ax[i, j].boxplot(train_num.iloc[:,2*i+j].tolist()[:10], 0, 'rD')\n",
    "        ax[i, j].set_title(col_num[2*i+j], pad=7, size=15)\n",
    "\n",
    "plt.show()"
   ]
  },
  {
   "cell_type": "markdown",
   "id": "aec81cc6",
   "metadata": {
    "papermill": {
     "duration": 0.044932,
     "end_time": "2022-04-03T15:08:02.275393",
     "exception": false,
     "start_time": "2022-04-03T15:08:02.230461",
     "status": "completed"
    },
    "tags": []
   },
   "source": [
    "## Correlation Matrix"
   ]
  },
  {
   "cell_type": "code",
   "execution_count": 18,
   "id": "289ce76f",
   "metadata": {
    "execution": {
     "iopub.execute_input": "2022-04-03T15:08:02.371050Z",
     "iopub.status.busy": "2022-04-03T15:08:02.370369Z",
     "iopub.status.idle": "2022-04-03T15:08:02.449705Z",
     "shell.execute_reply": "2022-04-03T15:08:02.449220Z",
     "shell.execute_reply.started": "2022-04-03T14:34:38.223815Z"
    },
    "papermill": {
     "duration": 0.130066,
     "end_time": "2022-04-03T15:08:02.449838",
     "exception": false,
     "start_time": "2022-04-03T15:08:02.319772",
     "status": "completed"
    },
    "tags": []
   },
   "outputs": [
    {
     "data": {
      "text/html": [
       "<style type=\"text/css\">\n",
       "#T_4d14a_row0_col0, #T_4d14a_row1_col1, #T_4d14a_row2_col2, #T_4d14a_row3_col3, #T_4d14a_row4_col4, #T_4d14a_row5_col5 {\n",
       "  background-color: #053061;\n",
       "  color: #f1f1f1;\n",
       "}\n",
       "#T_4d14a_row0_col1, #T_4d14a_row1_col0 {\n",
       "  background-color: #ddebf2;\n",
       "  color: #000000;\n",
       "}\n",
       "#T_4d14a_row0_col2, #T_4d14a_row2_col0 {\n",
       "  background-color: #bddbea;\n",
       "  color: #000000;\n",
       "}\n",
       "#T_4d14a_row0_col3, #T_4d14a_row3_col0 {\n",
       "  background-color: #eaf1f5;\n",
       "  color: #000000;\n",
       "}\n",
       "#T_4d14a_row0_col4, #T_4d14a_row4_col0 {\n",
       "  background-color: #c2ddec;\n",
       "  color: #000000;\n",
       "}\n",
       "#T_4d14a_row0_col5, #T_4d14a_row5_col0 {\n",
       "  background-color: #d1e5f0;\n",
       "  color: #000000;\n",
       "}\n",
       "#T_4d14a_row1_col2, #T_4d14a_row2_col1 {\n",
       "  background-color: #f8f2ef;\n",
       "  color: #000000;\n",
       "}\n",
       "#T_4d14a_row1_col3, #T_4d14a_row3_col1 {\n",
       "  background-color: #e3edf3;\n",
       "  color: #000000;\n",
       "}\n",
       "#T_4d14a_row1_col4, #T_4d14a_row4_col1 {\n",
       "  background-color: #f3f5f6;\n",
       "  color: #000000;\n",
       "}\n",
       "#T_4d14a_row1_col5, #T_4d14a_row5_col1 {\n",
       "  background-color: #f8f1ed;\n",
       "  color: #000000;\n",
       "}\n",
       "#T_4d14a_row2_col3, #T_4d14a_row3_col2 {\n",
       "  background-color: #f8f3f0;\n",
       "  color: #000000;\n",
       "}\n",
       "#T_4d14a_row2_col4, #T_4d14a_row4_col2 {\n",
       "  background-color: #81bad8;\n",
       "  color: #000000;\n",
       "}\n",
       "#T_4d14a_row2_col5, #T_4d14a_row5_col2 {\n",
       "  background-color: #7bb6d6;\n",
       "  color: #000000;\n",
       "}\n",
       "#T_4d14a_row3_col4, #T_4d14a_row4_col3 {\n",
       "  background-color: #f2f5f6;\n",
       "  color: #000000;\n",
       "}\n",
       "#T_4d14a_row3_col5, #T_4d14a_row5_col3 {\n",
       "  background-color: #f7f5f4;\n",
       "  color: #000000;\n",
       "}\n",
       "#T_4d14a_row4_col5, #T_4d14a_row5_col4 {\n",
       "  background-color: #aed3e6;\n",
       "  color: #000000;\n",
       "}\n",
       "</style>\n",
       "<table id=\"T_4d14a_\">\n",
       "  <thead>\n",
       "    <tr>\n",
       "      <th class=\"blank level0\" >&nbsp;</th>\n",
       "      <th class=\"col_heading level0 col0\" >Age</th>\n",
       "      <th class=\"col_heading level0 col1\" >RoomService</th>\n",
       "      <th class=\"col_heading level0 col2\" >FoodCourt</th>\n",
       "      <th class=\"col_heading level0 col3\" >ShoppingMall</th>\n",
       "      <th class=\"col_heading level0 col4\" >Spa</th>\n",
       "      <th class=\"col_heading level0 col5\" >VRDeck</th>\n",
       "    </tr>\n",
       "  </thead>\n",
       "  <tbody>\n",
       "    <tr>\n",
       "      <th id=\"T_4d14a_level0_row0\" class=\"row_heading level0 row0\" >Age</th>\n",
       "      <td id=\"T_4d14a_row0_col0\" class=\"data row0 col0\" >1.000000</td>\n",
       "      <td id=\"T_4d14a_row0_col1\" class=\"data row0 col1\" >0.068723</td>\n",
       "      <td id=\"T_4d14a_row0_col2\" class=\"data row0 col2\" >0.130421</td>\n",
       "      <td id=\"T_4d14a_row0_col3\" class=\"data row0 col3\" >0.033133</td>\n",
       "      <td id=\"T_4d14a_row0_col4\" class=\"data row0 col4\" >0.123970</td>\n",
       "      <td id=\"T_4d14a_row0_col5\" class=\"data row0 col5\" >0.101007</td>\n",
       "    </tr>\n",
       "    <tr>\n",
       "      <th id=\"T_4d14a_level0_row1\" class=\"row_heading level0 row1\" >RoomService</th>\n",
       "      <td id=\"T_4d14a_row1_col0\" class=\"data row1 col0\" >0.068723</td>\n",
       "      <td id=\"T_4d14a_row1_col1\" class=\"data row1 col1\" >1.000000</td>\n",
       "      <td id=\"T_4d14a_row1_col2\" class=\"data row1 col2\" >-0.015889</td>\n",
       "      <td id=\"T_4d14a_row1_col3\" class=\"data row1 col3\" >0.054480</td>\n",
       "      <td id=\"T_4d14a_row1_col4\" class=\"data row1 col4\" >0.010080</td>\n",
       "      <td id=\"T_4d14a_row1_col5\" class=\"data row1 col5\" >-0.019581</td>\n",
       "    </tr>\n",
       "    <tr>\n",
       "      <th id=\"T_4d14a_level0_row2\" class=\"row_heading level0 row2\" >FoodCourt</th>\n",
       "      <td id=\"T_4d14a_row2_col0\" class=\"data row2 col0\" >0.130421</td>\n",
       "      <td id=\"T_4d14a_row2_col1\" class=\"data row2 col1\" >-0.015889</td>\n",
       "      <td id=\"T_4d14a_row2_col2\" class=\"data row2 col2\" >1.000000</td>\n",
       "      <td id=\"T_4d14a_row2_col3\" class=\"data row2 col3\" >-0.014228</td>\n",
       "      <td id=\"T_4d14a_row2_col4\" class=\"data row2 col4\" >0.221891</td>\n",
       "      <td id=\"T_4d14a_row2_col5\" class=\"data row2 col5\" >0.227995</td>\n",
       "    </tr>\n",
       "    <tr>\n",
       "      <th id=\"T_4d14a_level0_row3\" class=\"row_heading level0 row3\" >ShoppingMall</th>\n",
       "      <td id=\"T_4d14a_row3_col0\" class=\"data row3 col0\" >0.033133</td>\n",
       "      <td id=\"T_4d14a_row3_col1\" class=\"data row3 col1\" >0.054480</td>\n",
       "      <td id=\"T_4d14a_row3_col2\" class=\"data row3 col2\" >-0.014228</td>\n",
       "      <td id=\"T_4d14a_row3_col3\" class=\"data row3 col3\" >1.000000</td>\n",
       "      <td id=\"T_4d14a_row3_col4\" class=\"data row3 col4\" >0.013879</td>\n",
       "      <td id=\"T_4d14a_row3_col5\" class=\"data row3 col5\" >-0.007322</td>\n",
       "    </tr>\n",
       "    <tr>\n",
       "      <th id=\"T_4d14a_level0_row4\" class=\"row_heading level0 row4\" >Spa</th>\n",
       "      <td id=\"T_4d14a_row4_col0\" class=\"data row4 col0\" >0.123970</td>\n",
       "      <td id=\"T_4d14a_row4_col1\" class=\"data row4 col1\" >0.010080</td>\n",
       "      <td id=\"T_4d14a_row4_col2\" class=\"data row4 col2\" >0.221891</td>\n",
       "      <td id=\"T_4d14a_row4_col3\" class=\"data row4 col3\" >0.013879</td>\n",
       "      <td id=\"T_4d14a_row4_col4\" class=\"data row4 col4\" >1.000000</td>\n",
       "      <td id=\"T_4d14a_row4_col5\" class=\"data row4 col5\" >0.153821</td>\n",
       "    </tr>\n",
       "    <tr>\n",
       "      <th id=\"T_4d14a_level0_row5\" class=\"row_heading level0 row5\" >VRDeck</th>\n",
       "      <td id=\"T_4d14a_row5_col0\" class=\"data row5 col0\" >0.101007</td>\n",
       "      <td id=\"T_4d14a_row5_col1\" class=\"data row5 col1\" >-0.019581</td>\n",
       "      <td id=\"T_4d14a_row5_col2\" class=\"data row5 col2\" >0.227995</td>\n",
       "      <td id=\"T_4d14a_row5_col3\" class=\"data row5 col3\" >-0.007322</td>\n",
       "      <td id=\"T_4d14a_row5_col4\" class=\"data row5 col4\" >0.153821</td>\n",
       "      <td id=\"T_4d14a_row5_col5\" class=\"data row5 col5\" >1.000000</td>\n",
       "    </tr>\n",
       "  </tbody>\n",
       "</table>\n"
      ],
      "text/plain": [
       "<pandas.io.formats.style.Styler at 0x7fef89d86610>"
      ]
     },
     "execution_count": 18,
     "metadata": {},
     "output_type": "execute_result"
    }
   ],
   "source": [
    "train.iloc[:,:-1].corr().style.background_gradient(\n",
    "                        cmap=\"RdBu\", axis=None, vmin=-0.5, vmax=0.5)"
   ]
  },
  {
   "cell_type": "markdown",
   "id": "00a1a877",
   "metadata": {
    "papermill": {
     "duration": 0.04485,
     "end_time": "2022-04-03T15:08:02.540554",
     "exception": false,
     "start_time": "2022-04-03T15:08:02.495704",
     "status": "completed"
    },
    "tags": []
   },
   "source": [
    "#### There seems to be little correlation between features.\n",
    "- Issues such as multicollinearity don't have to be considered."
   ]
  },
  {
   "cell_type": "markdown",
   "id": "02b3deed",
   "metadata": {
    "papermill": {
     "duration": 0.044944,
     "end_time": "2022-04-03T15:08:02.630903",
     "exception": false,
     "start_time": "2022-04-03T15:08:02.585959",
     "status": "completed"
    },
    "tags": []
   },
   "source": [
    "## Target Distribution"
   ]
  },
  {
   "cell_type": "code",
   "execution_count": 19,
   "id": "35922b82",
   "metadata": {
    "execution": {
     "iopub.execute_input": "2022-04-03T15:08:02.759169Z",
     "iopub.status.busy": "2022-04-03T15:08:02.750048Z",
     "iopub.status.idle": "2022-04-03T15:08:02.940278Z",
     "shell.execute_reply": "2022-04-03T15:08:02.939699Z",
     "shell.execute_reply.started": "2022-04-03T15:07:23.286110Z"
    },
    "papermill": {
     "duration": 0.264311,
     "end_time": "2022-04-03T15:08:02.940452",
     "exception": false,
     "start_time": "2022-04-03T15:08:02.676141",
     "status": "completed"
    },
    "tags": []
   },
   "outputs": [
    {
     "data": {
      "image/png": "[encoded data removed]",
      "text/plain": [
       "<Figure size 360x360 with 1 Axes>"
      ]
     },
     "metadata": {},
     "output_type": "display_data"
    }
   ],
   "source": [
    "fig, ax = plt.subplots(figsize=(5,5))\n",
    "\n",
    "pie = ax.pie([train[\"Transported\"].value_counts().to_list()[0],\n",
    "             train[\"Transported\"].value_counts().to_list()[1]],\n",
    "             labels = train[\"Transported\"].unique().tolist(),\n",
    "             textprops=dict(fontsize=15), autopct='%.2f%%',\n",
    "             colors=[\"skyblue\", \"pink\"], wedgeprops=dict(width=0.75), startangle=90)\n",
    "\n",
    "ax.set_title(\"Target Distribution\", size=20)\n",
    "ax.legend(title=\"Transported\", loc=\"best\", fontsize=12)\n",
    "\n",
    "plt.show()"
   ]
  },
  {
   "cell_type": "markdown",
   "id": "bd7e6b43",
   "metadata": {
    "papermill": {
     "duration": 0.047367,
     "end_time": "2022-04-03T15:08:03.035647",
     "exception": false,
     "start_time": "2022-04-03T15:08:02.988280",
     "status": "completed"
    },
    "tags": []
   },
   "source": []
  },
  {
   "cell_type": "markdown",
   "id": "2a8593d2",
   "metadata": {
    "papermill": {
     "duration": 0.046577,
     "end_time": "2022-04-03T15:08:03.128964",
     "exception": false,
     "start_time": "2022-04-03T15:08:03.082387",
     "status": "completed"
    },
    "tags": []
   },
   "source": [
    "# Step 3. Data Preproccessing\n",
    "#### - Feature engineering, standardization, one-hot encoding, etc\n",
    "#### - Create derived variables and descibe why you made this variable."
   ]
  },
  {
   "cell_type": "markdown",
   "id": "8b23992f",
   "metadata": {
    "papermill": {
     "duration": 0.046276,
     "end_time": "2022-04-03T15:08:03.222899",
     "exception": false,
     "start_time": "2022-04-03T15:08:03.176623",
     "status": "completed"
    },
    "tags": []
   },
   "source": [
    "# Step 4. ML Model\n",
    "#### - Use 1~2 ML model and describe about them\n",
    "#### - Cross Validation and hyperparameter tuning"
   ]
  },
  {
   "cell_type": "code",
   "execution_count": 20,
   "id": "2c02aa05",
   "metadata": {
    "execution": {
     "iopub.execute_input": "2022-04-03T15:08:03.321319Z",
     "iopub.status.busy": "2022-04-03T15:08:03.320650Z",
     "iopub.status.idle": "2022-04-03T15:08:03.330642Z",
     "shell.execute_reply": "2022-04-03T15:08:03.331145Z",
     "shell.execute_reply.started": "2022-04-03T13:27:51.267889Z"
    },
    "papermill": {
     "duration": 0.061217,
     "end_time": "2022-04-03T15:08:03.331310",
     "exception": false,
     "start_time": "2022-04-03T15:08:03.270093",
     "status": "completed"
    },
    "tags": []
   },
   "outputs": [
    {
     "name": "stdout",
     "output_type": "stream",
     "text": [
      "(8693, 13)\n",
      "(8693,)\n"
     ]
    }
   ],
   "source": [
    "train_input = train.iloc[:, :-1].to_numpy()\n",
    "train_target = train.iloc[:,-1].to_numpy()\n",
    "print(train_input.shape)\n",
    "print(train_target.shape)"
   ]
  },
  {
   "cell_type": "markdown",
   "id": "61bea256",
   "metadata": {
    "papermill": {
     "duration": 0.046324,
     "end_time": "2022-04-03T15:08:03.424466",
     "exception": false,
     "start_time": "2022-04-03T15:08:03.378142",
     "status": "completed"
    },
    "tags": []
   },
   "source": [
    "# Step 5. Model Evaluation\n",
    "#### - Split data set into training data and verification data.\n",
    "#### - Create Confusion Matrix and compare model accuracy."
   ]
  },
  {
   "cell_type": "markdown",
   "id": "bc3d0f24",
   "metadata": {
    "papermill": {
     "duration": 0.047869,
     "end_time": "2022-04-03T15:08:03.518848",
     "exception": false,
     "start_time": "2022-04-03T15:08:03.470979",
     "status": "completed"
    },
    "tags": []
   },
   "source": [
    "# Step 6. Submission\n",
    "#### - Submit according to the sample given"
   ]
  },
  {
   "cell_type": "markdown",
   "id": "58da4393",
   "metadata": {
    "papermill": {
     "duration": 0.04657,
     "end_time": "2022-04-03T15:08:03.612066",
     "exception": false,
     "start_time": "2022-04-03T15:08:03.565496",
     "status": "completed"
    },
    "tags": []
   },
   "source": [
    "# Reference\n",
    "#### - Be sure to link the referenced code in order to prevent plagiarism on your laptop.\n",
    "#### - Write author name, code title, and url"
   ]
  }
 ],
 "metadata": {
  "kernelspec": {
   "display_name": "Python 3",
   "language": "python",
   "name": "python3"
  },
  "language_info": {
   "codemirror_mode": {
    "name": "ipython",
    "version": 3
   },
   "file_extension": ".py",
   "mimetype": "text/x-python",
   "name": "python",
   "nbconvert_exporter": "python",
   "pygments_lexer": "ipython3",
   "version": "3.7.12"
  },
  "papermill": {
   "default_parameters": {},
   "duration": 18.540498,
   "end_time": "2022-04-03T15:08:04.469048",
   "environment_variables": {},
   "exception": null,
   "input_path": "__notebook__.ipynb",
   "output_path": "__notebook__.ipynb",
   "parameters": {},
   "start_time": "2022-04-03T15:07:45.928550",
   "version": "2.3.3"
  }
 },
 "nbformat": 4,
 "nbformat_minor": 5
}
