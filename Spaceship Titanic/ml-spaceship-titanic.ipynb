{
 "cells": [
  {
   "cell_type": "code",
   "execution_count": 1,
   "id": "83f94289",
   "metadata": {
    "_cell_guid": "b1076dfc-b9ad-4769-8c92-a6c4dae69d19",
    "_uuid": "8f2839f25d086af736a60e9eeb907d3b93b6e0e5",
    "execution": {
     "iopub.execute_input": "2022-04-02T09:44:51.915859Z",
     "iopub.status.busy": "2022-04-02T09:44:51.915020Z",
     "iopub.status.idle": "2022-04-02T09:44:51.921276Z",
     "shell.execute_reply": "2022-04-02T09:44:51.921906Z",
     "shell.execute_reply.started": "2022-04-02T09:25:38.510479Z"
    },
    "papermill": {
     "duration": 0.053509,
     "end_time": "2022-04-02T09:44:51.922224",
     "exception": false,
     "start_time": "2022-04-02T09:44:51.868715",
     "status": "completed"
    },
    "tags": []
   },
   "outputs": [
    {
     "name": "stdout",
     "output_type": "stream",
     "text": [
      "/kaggle/input/spaceship-titanic/sample_submission.csv\n",
      "/kaggle/input/spaceship-titanic/train.csv\n",
      "/kaggle/input/spaceship-titanic/test.csv\n"
     ]
    }
   ],
   "source": [
    "# This Python 3 environment comes with many helpful analytics libraries installed\n",
    "# It is defined by the kaggle/python Docker image: https://github.com/kaggle/docker-python\n",
    "# For example, here's several helpful packages to load\n",
    "\n",
    "import numpy as np # linear algebra\n",
    "import pandas as pd # data processing, CSV file I/O (e.g. pd.read_csv)\n",
    "\n",
    "# Input data files are available in the read-only \"../input/\" directory\n",
    "# For example, running this (by clicking run or pressing Shift+Enter) will list all files under the input directory\n",
    "\n",
    "import os\n",
    "for dirname, _, filenames in os.walk('/kaggle/input'):\n",
    "    for filename in filenames:\n",
    "        print(os.path.join(dirname, filename))\n",
    "\n",
    "# You can write up to 20GB to the current directory (/kaggle/working/) that gets preserved as output when you create a version using \"Save & Run All\" \n",
    "# You can also write temporary files to /kaggle/temp/, but they won't be saved outside of the current session"
   ]
  },
  {
   "cell_type": "markdown",
   "id": "eb3d85b6",
   "metadata": {
    "papermill": {
     "duration": 0.031909,
     "end_time": "2022-04-02T09:44:51.986496",
     "exception": false,
     "start_time": "2022-04-02T09:44:51.954587",
     "status": "completed"
    },
    "tags": []
   },
   "source": []
  },
  {
   "cell_type": "markdown",
   "id": "3d42a432",
   "metadata": {
    "papermill": {
     "duration": 0.030884,
     "end_time": "2022-04-02T09:44:52.049354",
     "exception": false,
     "start_time": "2022-04-02T09:44:52.018470",
     "status": "completed"
    },
    "tags": []
   },
   "source": [
    "# Step 1. Library and Data Loading\n",
    "#### - Check the library version"
   ]
  },
  {
   "cell_type": "markdown",
   "id": "a73738f5",
   "metadata": {
    "papermill": {
     "duration": 0.030918,
     "end_time": "2022-04-02T09:44:52.111443",
     "exception": false,
     "start_time": "2022-04-02T09:44:52.080525",
     "status": "completed"
    },
    "tags": []
   },
   "source": [
    "## Import Library"
   ]
  },
  {
   "cell_type": "code",
   "execution_count": 2,
   "id": "bca8de1e",
   "metadata": {
    "execution": {
     "iopub.execute_input": "2022-04-02T09:44:52.181615Z",
     "iopub.status.busy": "2022-04-02T09:44:52.180897Z",
     "iopub.status.idle": "2022-04-02T09:44:53.354750Z",
     "shell.execute_reply": "2022-04-02T09:44:53.355329Z",
     "shell.execute_reply.started": "2022-04-02T09:25:39.526519Z"
    },
    "papermill": {
     "duration": 1.212752,
     "end_time": "2022-04-02T09:44:53.355540",
     "exception": false,
     "start_time": "2022-04-02T09:44:52.142788",
     "status": "completed"
    },
    "tags": []
   },
   "outputs": [
    {
     "name": "stdout",
     "output_type": "stream",
     "text": [
      "Numpy ver. 1.20.3\n",
      "Pandas ver. 1.3.5\n",
      "Matplotlib ver. 3.5.1\n",
      "Seaborn ver. 0.11.2\n",
      "['sample_submission.csv', 'train.csv', 'test.csv']\n"
     ]
    }
   ],
   "source": [
    "import numpy as np\n",
    "import pandas as pd\n",
    "import seaborn as sns\n",
    "import matplotlib\n",
    "import matplotlib.pyplot as plt\n",
    "import os\n",
    "\n",
    "print(\"Numpy ver.\", np.__version__)\n",
    "print(\"Pandas ver.\", pd.__version__)\n",
    "print(\"Matplotlib ver.\", matplotlib.__version__)\n",
    "print(\"Seaborn ver.\", sns.__version__)\n",
    "\n",
    "print(os.listdir('../input/spaceship-titanic/'))"
   ]
  },
  {
   "cell_type": "code",
   "execution_count": 3,
   "id": "8afe64d2",
   "metadata": {
    "execution": {
     "iopub.execute_input": "2022-04-02T09:44:53.429348Z",
     "iopub.status.busy": "2022-04-02T09:44:53.428478Z",
     "iopub.status.idle": "2022-04-02T09:44:54.685244Z",
     "shell.execute_reply": "2022-04-02T09:44:54.684495Z",
     "shell.execute_reply.started": "2022-04-02T09:25:40.826303Z"
    },
    "papermill": {
     "duration": 1.296761,
     "end_time": "2022-04-02T09:44:54.685402",
     "exception": false,
     "start_time": "2022-04-02T09:44:53.388641",
     "status": "completed"
    },
    "tags": []
   },
   "outputs": [
    {
     "data": {
      "text/html": [
       "<style type='text/css'>\n",
       ".datatable table.frame { margin-bottom: 0; }\n",
       ".datatable table.frame thead { border-bottom: none; }\n",
       ".datatable table.frame tr.coltypes td {  color: #FFFFFF;  line-height: 6px;  padding: 0 0.5em;}\n",
       ".datatable .bool    { background: #DDDD99; }\n",
       ".datatable .object  { background: #565656; }\n",
       ".datatable .int     { background: #5D9E5D; }\n",
       ".datatable .float   { background: #4040CC; }\n",
       ".datatable .str     { background: #CC4040; }\n",
       ".datatable .time    { background: #40CC40; }\n",
       ".datatable .row_index {  background: var(--jp-border-color3);  border-right: 1px solid var(--jp-border-color0);  color: var(--jp-ui-font-color3);  font-size: 9px;}\n",
       ".datatable .frame tbody td { text-align: left; }\n",
       ".datatable .frame tr.coltypes .row_index {  background: var(--jp-border-color0);}\n",
       ".datatable th:nth-child(2) { padding-left: 12px; }\n",
       ".datatable .hellipsis {  color: var(--jp-cell-editor-border-color);}\n",
       ".datatable .vellipsis {  background: var(--jp-layout-color0);  color: var(--jp-cell-editor-border-color);}\n",
       ".datatable .na {  color: var(--jp-cell-editor-border-color);  font-size: 80%;}\n",
       ".datatable .sp {  opacity: 0.25;}\n",
       ".datatable .footer { font-size: 9px; }\n",
       ".datatable .frame_dimensions {  background: var(--jp-border-color3);  border-top: 1px solid var(--jp-border-color0);  color: var(--jp-ui-font-color3);  display: inline-block;  opacity: 0.6;  padding: 1px 10px 1px 5px;}\n",
       "</style>\n"
      ],
      "text/plain": [
       "<IPython.core.display.HTML object>"
      ]
     },
     "metadata": {},
     "output_type": "display_data"
    }
   ],
   "source": [
    "from sklearn.impute import SimpleImputer\n",
    "from sklearn.metrics import accuracy_score\n",
    "from sklearn.preprocessing import LabelEncoder\n",
    "from sklearn.model_selection import StratifiedKFold, train_test_split\n",
    "from lightgbm import LGBMClassifier\n",
    "\n",
    "import time\n",
    "import warnings\n",
    "warnings.filterwarnings('ignore')"
   ]
  },
  {
   "cell_type": "markdown",
   "id": "e42dac41",
   "metadata": {
    "papermill": {
     "duration": 0.032644,
     "end_time": "2022-04-02T09:44:54.750792",
     "exception": false,
     "start_time": "2022-04-02T09:44:54.718148",
     "status": "completed"
    },
    "tags": []
   },
   "source": [
    "## Load Data Set"
   ]
  },
  {
   "cell_type": "code",
   "execution_count": 4,
   "id": "906db612",
   "metadata": {
    "execution": {
     "iopub.execute_input": "2022-04-02T09:44:54.826336Z",
     "iopub.status.busy": "2022-04-02T09:44:54.825602Z",
     "iopub.status.idle": "2022-04-02T09:44:54.916489Z",
     "shell.execute_reply": "2022-04-02T09:44:54.917057Z",
     "shell.execute_reply.started": "2022-04-02T09:25:42.366412Z"
    },
    "papermill": {
     "duration": 0.131585,
     "end_time": "2022-04-02T09:44:54.917257",
     "exception": false,
     "start_time": "2022-04-02T09:44:54.785672",
     "status": "completed"
    },
    "tags": []
   },
   "outputs": [
    {
     "name": "stdout",
     "output_type": "stream",
     "text": [
      "Train Data: (8693, 14)\n",
      "Test Data: (4277, 13)\n",
      "Submission: (4277, 2)\n"
     ]
    }
   ],
   "source": [
    "BASE_DIR = '../input/spaceship-titanic/'\n",
    "train = pd.read_csv(BASE_DIR + \"train.csv\")\n",
    "test = pd.read_csv(BASE_DIR + \"test.csv\")\n",
    "sample_submission = pd.read_csv(BASE_DIR + \"sample_submission.csv\")\n",
    "print(\"Train Data:\",train.shape)\n",
    "print(\"Test Data:\",test.shape)\n",
    "print(\"Submission:\",sample_submission.shape)"
   ]
  },
  {
   "cell_type": "code",
   "execution_count": 5,
   "id": "629d118f",
   "metadata": {
    "execution": {
     "iopub.execute_input": "2022-04-02T09:44:54.992337Z",
     "iopub.status.busy": "2022-04-02T09:44:54.991169Z",
     "iopub.status.idle": "2022-04-02T09:44:55.011730Z",
     "shell.execute_reply": "2022-04-02T09:44:55.012342Z",
     "shell.execute_reply.started": "2022-04-02T09:25:42.489923Z"
    },
    "papermill": {
     "duration": 0.061938,
     "end_time": "2022-04-02T09:44:55.012520",
     "exception": false,
     "start_time": "2022-04-02T09:44:54.950582",
     "status": "completed"
    },
    "tags": []
   },
   "outputs": [
    {
     "data": {
      "text/html": [
       "<div>\n",
       "<style scoped>\n",
       "    .dataframe tbody tr th:only-of-type {\n",
       "        vertical-align: middle;\n",
       "    }\n",
       "\n",
       "    .dataframe tbody tr th {\n",
       "        vertical-align: top;\n",
       "    }\n",
       "\n",
       "    .dataframe thead th {\n",
       "        text-align: right;\n",
       "    }\n",
       "</style>\n",
       "<table border=\"1\" class=\"dataframe\">\n",
       "  <thead>\n",
       "    <tr style=\"text-align: right;\">\n",
       "      <th></th>\n",
       "      <th>PassengerId</th>\n",
       "      <th>HomePlanet</th>\n",
       "      <th>CryoSleep</th>\n",
       "      <th>Cabin</th>\n",
       "      <th>Destination</th>\n",
       "      <th>Age</th>\n",
       "      <th>VIP</th>\n",
       "      <th>RoomService</th>\n",
       "      <th>FoodCourt</th>\n",
       "      <th>ShoppingMall</th>\n",
       "      <th>Spa</th>\n",
       "      <th>VRDeck</th>\n",
       "      <th>Name</th>\n",
       "      <th>Transported</th>\n",
       "    </tr>\n",
       "  </thead>\n",
       "  <tbody>\n",
       "    <tr>\n",
       "      <th>0</th>\n",
       "      <td>0001_01</td>\n",
       "      <td>Europa</td>\n",
       "      <td>False</td>\n",
       "      <td>B/0/P</td>\n",
       "      <td>TRAPPIST-1e</td>\n",
       "      <td>39.0</td>\n",
       "      <td>False</td>\n",
       "      <td>0.0</td>\n",
       "      <td>0.0</td>\n",
       "      <td>0.0</td>\n",
       "      <td>0.0</td>\n",
       "      <td>0.0</td>\n",
       "      <td>Maham Ofracculy</td>\n",
       "      <td>False</td>\n",
       "    </tr>\n",
       "    <tr>\n",
       "      <th>1</th>\n",
       "      <td>0002_01</td>\n",
       "      <td>Earth</td>\n",
       "      <td>False</td>\n",
       "      <td>F/0/S</td>\n",
       "      <td>TRAPPIST-1e</td>\n",
       "      <td>24.0</td>\n",
       "      <td>False</td>\n",
       "      <td>109.0</td>\n",
       "      <td>9.0</td>\n",
       "      <td>25.0</td>\n",
       "      <td>549.0</td>\n",
       "      <td>44.0</td>\n",
       "      <td>Juanna Vines</td>\n",
       "      <td>True</td>\n",
       "    </tr>\n",
       "    <tr>\n",
       "      <th>2</th>\n",
       "      <td>0003_01</td>\n",
       "      <td>Europa</td>\n",
       "      <td>False</td>\n",
       "      <td>A/0/S</td>\n",
       "      <td>TRAPPIST-1e</td>\n",
       "      <td>58.0</td>\n",
       "      <td>True</td>\n",
       "      <td>43.0</td>\n",
       "      <td>3576.0</td>\n",
       "      <td>0.0</td>\n",
       "      <td>6715.0</td>\n",
       "      <td>49.0</td>\n",
       "      <td>Altark Susent</td>\n",
       "      <td>False</td>\n",
       "    </tr>\n",
       "  </tbody>\n",
       "</table>\n",
       "</div>"
      ],
      "text/plain": [
       "  PassengerId HomePlanet CryoSleep  Cabin  Destination   Age    VIP  \\\n",
       "0     0001_01     Europa     False  B/0/P  TRAPPIST-1e  39.0  False   \n",
       "1     0002_01      Earth     False  F/0/S  TRAPPIST-1e  24.0  False   \n",
       "2     0003_01     Europa     False  A/0/S  TRAPPIST-1e  58.0   True   \n",
       "\n",
       "   RoomService  FoodCourt  ShoppingMall     Spa  VRDeck             Name  \\\n",
       "0          0.0        0.0           0.0     0.0     0.0  Maham Ofracculy   \n",
       "1        109.0        9.0          25.0   549.0    44.0     Juanna Vines   \n",
       "2         43.0     3576.0           0.0  6715.0    49.0    Altark Susent   \n",
       "\n",
       "   Transported  \n",
       "0        False  \n",
       "1         True  \n",
       "2        False  "
      ]
     },
     "execution_count": 5,
     "metadata": {},
     "output_type": "execute_result"
    }
   ],
   "source": [
    "train.head(3)"
   ]
  },
  {
   "cell_type": "code",
   "execution_count": 6,
   "id": "5f8f272a",
   "metadata": {
    "execution": {
     "iopub.execute_input": "2022-04-02T09:44:55.083941Z",
     "iopub.status.busy": "2022-04-02T09:44:55.083166Z",
     "iopub.status.idle": "2022-04-02T09:44:55.117178Z",
     "shell.execute_reply": "2022-04-02T09:44:55.116435Z",
     "shell.execute_reply.started": "2022-04-02T09:25:43.393191Z"
    },
    "papermill": {
     "duration": 0.07118,
     "end_time": "2022-04-02T09:44:55.117344",
     "exception": false,
     "start_time": "2022-04-02T09:44:55.046164",
     "status": "completed"
    },
    "tags": []
   },
   "outputs": [
    {
     "name": "stdout",
     "output_type": "stream",
     "text": [
      "<class 'pandas.core.frame.DataFrame'>\n",
      "RangeIndex: 8693 entries, 0 to 8692\n",
      "Data columns (total 14 columns):\n",
      " #   Column        Non-Null Count  Dtype  \n",
      "---  ------        --------------  -----  \n",
      " 0   PassengerId   8693 non-null   object \n",
      " 1   HomePlanet    8492 non-null   object \n",
      " 2   CryoSleep     8476 non-null   object \n",
      " 3   Cabin         8494 non-null   object \n",
      " 4   Destination   8511 non-null   object \n",
      " 5   Age           8514 non-null   float64\n",
      " 6   VIP           8490 non-null   object \n",
      " 7   RoomService   8512 non-null   float64\n",
      " 8   FoodCourt     8510 non-null   float64\n",
      " 9   ShoppingMall  8485 non-null   float64\n",
      " 10  Spa           8510 non-null   float64\n",
      " 11  VRDeck        8505 non-null   float64\n",
      " 12  Name          8493 non-null   object \n",
      " 13  Transported   8693 non-null   bool   \n",
      "dtypes: bool(1), float64(6), object(7)\n",
      "memory usage: 891.5+ KB\n"
     ]
    }
   ],
   "source": [
    "train.info()"
   ]
  },
  {
   "cell_type": "code",
   "execution_count": 7,
   "id": "7220dc14",
   "metadata": {
    "execution": {
     "iopub.execute_input": "2022-04-02T09:44:55.189597Z",
     "iopub.status.busy": "2022-04-02T09:44:55.188856Z",
     "iopub.status.idle": "2022-04-02T09:44:55.207410Z",
     "shell.execute_reply": "2022-04-02T09:44:55.208014Z",
     "shell.execute_reply.started": "2022-04-02T09:25:44.418241Z"
    },
    "papermill": {
     "duration": 0.056829,
     "end_time": "2022-04-02T09:44:55.208183",
     "exception": false,
     "start_time": "2022-04-02T09:44:55.151354",
     "status": "completed"
    },
    "tags": []
   },
   "outputs": [
    {
     "data": {
      "text/html": [
       "<div>\n",
       "<style scoped>\n",
       "    .dataframe tbody tr th:only-of-type {\n",
       "        vertical-align: middle;\n",
       "    }\n",
       "\n",
       "    .dataframe tbody tr th {\n",
       "        vertical-align: top;\n",
       "    }\n",
       "\n",
       "    .dataframe thead th {\n",
       "        text-align: right;\n",
       "    }\n",
       "</style>\n",
       "<table border=\"1\" class=\"dataframe\">\n",
       "  <thead>\n",
       "    <tr style=\"text-align: right;\">\n",
       "      <th></th>\n",
       "      <th>PassengerId</th>\n",
       "      <th>HomePlanet</th>\n",
       "      <th>CryoSleep</th>\n",
       "      <th>Cabin</th>\n",
       "      <th>Destination</th>\n",
       "      <th>Age</th>\n",
       "      <th>VIP</th>\n",
       "      <th>RoomService</th>\n",
       "      <th>FoodCourt</th>\n",
       "      <th>ShoppingMall</th>\n",
       "      <th>Spa</th>\n",
       "      <th>VRDeck</th>\n",
       "      <th>Name</th>\n",
       "    </tr>\n",
       "  </thead>\n",
       "  <tbody>\n",
       "    <tr>\n",
       "      <th>0</th>\n",
       "      <td>0013_01</td>\n",
       "      <td>Earth</td>\n",
       "      <td>True</td>\n",
       "      <td>G/3/S</td>\n",
       "      <td>TRAPPIST-1e</td>\n",
       "      <td>27.0</td>\n",
       "      <td>False</td>\n",
       "      <td>0.0</td>\n",
       "      <td>0.0</td>\n",
       "      <td>0.0</td>\n",
       "      <td>0.0</td>\n",
       "      <td>0.0</td>\n",
       "      <td>Nelly Carsoning</td>\n",
       "    </tr>\n",
       "    <tr>\n",
       "      <th>1</th>\n",
       "      <td>0018_01</td>\n",
       "      <td>Earth</td>\n",
       "      <td>False</td>\n",
       "      <td>F/4/S</td>\n",
       "      <td>TRAPPIST-1e</td>\n",
       "      <td>19.0</td>\n",
       "      <td>False</td>\n",
       "      <td>0.0</td>\n",
       "      <td>9.0</td>\n",
       "      <td>0.0</td>\n",
       "      <td>2823.0</td>\n",
       "      <td>0.0</td>\n",
       "      <td>Lerome Peckers</td>\n",
       "    </tr>\n",
       "    <tr>\n",
       "      <th>2</th>\n",
       "      <td>0019_01</td>\n",
       "      <td>Europa</td>\n",
       "      <td>True</td>\n",
       "      <td>C/0/S</td>\n",
       "      <td>55 Cancri e</td>\n",
       "      <td>31.0</td>\n",
       "      <td>False</td>\n",
       "      <td>0.0</td>\n",
       "      <td>0.0</td>\n",
       "      <td>0.0</td>\n",
       "      <td>0.0</td>\n",
       "      <td>0.0</td>\n",
       "      <td>Sabih Unhearfus</td>\n",
       "    </tr>\n",
       "  </tbody>\n",
       "</table>\n",
       "</div>"
      ],
      "text/plain": [
       "  PassengerId HomePlanet CryoSleep  Cabin  Destination   Age    VIP  \\\n",
       "0     0013_01      Earth      True  G/3/S  TRAPPIST-1e  27.0  False   \n",
       "1     0018_01      Earth     False  F/4/S  TRAPPIST-1e  19.0  False   \n",
       "2     0019_01     Europa      True  C/0/S  55 Cancri e  31.0  False   \n",
       "\n",
       "   RoomService  FoodCourt  ShoppingMall     Spa  VRDeck             Name  \n",
       "0          0.0        0.0           0.0     0.0     0.0  Nelly Carsoning  \n",
       "1          0.0        9.0           0.0  2823.0     0.0   Lerome Peckers  \n",
       "2          0.0        0.0           0.0     0.0     0.0  Sabih Unhearfus  "
      ]
     },
     "execution_count": 7,
     "metadata": {},
     "output_type": "execute_result"
    }
   ],
   "source": [
    "test.head(3)"
   ]
  },
  {
   "cell_type": "code",
   "execution_count": 8,
   "id": "1c00419b",
   "metadata": {
    "execution": {
     "iopub.execute_input": "2022-04-02T09:44:55.282489Z",
     "iopub.status.busy": "2022-04-02T09:44:55.281788Z",
     "iopub.status.idle": "2022-04-02T09:44:55.299042Z",
     "shell.execute_reply": "2022-04-02T09:44:55.299847Z",
     "shell.execute_reply.started": "2022-04-02T09:25:45.241155Z"
    },
    "papermill": {
     "duration": 0.056984,
     "end_time": "2022-04-02T09:44:55.300094",
     "exception": false,
     "start_time": "2022-04-02T09:44:55.243110",
     "status": "completed"
    },
    "tags": []
   },
   "outputs": [
    {
     "name": "stdout",
     "output_type": "stream",
     "text": [
      "<class 'pandas.core.frame.DataFrame'>\n",
      "RangeIndex: 4277 entries, 0 to 4276\n",
      "Data columns (total 13 columns):\n",
      " #   Column        Non-Null Count  Dtype  \n",
      "---  ------        --------------  -----  \n",
      " 0   PassengerId   4277 non-null   object \n",
      " 1   HomePlanet    4190 non-null   object \n",
      " 2   CryoSleep     4184 non-null   object \n",
      " 3   Cabin         4177 non-null   object \n",
      " 4   Destination   4185 non-null   object \n",
      " 5   Age           4186 non-null   float64\n",
      " 6   VIP           4184 non-null   object \n",
      " 7   RoomService   4195 non-null   float64\n",
      " 8   FoodCourt     4171 non-null   float64\n",
      " 9   ShoppingMall  4179 non-null   float64\n",
      " 10  Spa           4176 non-null   float64\n",
      " 11  VRDeck        4197 non-null   float64\n",
      " 12  Name          4183 non-null   object \n",
      "dtypes: float64(6), object(7)\n",
      "memory usage: 434.5+ KB\n"
     ]
    }
   ],
   "source": [
    "test.info()"
   ]
  },
  {
   "cell_type": "code",
   "execution_count": 9,
   "id": "de189282",
   "metadata": {
    "execution": {
     "iopub.execute_input": "2022-04-02T09:44:55.375700Z",
     "iopub.status.busy": "2022-04-02T09:44:55.374995Z",
     "iopub.status.idle": "2022-04-02T09:44:55.383949Z",
     "shell.execute_reply": "2022-04-02T09:44:55.384457Z",
     "shell.execute_reply.started": "2022-04-02T09:25:46.390947Z"
    },
    "papermill": {
     "duration": 0.048943,
     "end_time": "2022-04-02T09:44:55.384648",
     "exception": false,
     "start_time": "2022-04-02T09:44:55.335705",
     "status": "completed"
    },
    "tags": []
   },
   "outputs": [
    {
     "data": {
      "text/html": [
       "<div>\n",
       "<style scoped>\n",
       "    .dataframe tbody tr th:only-of-type {\n",
       "        vertical-align: middle;\n",
       "    }\n",
       "\n",
       "    .dataframe tbody tr th {\n",
       "        vertical-align: top;\n",
       "    }\n",
       "\n",
       "    .dataframe thead th {\n",
       "        text-align: right;\n",
       "    }\n",
       "</style>\n",
       "<table border=\"1\" class=\"dataframe\">\n",
       "  <thead>\n",
       "    <tr style=\"text-align: right;\">\n",
       "      <th></th>\n",
       "      <th>PassengerId</th>\n",
       "      <th>Transported</th>\n",
       "    </tr>\n",
       "  </thead>\n",
       "  <tbody>\n",
       "    <tr>\n",
       "      <th>0</th>\n",
       "      <td>0013_01</td>\n",
       "      <td>False</td>\n",
       "    </tr>\n",
       "    <tr>\n",
       "      <th>1</th>\n",
       "      <td>0018_01</td>\n",
       "      <td>False</td>\n",
       "    </tr>\n",
       "    <tr>\n",
       "      <th>2</th>\n",
       "      <td>0019_01</td>\n",
       "      <td>False</td>\n",
       "    </tr>\n",
       "  </tbody>\n",
       "</table>\n",
       "</div>"
      ],
      "text/plain": [
       "  PassengerId  Transported\n",
       "0     0013_01        False\n",
       "1     0018_01        False\n",
       "2     0019_01        False"
      ]
     },
     "execution_count": 9,
     "metadata": {},
     "output_type": "execute_result"
    }
   ],
   "source": [
    "sample_submission.head(3)"
   ]
  },
  {
   "cell_type": "markdown",
   "id": "e3e13d82",
   "metadata": {
    "papermill": {
     "duration": 0.034977,
     "end_time": "2022-04-02T09:44:55.454998",
     "exception": false,
     "start_time": "2022-04-02T09:44:55.420021",
     "status": "completed"
    },
    "tags": []
   },
   "source": []
  },
  {
   "cell_type": "markdown",
   "id": "fe0d225e",
   "metadata": {
    "papermill": {
     "duration": 0.035192,
     "end_time": "2022-04-02T09:44:55.525928",
     "exception": false,
     "start_time": "2022-04-02T09:44:55.490736",
     "status": "completed"
    },
    "tags": []
   },
   "source": [
    "# Step 2. EDA\n",
    "#### - data visualization\n",
    "#### - scatter plot, bar graph, etc\n",
    "#### - interpretation and description of graphs"
   ]
  },
  {
   "cell_type": "markdown",
   "id": "b3681d77",
   "metadata": {
    "papermill": {
     "duration": 0.035223,
     "end_time": "2022-04-02T09:44:55.596554",
     "exception": false,
     "start_time": "2022-04-02T09:44:55.561331",
     "status": "completed"
    },
    "tags": []
   },
   "source": [
    "## Overview of Data"
   ]
  },
  {
   "cell_type": "code",
   "execution_count": 10,
   "id": "c642fa51",
   "metadata": {
    "execution": {
     "iopub.execute_input": "2022-04-02T09:44:55.671418Z",
     "iopub.status.busy": "2022-04-02T09:44:55.670706Z",
     "iopub.status.idle": "2022-04-02T09:44:55.709373Z",
     "shell.execute_reply": "2022-04-02T09:44:55.708758Z",
     "shell.execute_reply.started": "2022-04-02T09:25:47.248690Z"
    },
    "papermill": {
     "duration": 0.077408,
     "end_time": "2022-04-02T09:44:55.709523",
     "exception": false,
     "start_time": "2022-04-02T09:44:55.632115",
     "status": "completed"
    },
    "tags": []
   },
   "outputs": [
    {
     "data": {
      "text/html": [
       "<div>\n",
       "<style scoped>\n",
       "    .dataframe tbody tr th:only-of-type {\n",
       "        vertical-align: middle;\n",
       "    }\n",
       "\n",
       "    .dataframe tbody tr th {\n",
       "        vertical-align: top;\n",
       "    }\n",
       "\n",
       "    .dataframe thead th {\n",
       "        text-align: right;\n",
       "    }\n",
       "</style>\n",
       "<table border=\"1\" class=\"dataframe\">\n",
       "  <thead>\n",
       "    <tr style=\"text-align: right;\">\n",
       "      <th></th>\n",
       "      <th>count</th>\n",
       "      <th>mean</th>\n",
       "      <th>std</th>\n",
       "      <th>min</th>\n",
       "      <th>25%</th>\n",
       "      <th>50%</th>\n",
       "      <th>75%</th>\n",
       "      <th>max</th>\n",
       "    </tr>\n",
       "  </thead>\n",
       "  <tbody>\n",
       "    <tr>\n",
       "      <th>Age</th>\n",
       "      <td>8514.0</td>\n",
       "      <td>28.827930</td>\n",
       "      <td>14.489021</td>\n",
       "      <td>0.0</td>\n",
       "      <td>19.0</td>\n",
       "      <td>27.0</td>\n",
       "      <td>38.0</td>\n",
       "      <td>79.0</td>\n",
       "    </tr>\n",
       "    <tr>\n",
       "      <th>RoomService</th>\n",
       "      <td>8512.0</td>\n",
       "      <td>224.687617</td>\n",
       "      <td>666.717663</td>\n",
       "      <td>0.0</td>\n",
       "      <td>0.0</td>\n",
       "      <td>0.0</td>\n",
       "      <td>47.0</td>\n",
       "      <td>14327.0</td>\n",
       "    </tr>\n",
       "    <tr>\n",
       "      <th>FoodCourt</th>\n",
       "      <td>8510.0</td>\n",
       "      <td>458.077203</td>\n",
       "      <td>1611.489240</td>\n",
       "      <td>0.0</td>\n",
       "      <td>0.0</td>\n",
       "      <td>0.0</td>\n",
       "      <td>76.0</td>\n",
       "      <td>29813.0</td>\n",
       "    </tr>\n",
       "    <tr>\n",
       "      <th>ShoppingMall</th>\n",
       "      <td>8485.0</td>\n",
       "      <td>173.729169</td>\n",
       "      <td>604.696458</td>\n",
       "      <td>0.0</td>\n",
       "      <td>0.0</td>\n",
       "      <td>0.0</td>\n",
       "      <td>27.0</td>\n",
       "      <td>23492.0</td>\n",
       "    </tr>\n",
       "    <tr>\n",
       "      <th>Spa</th>\n",
       "      <td>8510.0</td>\n",
       "      <td>311.138778</td>\n",
       "      <td>1136.705535</td>\n",
       "      <td>0.0</td>\n",
       "      <td>0.0</td>\n",
       "      <td>0.0</td>\n",
       "      <td>59.0</td>\n",
       "      <td>22408.0</td>\n",
       "    </tr>\n",
       "    <tr>\n",
       "      <th>VRDeck</th>\n",
       "      <td>8505.0</td>\n",
       "      <td>304.854791</td>\n",
       "      <td>1145.717189</td>\n",
       "      <td>0.0</td>\n",
       "      <td>0.0</td>\n",
       "      <td>0.0</td>\n",
       "      <td>46.0</td>\n",
       "      <td>24133.0</td>\n",
       "    </tr>\n",
       "  </tbody>\n",
       "</table>\n",
       "</div>"
      ],
      "text/plain": [
       "               count        mean          std  min   25%   50%   75%      max\n",
       "Age           8514.0   28.827930    14.489021  0.0  19.0  27.0  38.0     79.0\n",
       "RoomService   8512.0  224.687617   666.717663  0.0   0.0   0.0  47.0  14327.0\n",
       "FoodCourt     8510.0  458.077203  1611.489240  0.0   0.0   0.0  76.0  29813.0\n",
       "ShoppingMall  8485.0  173.729169   604.696458  0.0   0.0   0.0  27.0  23492.0\n",
       "Spa           8510.0  311.138778  1136.705535  0.0   0.0   0.0  59.0  22408.0\n",
       "VRDeck        8505.0  304.854791  1145.717189  0.0   0.0   0.0  46.0  24133.0"
      ]
     },
     "execution_count": 10,
     "metadata": {},
     "output_type": "execute_result"
    }
   ],
   "source": [
    "train.describe().T"
   ]
  },
  {
   "cell_type": "markdown",
   "id": "c74f09e4",
   "metadata": {
    "papermill": {
     "duration": 0.036059,
     "end_time": "2022-04-02T09:44:55.782686",
     "exception": false,
     "start_time": "2022-04-02T09:44:55.746627",
     "status": "completed"
    },
    "tags": []
   },
   "source": [
    "#### ※ Except Age, more than half of all numeric variables are zero.\n",
    "   - They are amount the passenger has billed at each of many amenities\n",
    "   - Preprocessing such as feature engineering and one-hot encoding is required."
   ]
  },
  {
   "cell_type": "code",
   "execution_count": 11,
   "id": "94febd66",
   "metadata": {
    "execution": {
     "iopub.execute_input": "2022-04-02T09:44:55.861556Z",
     "iopub.status.busy": "2022-04-02T09:44:55.860510Z",
     "iopub.status.idle": "2022-04-02T09:44:55.907765Z",
     "shell.execute_reply": "2022-04-02T09:44:55.908260Z",
     "shell.execute_reply.started": "2022-04-02T09:25:47.937143Z"
    },
    "papermill": {
     "duration": 0.088322,
     "end_time": "2022-04-02T09:44:55.908428",
     "exception": false,
     "start_time": "2022-04-02T09:44:55.820106",
     "status": "completed"
    },
    "tags": []
   },
   "outputs": [
    {
     "data": {
      "text/html": [
       "<div>\n",
       "<style scoped>\n",
       "    .dataframe tbody tr th:only-of-type {\n",
       "        vertical-align: middle;\n",
       "    }\n",
       "\n",
       "    .dataframe tbody tr th {\n",
       "        vertical-align: top;\n",
       "    }\n",
       "\n",
       "    .dataframe thead th {\n",
       "        text-align: right;\n",
       "    }\n",
       "</style>\n",
       "<table border=\"1\" class=\"dataframe\">\n",
       "  <thead>\n",
       "    <tr style=\"text-align: right;\">\n",
       "      <th></th>\n",
       "      <th>count</th>\n",
       "      <th>unique</th>\n",
       "      <th>top</th>\n",
       "      <th>freq</th>\n",
       "    </tr>\n",
       "  </thead>\n",
       "  <tbody>\n",
       "    <tr>\n",
       "      <th>PassengerId</th>\n",
       "      <td>8693</td>\n",
       "      <td>8693</td>\n",
       "      <td>0001_01</td>\n",
       "      <td>1</td>\n",
       "    </tr>\n",
       "    <tr>\n",
       "      <th>HomePlanet</th>\n",
       "      <td>8492</td>\n",
       "      <td>3</td>\n",
       "      <td>Earth</td>\n",
       "      <td>4602</td>\n",
       "    </tr>\n",
       "    <tr>\n",
       "      <th>CryoSleep</th>\n",
       "      <td>8476</td>\n",
       "      <td>2</td>\n",
       "      <td>False</td>\n",
       "      <td>5439</td>\n",
       "    </tr>\n",
       "    <tr>\n",
       "      <th>Cabin</th>\n",
       "      <td>8494</td>\n",
       "      <td>6560</td>\n",
       "      <td>G/734/S</td>\n",
       "      <td>8</td>\n",
       "    </tr>\n",
       "    <tr>\n",
       "      <th>Destination</th>\n",
       "      <td>8511</td>\n",
       "      <td>3</td>\n",
       "      <td>TRAPPIST-1e</td>\n",
       "      <td>5915</td>\n",
       "    </tr>\n",
       "    <tr>\n",
       "      <th>VIP</th>\n",
       "      <td>8490</td>\n",
       "      <td>2</td>\n",
       "      <td>False</td>\n",
       "      <td>8291</td>\n",
       "    </tr>\n",
       "    <tr>\n",
       "      <th>Name</th>\n",
       "      <td>8493</td>\n",
       "      <td>8473</td>\n",
       "      <td>Gollux Reedall</td>\n",
       "      <td>2</td>\n",
       "    </tr>\n",
       "  </tbody>\n",
       "</table>\n",
       "</div>"
      ],
      "text/plain": [
       "            count unique             top  freq\n",
       "PassengerId  8693   8693         0001_01     1\n",
       "HomePlanet   8492      3           Earth  4602\n",
       "CryoSleep    8476      2           False  5439\n",
       "Cabin        8494   6560         G/734/S     8\n",
       "Destination  8511      3     TRAPPIST-1e  5915\n",
       "VIP          8490      2           False  8291\n",
       "Name         8493   8473  Gollux Reedall     2"
      ]
     },
     "execution_count": 11,
     "metadata": {},
     "output_type": "execute_result"
    }
   ],
   "source": [
    "train.describe(include=['O']).T"
   ]
  },
  {
   "cell_type": "markdown",
   "id": "398fbfee",
   "metadata": {
    "papermill": {
     "duration": 0.037576,
     "end_time": "2022-04-02T09:44:55.982330",
     "exception": false,
     "start_time": "2022-04-02T09:44:55.944754",
     "status": "completed"
    },
    "tags": []
   },
   "source": [
    "#### ※ PassengerID, Cabin, and Name are text data, not categorical.\n",
    "  - They don't seem to be important to the performance of the model.\n",
    "  - In ML modeling, these features won't be used."
   ]
  },
  {
   "cell_type": "markdown",
   "id": "416f2e8f",
   "metadata": {
    "papermill": {
     "duration": 0.035972,
     "end_time": "2022-04-02T09:44:56.055437",
     "exception": false,
     "start_time": "2022-04-02T09:44:56.019465",
     "status": "completed"
    },
    "tags": []
   },
   "source": [
    "## Missing Value Distribution"
   ]
  },
  {
   "cell_type": "code",
   "execution_count": 12,
   "id": "f3b10648",
   "metadata": {
    "execution": {
     "iopub.execute_input": "2022-04-02T09:44:56.136509Z",
     "iopub.status.busy": "2022-04-02T09:44:56.134444Z",
     "iopub.status.idle": "2022-04-02T09:44:56.156505Z",
     "shell.execute_reply": "2022-04-02T09:44:56.155763Z",
     "shell.execute_reply.started": "2022-04-02T09:25:48.635635Z"
    },
    "papermill": {
     "duration": 0.064592,
     "end_time": "2022-04-02T09:44:56.156653",
     "exception": false,
     "start_time": "2022-04-02T09:44:56.092061",
     "status": "completed"
    },
    "tags": []
   },
   "outputs": [],
   "source": [
    "train_miss = pd.DataFrame({'dtype' : train.iloc[:, :-1].dtypes,\n",
    "                           'missing' : train.iloc[:, :-1].isnull().sum()})\n",
    "test_miss = pd.DataFrame({'dtype' : test.dtypes,\n",
    "                          'missing' : test.isnull().sum()})"
   ]
  },
  {
   "cell_type": "code",
   "execution_count": 13,
   "id": "01cb7722",
   "metadata": {
    "execution": {
     "iopub.execute_input": "2022-04-02T09:44:56.246607Z",
     "iopub.status.busy": "2022-04-02T09:44:56.245842Z",
     "iopub.status.idle": "2022-04-02T09:44:56.968596Z",
     "shell.execute_reply": "2022-04-02T09:44:56.969107Z",
     "shell.execute_reply.started": "2022-04-02T09:25:49.466240Z"
    },
    "papermill": {
     "duration": 0.775132,
     "end_time": "2022-04-02T09:44:56.969312",
     "exception": false,
     "start_time": "2022-04-02T09:44:56.194180",
     "status": "completed"
    },
    "tags": []
   },
   "outputs": [
    {
     "data": {
      "image/png": "[encoded data removed]",
      "text/plain": [
       "<Figure size 792x360 with 2 Axes>"
      ]
     },
     "metadata": {
      "needs_background": "light"
     },
     "output_type": "display_data"
    }
   ],
   "source": [
    "fig, ax = plt.subplots(1,2, figsize=(11,5))\n",
    "width = 0.5\n",
    "bar1 = ax[0].barh(sorted(train.columns[:-1].to_list(), reverse=True),\n",
    "                  train_miss['missing'].sort_index(ascending=False), width, color=\"skyblue\")\n",
    "bar2 = ax[1].barh(sorted(test.columns.to_list(), reverse=True),\n",
    "                  test_miss['missing'].sort_index(ascending=False), width, color=\"pink\")\n",
    "\n",
    "ax[0].set_title(\"Missing in Train Data\", loc=\"left\", pad=10, size=15)\n",
    "ax[0].set_xlim(0,240)\n",
    "ax[1].set_title(\"Missing in Test Data\", loc=\"left\", pad=10, size=15)\n",
    "ax[1].set_xlim(0,120)\n",
    "\n",
    "ax[0].bar_label(bar1, padding=2, size=12)\n",
    "ax[1].bar_label(bar2, padding=2, size=12)\n",
    "\n",
    "fig.tight_layout()\n",
    "plt.show()"
   ]
  },
  {
   "cell_type": "markdown",
   "id": "da694b8a",
   "metadata": {
    "papermill": {
     "duration": 0.039242,
     "end_time": "2022-04-02T09:44:57.048952",
     "exception": false,
     "start_time": "2022-04-02T09:44:57.009710",
     "status": "completed"
    },
    "tags": []
   },
   "source": [
    "#### The ratio of missing values by feature is less than 10%.\n",
    "- The numerical features will be replaced by the median value.\n",
    "- The categorical features will be replaced by the most frequent value."
   ]
  },
  {
   "cell_type": "markdown",
   "id": "e75cd71c",
   "metadata": {
    "papermill": {
     "duration": 0.037577,
     "end_time": "2022-04-02T09:44:57.124446",
     "exception": false,
     "start_time": "2022-04-02T09:44:57.086869",
     "status": "completed"
    },
    "tags": []
   },
   "source": [
    "## Categorical Feature Distribution"
   ]
  },
  {
   "cell_type": "code",
   "execution_count": 14,
   "id": "431547a0",
   "metadata": {
    "execution": {
     "iopub.execute_input": "2022-04-02T09:44:57.207765Z",
     "iopub.status.busy": "2022-04-02T09:44:57.206957Z",
     "iopub.status.idle": "2022-04-02T09:44:57.215385Z",
     "shell.execute_reply": "2022-04-02T09:44:57.214745Z",
     "shell.execute_reply.started": "2022-04-02T09:25:50.425708Z"
    },
    "papermill": {
     "duration": 0.053224,
     "end_time": "2022-04-02T09:44:57.215541",
     "exception": false,
     "start_time": "2022-04-02T09:44:57.162317",
     "status": "completed"
    },
    "tags": []
   },
   "outputs": [
    {
     "data": {
      "text/plain": [
       "['HomePlanet', 'CryoSleep', 'Destination', 'VIP']"
      ]
     },
     "execution_count": 14,
     "metadata": {},
     "output_type": "execute_result"
    }
   ],
   "source": [
    "train_cat = train.select_dtypes(include = 'object')\n",
    "test_cat = test.select_dtypes(include = 'object')\n",
    "col_cat = train_cat.columns.to_list()[1:6]\n",
    "del col_cat[2]\n",
    "col_cat"
   ]
  },
  {
   "cell_type": "code",
   "execution_count": 15,
   "id": "60e7f71d",
   "metadata": {
    "execution": {
     "iopub.execute_input": "2022-04-02T09:44:57.323074Z",
     "iopub.status.busy": "2022-04-02T09:44:57.301568Z",
     "iopub.status.idle": "2022-04-02T09:44:58.051927Z",
     "shell.execute_reply": "2022-04-02T09:44:58.051414Z",
     "shell.execute_reply.started": "2022-04-02T09:25:51.016768Z"
    },
    "papermill": {
     "duration": 0.797969,
     "end_time": "2022-04-02T09:44:58.052080",
     "exception": false,
     "start_time": "2022-04-02T09:44:57.254111",
     "status": "completed"
    },
    "tags": []
   },
   "outputs": [
    {
     "data": {
      "image/png": "[encoded data removed]",
      "text/plain": [
       "<Figure size 792x792 with 4 Axes>"
      ]
     },
     "metadata": {
      "needs_background": "light"
     },
     "output_type": "display_data"
    }
   ],
   "source": [
    "fig, ax = plt.subplots(2,2,figsize=(11,11))\n",
    "\n",
    "width = 0.35\n",
    "x = []\n",
    "b = []\n",
    "b2 = []\n",
    "\n",
    "for i in range(2):\n",
    "    for j in range(2):\n",
    "        x.append(train_cat.loc[:,col_cat[2*i+j]].unique().tolist()[:-1])\n",
    "        b.append(ax[i,j].bar(np.arange(len(x[2*i+j])) - width/2,\n",
    "                               train_cat.loc[:,col_cat[2*i+j]].value_counts().to_list(),\n",
    "                               width, label = \"Train Data\", color=\"skyblue\"))\n",
    "        b2.append(ax[i,j].bar(np.arange(len(x[2*i+j])) + width/2,\n",
    "                                test_cat.loc[:,col_cat[2*i+j]].value_counts().to_list(),\n",
    "                                width, label = \"Test Data\", color=\"pink\"))\n",
    "        ax[i,j].bar_label(b[2*i+j], label_type='edge', size=12)\n",
    "        ax[i,j].bar_label(b2[2*i+j], label_type='edge', size=12)\n",
    "        ax[i,j].set_title(f'{col_cat[2*i+j]} Distribution',\n",
    "                          pad=10, size=15)\n",
    "        ax[i,j].set_xticks(np.arange(len(x[2*i+j])), x[2*i+j], size=12)\n",
    "        ax[i,j].legend(loc=\"best\", fontsize=12)\n",
    "\n",
    "fig.tight_layout()\n",
    "plt.show()"
   ]
  },
  {
   "cell_type": "markdown",
   "id": "f7d4a3ad",
   "metadata": {
    "papermill": {
     "duration": 0.040736,
     "end_time": "2022-04-02T09:44:58.135441",
     "exception": false,
     "start_time": "2022-04-02T09:44:58.094705",
     "status": "completed"
    },
    "tags": []
   },
   "source": [
    "## Numeric Feature Distribution"
   ]
  },
  {
   "cell_type": "code",
   "execution_count": 16,
   "id": "5614849b",
   "metadata": {
    "execution": {
     "iopub.execute_input": "2022-04-02T09:44:58.220926Z",
     "iopub.status.busy": "2022-04-02T09:44:58.220129Z",
     "iopub.status.idle": "2022-04-02T09:44:58.231074Z",
     "shell.execute_reply": "2022-04-02T09:44:58.230537Z",
     "shell.execute_reply.started": "2022-04-02T09:25:51.813300Z"
    },
    "papermill": {
     "duration": 0.054852,
     "end_time": "2022-04-02T09:44:58.231245",
     "exception": false,
     "start_time": "2022-04-02T09:44:58.176393",
     "status": "completed"
    },
    "tags": []
   },
   "outputs": [
    {
     "data": {
      "text/plain": [
       "['Age', 'RoomService', 'FoodCourt', 'ShoppingMall', 'Spa', 'VRDeck']"
      ]
     },
     "execution_count": 16,
     "metadata": {},
     "output_type": "execute_result"
    }
   ],
   "source": [
    "numeric = ['int8', 'int16', 'int32', 'int64', 'float16', 'float32', 'float64']\n",
    "train_num = train.select_dtypes(include = numeric)\n",
    "test_num = test.select_dtypes(include = numeric)\n",
    "col_num = train_num.columns.to_list()\n",
    "col_num"
   ]
  },
  {
   "cell_type": "code",
   "execution_count": 17,
   "id": "54deb121",
   "metadata": {
    "execution": {
     "iopub.execute_input": "2022-04-02T09:44:58.320429Z",
     "iopub.status.busy": "2022-04-02T09:44:58.316480Z",
     "iopub.status.idle": "2022-04-02T09:44:58.964611Z",
     "shell.execute_reply": "2022-04-02T09:44:58.963995Z",
     "shell.execute_reply.started": "2022-04-02T09:36:14.272428Z"
    },
    "papermill": {
     "duration": 0.692261,
     "end_time": "2022-04-02T09:44:58.964794",
     "exception": false,
     "start_time": "2022-04-02T09:44:58.272533",
     "status": "completed"
    },
    "tags": []
   },
   "outputs": [
    {
     "data": {
      "image/png": "[encoded data removed]",
      "text/plain": [
       "<Figure size 864x1080 with 6 Axes>"
      ]
     },
     "metadata": {
      "needs_background": "light"
     },
     "output_type": "display_data"
    }
   ],
   "source": [
    "fig, ax = plt.subplots(3,2,figsize=(12,15))\n",
    "\n",
    "for i in range(3):\n",
    "    for j in range(2):\n",
    "        ax[i, j].boxplot(train_num.iloc[:,2*i+j].tolist()[:10], 0, 'rD')\n",
    "        ax[i, j].set_title(col_num[2*i+j], pad=7, size=15)\n",
    "\n",
    "plt.show()"
   ]
  },
  {
   "cell_type": "markdown",
   "id": "5ce0233a",
   "metadata": {
    "papermill": {
     "duration": 0.043572,
     "end_time": "2022-04-02T09:44:59.052108",
     "exception": false,
     "start_time": "2022-04-02T09:44:59.008536",
     "status": "completed"
    },
    "tags": []
   },
   "source": [
    "## Correlation Matrix"
   ]
  },
  {
   "cell_type": "code",
   "execution_count": 18,
   "id": "16c3f2f1",
   "metadata": {
    "execution": {
     "iopub.execute_input": "2022-04-02T09:44:59.147066Z",
     "iopub.status.busy": "2022-04-02T09:44:59.144715Z",
     "iopub.status.idle": "2022-04-02T09:44:59.230238Z",
     "shell.execute_reply": "2022-04-02T09:44:59.230783Z",
     "shell.execute_reply.started": "2022-04-02T09:30:00.600902Z"
    },
    "papermill": {
     "duration": 0.135089,
     "end_time": "2022-04-02T09:44:59.230960",
     "exception": false,
     "start_time": "2022-04-02T09:44:59.095871",
     "status": "completed"
    },
    "tags": []
   },
   "outputs": [
    {
     "data": {
      "text/html": [
       "<style type=\"text/css\">\n",
       "#T_8f192_row0_col0, #T_8f192_row1_col1, #T_8f192_row2_col2, #T_8f192_row3_col3, #T_8f192_row4_col4, #T_8f192_row5_col5, #T_8f192_row6_col6 {\n",
       "  background-color: #053061;\n",
       "  color: #f1f1f1;\n",
       "}\n",
       "#T_8f192_row0_col1, #T_8f192_row1_col0 {\n",
       "  background-color: #eaf1f5;\n",
       "  color: #000000;\n",
       "}\n",
       "#T_8f192_row0_col2, #T_8f192_row2_col0 {\n",
       "  background-color: #deebf2;\n",
       "  color: #000000;\n",
       "}\n",
       "#T_8f192_row0_col3, #T_8f192_row3_col0 {\n",
       "  background-color: #f0f4f6;\n",
       "  color: #000000;\n",
       "}\n",
       "#T_8f192_row0_col4, #T_8f192_row4_col0 {\n",
       "  background-color: #e0ecf3;\n",
       "  color: #000000;\n",
       "}\n",
       "#T_8f192_row0_col5, #T_8f192_row5_col0 {\n",
       "  background-color: #e4eef4;\n",
       "  color: #000000;\n",
       "}\n",
       "#T_8f192_row0_col6, #T_8f192_row6_col0 {\n",
       "  background-color: #f9ede5;\n",
       "  color: #000000;\n",
       "}\n",
       "#T_8f192_row1_col2, #T_8f192_row1_col5, #T_8f192_row2_col1, #T_8f192_row5_col1 {\n",
       "  background-color: #f8f4f2;\n",
       "  color: #000000;\n",
       "}\n",
       "#T_8f192_row1_col3, #T_8f192_row3_col1 {\n",
       "  background-color: #edf2f5;\n",
       "  color: #000000;\n",
       "}\n",
       "#T_8f192_row1_col4, #T_8f192_row3_col4, #T_8f192_row3_col6, #T_8f192_row4_col1, #T_8f192_row4_col3, #T_8f192_row6_col3 {\n",
       "  background-color: #f5f6f7;\n",
       "  color: #000000;\n",
       "}\n",
       "#T_8f192_row1_col6, #T_8f192_row6_col1 {\n",
       "  background-color: #fbceb7;\n",
       "  color: #000000;\n",
       "}\n",
       "#T_8f192_row2_col3, #T_8f192_row3_col2 {\n",
       "  background-color: #f7f5f4;\n",
       "  color: #000000;\n",
       "}\n",
       "#T_8f192_row2_col4, #T_8f192_row4_col2 {\n",
       "  background-color: #cae1ee;\n",
       "  color: #000000;\n",
       "}\n",
       "#T_8f192_row2_col5, #T_8f192_row5_col2 {\n",
       "  background-color: #c7e0ed;\n",
       "  color: #000000;\n",
       "}\n",
       "#T_8f192_row2_col6, #T_8f192_row6_col2 {\n",
       "  background-color: #eff3f5;\n",
       "  color: #000000;\n",
       "}\n",
       "#T_8f192_row3_col5, #T_8f192_row5_col3 {\n",
       "  background-color: #f7f6f6;\n",
       "  color: #000000;\n",
       "}\n",
       "#T_8f192_row4_col5, #T_8f192_row5_col4 {\n",
       "  background-color: #dae9f2;\n",
       "  color: #000000;\n",
       "}\n",
       "#T_8f192_row4_col6, #T_8f192_row6_col4 {\n",
       "  background-color: #fcd5bf;\n",
       "  color: #000000;\n",
       "}\n",
       "#T_8f192_row5_col6, #T_8f192_row6_col5 {\n",
       "  background-color: #fdd9c4;\n",
       "  color: #000000;\n",
       "}\n",
       "</style>\n",
       "<table id=\"T_8f192_\">\n",
       "  <thead>\n",
       "    <tr>\n",
       "      <th class=\"blank level0\" >&nbsp;</th>\n",
       "      <th class=\"col_heading level0 col0\" >Age</th>\n",
       "      <th class=\"col_heading level0 col1\" >RoomService</th>\n",
       "      <th class=\"col_heading level0 col2\" >FoodCourt</th>\n",
       "      <th class=\"col_heading level0 col3\" >ShoppingMall</th>\n",
       "      <th class=\"col_heading level0 col4\" >Spa</th>\n",
       "      <th class=\"col_heading level0 col5\" >VRDeck</th>\n",
       "      <th class=\"col_heading level0 col6\" >Transported</th>\n",
       "    </tr>\n",
       "  </thead>\n",
       "  <tbody>\n",
       "    <tr>\n",
       "      <th id=\"T_8f192_level0_row0\" class=\"row_heading level0 row0\" >Age</th>\n",
       "      <td id=\"T_8f192_row0_col0\" class=\"data row0 col0\" >1.000000</td>\n",
       "      <td id=\"T_8f192_row0_col1\" class=\"data row0 col1\" >0.068723</td>\n",
       "      <td id=\"T_8f192_row0_col2\" class=\"data row0 col2\" >0.130421</td>\n",
       "      <td id=\"T_8f192_row0_col3\" class=\"data row0 col3\" >0.033133</td>\n",
       "      <td id=\"T_8f192_row0_col4\" class=\"data row0 col4\" >0.123970</td>\n",
       "      <td id=\"T_8f192_row0_col5\" class=\"data row0 col5\" >0.101007</td>\n",
       "      <td id=\"T_8f192_row0_col6\" class=\"data row0 col6\" >-0.075026</td>\n",
       "    </tr>\n",
       "    <tr>\n",
       "      <th id=\"T_8f192_level0_row1\" class=\"row_heading level0 row1\" >RoomService</th>\n",
       "      <td id=\"T_8f192_row1_col0\" class=\"data row1 col0\" >0.068723</td>\n",
       "      <td id=\"T_8f192_row1_col1\" class=\"data row1 col1\" >1.000000</td>\n",
       "      <td id=\"T_8f192_row1_col2\" class=\"data row1 col2\" >-0.015889</td>\n",
       "      <td id=\"T_8f192_row1_col3\" class=\"data row1 col3\" >0.054480</td>\n",
       "      <td id=\"T_8f192_row1_col4\" class=\"data row1 col4\" >0.010080</td>\n",
       "      <td id=\"T_8f192_row1_col5\" class=\"data row1 col5\" >-0.019581</td>\n",
       "      <td id=\"T_8f192_row1_col6\" class=\"data row1 col6\" >-0.244611</td>\n",
       "    </tr>\n",
       "    <tr>\n",
       "      <th id=\"T_8f192_level0_row2\" class=\"row_heading level0 row2\" >FoodCourt</th>\n",
       "      <td id=\"T_8f192_row2_col0\" class=\"data row2 col0\" >0.130421</td>\n",
       "      <td id=\"T_8f192_row2_col1\" class=\"data row2 col1\" >-0.015889</td>\n",
       "      <td id=\"T_8f192_row2_col2\" class=\"data row2 col2\" >1.000000</td>\n",
       "      <td id=\"T_8f192_row2_col3\" class=\"data row2 col3\" >-0.014228</td>\n",
       "      <td id=\"T_8f192_row2_col4\" class=\"data row2 col4\" >0.221891</td>\n",
       "      <td id=\"T_8f192_row2_col5\" class=\"data row2 col5\" >0.227995</td>\n",
       "      <td id=\"T_8f192_row2_col6\" class=\"data row2 col6\" >0.046566</td>\n",
       "    </tr>\n",
       "    <tr>\n",
       "      <th id=\"T_8f192_level0_row3\" class=\"row_heading level0 row3\" >ShoppingMall</th>\n",
       "      <td id=\"T_8f192_row3_col0\" class=\"data row3 col0\" >0.033133</td>\n",
       "      <td id=\"T_8f192_row3_col1\" class=\"data row3 col1\" >0.054480</td>\n",
       "      <td id=\"T_8f192_row3_col2\" class=\"data row3 col2\" >-0.014228</td>\n",
       "      <td id=\"T_8f192_row3_col3\" class=\"data row3 col3\" >1.000000</td>\n",
       "      <td id=\"T_8f192_row3_col4\" class=\"data row3 col4\" >0.013879</td>\n",
       "      <td id=\"T_8f192_row3_col5\" class=\"data row3 col5\" >-0.007322</td>\n",
       "      <td id=\"T_8f192_row3_col6\" class=\"data row3 col6\" >0.010141</td>\n",
       "    </tr>\n",
       "    <tr>\n",
       "      <th id=\"T_8f192_level0_row4\" class=\"row_heading level0 row4\" >Spa</th>\n",
       "      <td id=\"T_8f192_row4_col0\" class=\"data row4 col0\" >0.123970</td>\n",
       "      <td id=\"T_8f192_row4_col1\" class=\"data row4 col1\" >0.010080</td>\n",
       "      <td id=\"T_8f192_row4_col2\" class=\"data row4 col2\" >0.221891</td>\n",
       "      <td id=\"T_8f192_row4_col3\" class=\"data row4 col3\" >0.013879</td>\n",
       "      <td id=\"T_8f192_row4_col4\" class=\"data row4 col4\" >1.000000</td>\n",
       "      <td id=\"T_8f192_row4_col5\" class=\"data row4 col5\" >0.153821</td>\n",
       "      <td id=\"T_8f192_row4_col6\" class=\"data row4 col6\" >-0.221131</td>\n",
       "    </tr>\n",
       "    <tr>\n",
       "      <th id=\"T_8f192_level0_row5\" class=\"row_heading level0 row5\" >VRDeck</th>\n",
       "      <td id=\"T_8f192_row5_col0\" class=\"data row5 col0\" >0.101007</td>\n",
       "      <td id=\"T_8f192_row5_col1\" class=\"data row5 col1\" >-0.019581</td>\n",
       "      <td id=\"T_8f192_row5_col2\" class=\"data row5 col2\" >0.227995</td>\n",
       "      <td id=\"T_8f192_row5_col3\" class=\"data row5 col3\" >-0.007322</td>\n",
       "      <td id=\"T_8f192_row5_col4\" class=\"data row5 col4\" >0.153821</td>\n",
       "      <td id=\"T_8f192_row5_col5\" class=\"data row5 col5\" >1.000000</td>\n",
       "      <td id=\"T_8f192_row5_col6\" class=\"data row5 col6\" >-0.207075</td>\n",
       "    </tr>\n",
       "    <tr>\n",
       "      <th id=\"T_8f192_level0_row6\" class=\"row_heading level0 row6\" >Transported</th>\n",
       "      <td id=\"T_8f192_row6_col0\" class=\"data row6 col0\" >-0.075026</td>\n",
       "      <td id=\"T_8f192_row6_col1\" class=\"data row6 col1\" >-0.244611</td>\n",
       "      <td id=\"T_8f192_row6_col2\" class=\"data row6 col2\" >0.046566</td>\n",
       "      <td id=\"T_8f192_row6_col3\" class=\"data row6 col3\" >0.010141</td>\n",
       "      <td id=\"T_8f192_row6_col4\" class=\"data row6 col4\" >-0.221131</td>\n",
       "      <td id=\"T_8f192_row6_col5\" class=\"data row6 col5\" >-0.207075</td>\n",
       "      <td id=\"T_8f192_row6_col6\" class=\"data row6 col6\" >1.000000</td>\n",
       "    </tr>\n",
       "  </tbody>\n",
       "</table>\n"
      ],
      "text/plain": [
       "<pandas.io.formats.style.Styler at 0x7f5d9010fc10>"
      ]
     },
     "execution_count": 18,
     "metadata": {},
     "output_type": "execute_result"
    }
   ],
   "source": [
    "train.corr().style.background_gradient(cmap=\"RdBu\", axis=None, vmin=-1, vmax=0, high=1)"
   ]
  },
  {
   "cell_type": "markdown",
   "id": "e0781d3e",
   "metadata": {
    "papermill": {
     "duration": 0.042741,
     "end_time": "2022-04-02T09:44:59.316596",
     "exception": false,
     "start_time": "2022-04-02T09:44:59.273855",
     "status": "completed"
    },
    "tags": []
   },
   "source": [
    "#### There seems to be little correlation between each characteristic.\n",
    "- Issues such as multicollinearity don't have to be considered."
   ]
  },
  {
   "cell_type": "markdown",
   "id": "d5b829e3",
   "metadata": {
    "papermill": {
     "duration": 0.043622,
     "end_time": "2022-04-02T09:44:59.403530",
     "exception": false,
     "start_time": "2022-04-02T09:44:59.359908",
     "status": "completed"
    },
    "tags": []
   },
   "source": [
    "# Step 3. Data Preproccessing\n",
    "#### - Feature engineering, standardization, one-hot encoding, etc\n",
    "#### - Create derived variables and descibe why you made this variable."
   ]
  },
  {
   "cell_type": "markdown",
   "id": "06cbf3ec",
   "metadata": {
    "papermill": {
     "duration": 0.044433,
     "end_time": "2022-04-02T09:44:59.490479",
     "exception": false,
     "start_time": "2022-04-02T09:44:59.446046",
     "status": "completed"
    },
    "tags": []
   },
   "source": [
    "# Step 4. ML Model\n",
    "#### - Use 1~2 ML model and describe about them\n",
    "#### - Cross Validation and hyperparameter tuning"
   ]
  },
  {
   "cell_type": "code",
   "execution_count": 19,
   "id": "61cc51e4",
   "metadata": {
    "execution": {
     "iopub.execute_input": "2022-04-02T09:44:59.580160Z",
     "iopub.status.busy": "2022-04-02T09:44:59.579161Z",
     "iopub.status.idle": "2022-04-02T09:44:59.590110Z",
     "shell.execute_reply": "2022-04-02T09:44:59.590636Z",
     "shell.execute_reply.started": "2022-04-02T09:25:55.271366Z"
    },
    "papermill": {
     "duration": 0.0575,
     "end_time": "2022-04-02T09:44:59.590810",
     "exception": false,
     "start_time": "2022-04-02T09:44:59.533310",
     "status": "completed"
    },
    "tags": []
   },
   "outputs": [
    {
     "name": "stdout",
     "output_type": "stream",
     "text": [
      "(8693, 13)\n",
      "(8693,)\n"
     ]
    }
   ],
   "source": [
    "train_input = train.iloc[:, :-1].to_numpy()\n",
    "train_target = train.iloc[:,-1].to_numpy()\n",
    "print(train_input.shape)\n",
    "print(train_target.shape)"
   ]
  },
  {
   "cell_type": "markdown",
   "id": "858e9063",
   "metadata": {
    "papermill": {
     "duration": 0.043313,
     "end_time": "2022-04-02T09:44:59.677421",
     "exception": false,
     "start_time": "2022-04-02T09:44:59.634108",
     "status": "completed"
    },
    "tags": []
   },
   "source": [
    "# Step 5. Model Evaluation\n",
    "#### - Split data set into training data and verification data.\n",
    "#### - Create Confusion Matrix and compare model accuracy."
   ]
  },
  {
   "cell_type": "markdown",
   "id": "a3e68ca0",
   "metadata": {
    "papermill": {
     "duration": 0.044481,
     "end_time": "2022-04-02T09:44:59.765265",
     "exception": false,
     "start_time": "2022-04-02T09:44:59.720784",
     "status": "completed"
    },
    "tags": []
   },
   "source": [
    "# Step 6. Submission\n",
    "#### - Submit according to the sample given"
   ]
  },
  {
   "cell_type": "markdown",
   "id": "d840585b",
   "metadata": {
    "papermill": {
     "duration": 0.043169,
     "end_time": "2022-04-02T09:44:59.851806",
     "exception": false,
     "start_time": "2022-04-02T09:44:59.808637",
     "status": "completed"
    },
    "tags": []
   },
   "source": [
    "# Reference\n",
    "#### - Be sure to link the referenced code in order to prevent plagiarism on your laptop.\n",
    "#### - Write author name, code title, and url"
   ]
  }
 ],
 "metadata": {
  "kernelspec": {
   "display_name": "Python 3",
   "language": "python",
   "name": "python3"
  },
  "language_info": {
   "codemirror_mode": {
    "name": "ipython",
    "version": 3
   },
   "file_extension": ".py",
   "mimetype": "text/x-python",
   "name": "python",
   "nbconvert_exporter": "python",
   "pygments_lexer": "ipython3",
   "version": "3.7.12"
  },
  "papermill": {
   "default_parameters": {},
   "duration": 19.260999,
   "end_time": "2022-04-02T09:45:01.010472",
   "environment_variables": {},
   "exception": null,
   "input_path": "__notebook__.ipynb",
   "output_path": "__notebook__.ipynb",
   "parameters": {},
   "start_time": "2022-04-02T09:44:41.749473",
   "version": "2.3.3"
  }
 },
 "nbformat": 4,
 "nbformat_minor": 5
}
