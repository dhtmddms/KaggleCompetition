{
 "cells": [
  {
   "cell_type": "code",
   "execution_count": 1,
   "id": "31eaacca",
   "metadata": {
    "_cell_guid": "b1076dfc-b9ad-4769-8c92-a6c4dae69d19",
    "_uuid": "8f2839f25d086af736a60e9eeb907d3b93b6e0e5",
    "execution": {
     "iopub.execute_input": "2022-04-04T03:02:02.245707Z",
     "iopub.status.busy": "2022-04-04T03:02:02.243907Z",
     "iopub.status.idle": "2022-04-04T03:02:02.259585Z",
     "shell.execute_reply": "2022-04-04T03:02:02.260384Z",
     "shell.execute_reply.started": "2022-04-04T02:13:31.705402Z"
    },
    "papermill": {
     "duration": 0.058506,
     "end_time": "2022-04-04T03:02:02.260781",
     "exception": false,
     "start_time": "2022-04-04T03:02:02.202275",
     "status": "completed"
    },
    "tags": []
   },
   "outputs": [
    {
     "name": "stdout",
     "output_type": "stream",
     "text": [
      "/kaggle/input/spaceship-titanic/sample_submission.csv\n",
      "/kaggle/input/spaceship-titanic/train.csv\n",
      "/kaggle/input/spaceship-titanic/test.csv\n"
     ]
    }
   ],
   "source": [
    "# This Python 3 environment comes with many helpful analytics libraries installed\n",
    "# It is defined by the kaggle/python Docker image: https://github.com/kaggle/docker-python\n",
    "# For example, here's several helpful packages to load\n",
    "\n",
    "import numpy as np # linear algebra\n",
    "import pandas as pd # data processing, CSV file I/O (e.g. pd.read_csv)\n",
    "\n",
    "# Input data files are available in the read-only \"../input/\" directory\n",
    "# For example, running this (by clicking run or pressing Shift+Enter) will list all files under the input directory\n",
    "\n",
    "import os\n",
    "for dirname, _, filenames in os.walk('/kaggle/input'):\n",
    "    for filename in filenames:\n",
    "        print(os.path.join(dirname, filename))\n",
    "\n",
    "# You can write up to 20GB to the current directory (/kaggle/working/) that gets preserved as output when you create a version using \"Save & Run All\" \n",
    "# You can also write temporary files to /kaggle/temp/, but they won't be saved outside of the current session"
   ]
  },
  {
   "cell_type": "markdown",
   "id": "f54dce85",
   "metadata": {
    "papermill": {
     "duration": 0.037049,
     "end_time": "2022-04-04T03:02:02.335700",
     "exception": false,
     "start_time": "2022-04-04T03:02:02.298651",
     "status": "completed"
    },
    "tags": []
   },
   "source": []
  },
  {
   "cell_type": "markdown",
   "id": "1ecce8fe",
   "metadata": {
    "papermill": {
     "duration": 0.037,
     "end_time": "2022-04-04T03:02:02.408639",
     "exception": false,
     "start_time": "2022-04-04T03:02:02.371639",
     "status": "completed"
    },
    "tags": []
   },
   "source": [
    "# Step 1. Library and Dataset Loading\n",
    "#### - Check the library version"
   ]
  },
  {
   "cell_type": "markdown",
   "id": "de76b340",
   "metadata": {
    "papermill": {
     "duration": 0.036429,
     "end_time": "2022-04-04T03:02:02.482016",
     "exception": false,
     "start_time": "2022-04-04T03:02:02.445587",
     "status": "completed"
    },
    "tags": []
   },
   "source": [
    "## Import Library"
   ]
  },
  {
   "cell_type": "code",
   "execution_count": 2,
   "id": "ef7fef52",
   "metadata": {
    "execution": {
     "iopub.execute_input": "2022-04-04T03:02:02.558401Z",
     "iopub.status.busy": "2022-04-04T03:02:02.557590Z",
     "iopub.status.idle": "2022-04-04T03:02:03.656421Z",
     "shell.execute_reply": "2022-04-04T03:02:03.655542Z",
     "shell.execute_reply.started": "2022-04-04T02:13:31.953709Z"
    },
    "papermill": {
     "duration": 1.138402,
     "end_time": "2022-04-04T03:02:03.656597",
     "exception": false,
     "start_time": "2022-04-04T03:02:02.518195",
     "status": "completed"
    },
    "tags": []
   },
   "outputs": [
    {
     "name": "stdout",
     "output_type": "stream",
     "text": [
      "Numpy ver. 1.20.3\n",
      "Pandas ver. 1.3.5\n",
      "Matplotlib ver. 3.5.1\n",
      "Seaborn ver. 0.11.2\n",
      "['sample_submission.csv', 'train.csv', 'test.csv']\n"
     ]
    }
   ],
   "source": [
    "import numpy as np\n",
    "import pandas as pd\n",
    "import seaborn as sns\n",
    "import matplotlib\n",
    "import matplotlib.pyplot as plt\n",
    "import os\n",
    "\n",
    "print(\"Numpy ver.\", np.__version__)\n",
    "print(\"Pandas ver.\", pd.__version__)\n",
    "print(\"Matplotlib ver.\", matplotlib.__version__)\n",
    "print(\"Seaborn ver.\", sns.__version__)\n",
    "\n",
    "print(os.listdir('../input/spaceship-titanic/'))"
   ]
  },
  {
   "cell_type": "code",
   "execution_count": 3,
   "id": "9f65157d",
   "metadata": {
    "execution": {
     "iopub.execute_input": "2022-04-04T03:02:03.740942Z",
     "iopub.status.busy": "2022-04-04T03:02:03.740048Z",
     "iopub.status.idle": "2022-04-04T03:02:05.050210Z",
     "shell.execute_reply": "2022-04-04T03:02:05.050731Z",
     "shell.execute_reply.started": "2022-04-04T02:13:33.015619Z"
    },
    "papermill": {
     "duration": 1.353778,
     "end_time": "2022-04-04T03:02:05.051202",
     "exception": false,
     "start_time": "2022-04-04T03:02:03.697424",
     "status": "completed"
    },
    "tags": []
   },
   "outputs": [
    {
     "data": {
      "text/html": [
       "<style type='text/css'>\n",
       ".datatable table.frame { margin-bottom: 0; }\n",
       ".datatable table.frame thead { border-bottom: none; }\n",
       ".datatable table.frame tr.coltypes td {  color: #FFFFFF;  line-height: 6px;  padding: 0 0.5em;}\n",
       ".datatable .bool    { background: #DDDD99; }\n",
       ".datatable .object  { background: #565656; }\n",
       ".datatable .int     { background: #5D9E5D; }\n",
       ".datatable .float   { background: #4040CC; }\n",
       ".datatable .str     { background: #CC4040; }\n",
       ".datatable .time    { background: #40CC40; }\n",
       ".datatable .row_index {  background: var(--jp-border-color3);  border-right: 1px solid var(--jp-border-color0);  color: var(--jp-ui-font-color3);  font-size: 9px;}\n",
       ".datatable .frame tbody td { text-align: left; }\n",
       ".datatable .frame tr.coltypes .row_index {  background: var(--jp-border-color0);}\n",
       ".datatable th:nth-child(2) { padding-left: 12px; }\n",
       ".datatable .hellipsis {  color: var(--jp-cell-editor-border-color);}\n",
       ".datatable .vellipsis {  background: var(--jp-layout-color0);  color: var(--jp-cell-editor-border-color);}\n",
       ".datatable .na {  color: var(--jp-cell-editor-border-color);  font-size: 80%;}\n",
       ".datatable .sp {  opacity: 0.25;}\n",
       ".datatable .footer { font-size: 9px; }\n",
       ".datatable .frame_dimensions {  background: var(--jp-border-color3);  border-top: 1px solid var(--jp-border-color0);  color: var(--jp-ui-font-color3);  display: inline-block;  opacity: 0.6;  padding: 1px 10px 1px 5px;}\n",
       "</style>\n"
      ],
      "text/plain": [
       "<IPython.core.display.HTML object>"
      ]
     },
     "metadata": {},
     "output_type": "display_data"
    }
   ],
   "source": [
    "from sklearn.impute import SimpleImputer\n",
    "from sklearn.metrics import accuracy_score\n",
    "from sklearn.preprocessing import LabelEncoder\n",
    "from sklearn.model_selection import StratifiedKFold, train_test_split\n",
    "from lightgbm import LGBMClassifier\n",
    "\n",
    "import time\n",
    "import warnings\n",
    "warnings.filterwarnings('ignore')"
   ]
  },
  {
   "cell_type": "markdown",
   "id": "7a3beeaa",
   "metadata": {
    "papermill": {
     "duration": 0.038301,
     "end_time": "2022-04-04T03:02:05.129793",
     "exception": false,
     "start_time": "2022-04-04T03:02:05.091492",
     "status": "completed"
    },
    "tags": []
   },
   "source": [
    "## Load Data Set"
   ]
  },
  {
   "cell_type": "code",
   "execution_count": 4,
   "id": "dae3fadb",
   "metadata": {
    "execution": {
     "iopub.execute_input": "2022-04-04T03:02:05.213097Z",
     "iopub.status.busy": "2022-04-04T03:02:05.212330Z",
     "iopub.status.idle": "2022-04-04T03:02:05.304071Z",
     "shell.execute_reply": "2022-04-04T03:02:05.302446Z",
     "shell.execute_reply.started": "2022-04-04T02:13:34.237967Z"
    },
    "papermill": {
     "duration": 0.1363,
     "end_time": "2022-04-04T03:02:05.304298",
     "exception": false,
     "start_time": "2022-04-04T03:02:05.167998",
     "status": "completed"
    },
    "tags": []
   },
   "outputs": [
    {
     "name": "stdout",
     "output_type": "stream",
     "text": [
      "Train Data: (8693, 14)\n",
      "Test Data: (4277, 13)\n",
      "Submission: (4277, 2)\n"
     ]
    }
   ],
   "source": [
    "BASE_DIR = '../input/spaceship-titanic/'\n",
    "train = pd.read_csv(BASE_DIR + \"train.csv\")\n",
    "test = pd.read_csv(BASE_DIR + \"test.csv\")\n",
    "sample_submission = pd.read_csv(BASE_DIR + \"sample_submission.csv\")\n",
    "print(\"Train Data:\",train.shape)\n",
    "print(\"Test Data:\",test.shape)\n",
    "print(\"Submission:\",sample_submission.shape)"
   ]
  },
  {
   "cell_type": "code",
   "execution_count": 5,
   "id": "33cbc82b",
   "metadata": {
    "execution": {
     "iopub.execute_input": "2022-04-04T03:02:05.400004Z",
     "iopub.status.busy": "2022-04-04T03:02:05.392571Z",
     "iopub.status.idle": "2022-04-04T03:02:05.422070Z",
     "shell.execute_reply": "2022-04-04T03:02:05.421472Z",
     "shell.execute_reply.started": "2022-04-04T02:13:34.333069Z"
    },
    "papermill": {
     "duration": 0.077519,
     "end_time": "2022-04-04T03:02:05.422215",
     "exception": false,
     "start_time": "2022-04-04T03:02:05.344696",
     "status": "completed"
    },
    "tags": []
   },
   "outputs": [
    {
     "name": "stdout",
     "output_type": "stream",
     "text": [
      "<class 'pandas.core.frame.DataFrame'>\n",
      "RangeIndex: 8693 entries, 0 to 8692\n",
      "Data columns (total 14 columns):\n",
      " #   Column        Non-Null Count  Dtype  \n",
      "---  ------        --------------  -----  \n",
      " 0   PassengerId   8693 non-null   object \n",
      " 1   HomePlanet    8492 non-null   object \n",
      " 2   CryoSleep     8476 non-null   object \n",
      " 3   Cabin         8494 non-null   object \n",
      " 4   Destination   8511 non-null   object \n",
      " 5   Age           8514 non-null   float64\n",
      " 6   VIP           8490 non-null   object \n",
      " 7   RoomService   8512 non-null   float64\n",
      " 8   FoodCourt     8510 non-null   float64\n",
      " 9   ShoppingMall  8485 non-null   float64\n",
      " 10  Spa           8510 non-null   float64\n",
      " 11  VRDeck        8505 non-null   float64\n",
      " 12  Name          8493 non-null   object \n",
      " 13  Transported   8693 non-null   bool   \n",
      "dtypes: bool(1), float64(6), object(7)\n",
      "memory usage: 891.5+ KB\n"
     ]
    }
   ],
   "source": [
    "train.info()"
   ]
  },
  {
   "cell_type": "code",
   "execution_count": 6,
   "id": "ac988616",
   "metadata": {
    "execution": {
     "iopub.execute_input": "2022-04-04T03:02:05.514349Z",
     "iopub.status.busy": "2022-04-04T03:02:05.513421Z",
     "iopub.status.idle": "2022-04-04T03:02:05.517019Z",
     "shell.execute_reply": "2022-04-04T03:02:05.517755Z",
     "shell.execute_reply.started": "2022-04-04T02:13:34.369683Z"
    },
    "papermill": {
     "duration": 0.057733,
     "end_time": "2022-04-04T03:02:05.518011",
     "exception": false,
     "start_time": "2022-04-04T03:02:05.460278",
     "status": "completed"
    },
    "tags": []
   },
   "outputs": [
    {
     "name": "stdout",
     "output_type": "stream",
     "text": [
      "<class 'pandas.core.frame.DataFrame'>\n",
      "RangeIndex: 4277 entries, 0 to 4276\n",
      "Data columns (total 13 columns):\n",
      " #   Column        Non-Null Count  Dtype  \n",
      "---  ------        --------------  -----  \n",
      " 0   PassengerId   4277 non-null   object \n",
      " 1   HomePlanet    4190 non-null   object \n",
      " 2   CryoSleep     4184 non-null   object \n",
      " 3   Cabin         4177 non-null   object \n",
      " 4   Destination   4185 non-null   object \n",
      " 5   Age           4186 non-null   float64\n",
      " 6   VIP           4184 non-null   object \n",
      " 7   RoomService   4195 non-null   float64\n",
      " 8   FoodCourt     4171 non-null   float64\n",
      " 9   ShoppingMall  4179 non-null   float64\n",
      " 10  Spa           4176 non-null   float64\n",
      " 11  VRDeck        4197 non-null   float64\n",
      " 12  Name          4183 non-null   object \n",
      "dtypes: float64(6), object(7)\n",
      "memory usage: 434.5+ KB\n"
     ]
    }
   ],
   "source": [
    "test.info()"
   ]
  },
  {
   "cell_type": "code",
   "execution_count": 7,
   "id": "9f6e81cd",
   "metadata": {
    "execution": {
     "iopub.execute_input": "2022-04-04T03:02:05.605441Z",
     "iopub.status.busy": "2022-04-04T03:02:05.604573Z",
     "iopub.status.idle": "2022-04-04T03:02:05.625145Z",
     "shell.execute_reply": "2022-04-04T03:02:05.624514Z",
     "shell.execute_reply.started": "2022-04-04T02:13:34.388068Z"
    },
    "papermill": {
     "duration": 0.066538,
     "end_time": "2022-04-04T03:02:05.625301",
     "exception": false,
     "start_time": "2022-04-04T03:02:05.558763",
     "status": "completed"
    },
    "tags": []
   },
   "outputs": [
    {
     "data": {
      "text/html": [
       "<div>\n",
       "<style scoped>\n",
       "    .dataframe tbody tr th:only-of-type {\n",
       "        vertical-align: middle;\n",
       "    }\n",
       "\n",
       "    .dataframe tbody tr th {\n",
       "        vertical-align: top;\n",
       "    }\n",
       "\n",
       "    .dataframe thead th {\n",
       "        text-align: right;\n",
       "    }\n",
       "</style>\n",
       "<table border=\"1\" class=\"dataframe\">\n",
       "  <thead>\n",
       "    <tr style=\"text-align: right;\">\n",
       "      <th></th>\n",
       "      <th>PassengerId</th>\n",
       "      <th>HomePlanet</th>\n",
       "      <th>CryoSleep</th>\n",
       "      <th>Cabin</th>\n",
       "      <th>Destination</th>\n",
       "      <th>Age</th>\n",
       "      <th>VIP</th>\n",
       "      <th>RoomService</th>\n",
       "      <th>FoodCourt</th>\n",
       "      <th>ShoppingMall</th>\n",
       "      <th>Spa</th>\n",
       "      <th>VRDeck</th>\n",
       "      <th>Name</th>\n",
       "      <th>Transported</th>\n",
       "    </tr>\n",
       "  </thead>\n",
       "  <tbody>\n",
       "    <tr>\n",
       "      <th>0</th>\n",
       "      <td>0001_01</td>\n",
       "      <td>Europa</td>\n",
       "      <td>False</td>\n",
       "      <td>B/0/P</td>\n",
       "      <td>TRAPPIST-1e</td>\n",
       "      <td>39.0</td>\n",
       "      <td>False</td>\n",
       "      <td>0.0</td>\n",
       "      <td>0.0</td>\n",
       "      <td>0.0</td>\n",
       "      <td>0.0</td>\n",
       "      <td>0.0</td>\n",
       "      <td>Maham Ofracculy</td>\n",
       "      <td>False</td>\n",
       "    </tr>\n",
       "    <tr>\n",
       "      <th>1</th>\n",
       "      <td>0002_01</td>\n",
       "      <td>Earth</td>\n",
       "      <td>False</td>\n",
       "      <td>F/0/S</td>\n",
       "      <td>TRAPPIST-1e</td>\n",
       "      <td>24.0</td>\n",
       "      <td>False</td>\n",
       "      <td>109.0</td>\n",
       "      <td>9.0</td>\n",
       "      <td>25.0</td>\n",
       "      <td>549.0</td>\n",
       "      <td>44.0</td>\n",
       "      <td>Juanna Vines</td>\n",
       "      <td>True</td>\n",
       "    </tr>\n",
       "    <tr>\n",
       "      <th>2</th>\n",
       "      <td>0003_01</td>\n",
       "      <td>Europa</td>\n",
       "      <td>False</td>\n",
       "      <td>A/0/S</td>\n",
       "      <td>TRAPPIST-1e</td>\n",
       "      <td>58.0</td>\n",
       "      <td>True</td>\n",
       "      <td>43.0</td>\n",
       "      <td>3576.0</td>\n",
       "      <td>0.0</td>\n",
       "      <td>6715.0</td>\n",
       "      <td>49.0</td>\n",
       "      <td>Altark Susent</td>\n",
       "      <td>False</td>\n",
       "    </tr>\n",
       "  </tbody>\n",
       "</table>\n",
       "</div>"
      ],
      "text/plain": [
       "  PassengerId HomePlanet CryoSleep  Cabin  Destination   Age    VIP  \\\n",
       "0     0001_01     Europa     False  B/0/P  TRAPPIST-1e  39.0  False   \n",
       "1     0002_01      Earth     False  F/0/S  TRAPPIST-1e  24.0  False   \n",
       "2     0003_01     Europa     False  A/0/S  TRAPPIST-1e  58.0   True   \n",
       "\n",
       "   RoomService  FoodCourt  ShoppingMall     Spa  VRDeck             Name  \\\n",
       "0          0.0        0.0           0.0     0.0     0.0  Maham Ofracculy   \n",
       "1        109.0        9.0          25.0   549.0    44.0     Juanna Vines   \n",
       "2         43.0     3576.0           0.0  6715.0    49.0    Altark Susent   \n",
       "\n",
       "   Transported  \n",
       "0        False  \n",
       "1         True  \n",
       "2        False  "
      ]
     },
     "execution_count": 7,
     "metadata": {},
     "output_type": "execute_result"
    }
   ],
   "source": [
    "train.head(3)"
   ]
  },
  {
   "cell_type": "code",
   "execution_count": 8,
   "id": "49ae41ed",
   "metadata": {
    "execution": {
     "iopub.execute_input": "2022-04-04T03:02:05.725626Z",
     "iopub.status.busy": "2022-04-04T03:02:05.724384Z",
     "iopub.status.idle": "2022-04-04T03:02:05.729672Z",
     "shell.execute_reply": "2022-04-04T03:02:05.728751Z",
     "shell.execute_reply.started": "2022-04-04T02:13:34.413906Z"
    },
    "papermill": {
     "duration": 0.064384,
     "end_time": "2022-04-04T03:02:05.729824",
     "exception": false,
     "start_time": "2022-04-04T03:02:05.665440",
     "status": "completed"
    },
    "tags": []
   },
   "outputs": [
    {
     "data": {
      "text/html": [
       "<div>\n",
       "<style scoped>\n",
       "    .dataframe tbody tr th:only-of-type {\n",
       "        vertical-align: middle;\n",
       "    }\n",
       "\n",
       "    .dataframe tbody tr th {\n",
       "        vertical-align: top;\n",
       "    }\n",
       "\n",
       "    .dataframe thead th {\n",
       "        text-align: right;\n",
       "    }\n",
       "</style>\n",
       "<table border=\"1\" class=\"dataframe\">\n",
       "  <thead>\n",
       "    <tr style=\"text-align: right;\">\n",
       "      <th></th>\n",
       "      <th>PassengerId</th>\n",
       "      <th>HomePlanet</th>\n",
       "      <th>CryoSleep</th>\n",
       "      <th>Cabin</th>\n",
       "      <th>Destination</th>\n",
       "      <th>Age</th>\n",
       "      <th>VIP</th>\n",
       "      <th>RoomService</th>\n",
       "      <th>FoodCourt</th>\n",
       "      <th>ShoppingMall</th>\n",
       "      <th>Spa</th>\n",
       "      <th>VRDeck</th>\n",
       "      <th>Name</th>\n",
       "    </tr>\n",
       "  </thead>\n",
       "  <tbody>\n",
       "    <tr>\n",
       "      <th>0</th>\n",
       "      <td>0013_01</td>\n",
       "      <td>Earth</td>\n",
       "      <td>True</td>\n",
       "      <td>G/3/S</td>\n",
       "      <td>TRAPPIST-1e</td>\n",
       "      <td>27.0</td>\n",
       "      <td>False</td>\n",
       "      <td>0.0</td>\n",
       "      <td>0.0</td>\n",
       "      <td>0.0</td>\n",
       "      <td>0.0</td>\n",
       "      <td>0.0</td>\n",
       "      <td>Nelly Carsoning</td>\n",
       "    </tr>\n",
       "    <tr>\n",
       "      <th>1</th>\n",
       "      <td>0018_01</td>\n",
       "      <td>Earth</td>\n",
       "      <td>False</td>\n",
       "      <td>F/4/S</td>\n",
       "      <td>TRAPPIST-1e</td>\n",
       "      <td>19.0</td>\n",
       "      <td>False</td>\n",
       "      <td>0.0</td>\n",
       "      <td>9.0</td>\n",
       "      <td>0.0</td>\n",
       "      <td>2823.0</td>\n",
       "      <td>0.0</td>\n",
       "      <td>Lerome Peckers</td>\n",
       "    </tr>\n",
       "    <tr>\n",
       "      <th>2</th>\n",
       "      <td>0019_01</td>\n",
       "      <td>Europa</td>\n",
       "      <td>True</td>\n",
       "      <td>C/0/S</td>\n",
       "      <td>55 Cancri e</td>\n",
       "      <td>31.0</td>\n",
       "      <td>False</td>\n",
       "      <td>0.0</td>\n",
       "      <td>0.0</td>\n",
       "      <td>0.0</td>\n",
       "      <td>0.0</td>\n",
       "      <td>0.0</td>\n",
       "      <td>Sabih Unhearfus</td>\n",
       "    </tr>\n",
       "  </tbody>\n",
       "</table>\n",
       "</div>"
      ],
      "text/plain": [
       "  PassengerId HomePlanet CryoSleep  Cabin  Destination   Age    VIP  \\\n",
       "0     0013_01      Earth      True  G/3/S  TRAPPIST-1e  27.0  False   \n",
       "1     0018_01      Earth     False  F/4/S  TRAPPIST-1e  19.0  False   \n",
       "2     0019_01     Europa      True  C/0/S  55 Cancri e  31.0  False   \n",
       "\n",
       "   RoomService  FoodCourt  ShoppingMall     Spa  VRDeck             Name  \n",
       "0          0.0        0.0           0.0     0.0     0.0  Nelly Carsoning  \n",
       "1          0.0        9.0           0.0  2823.0     0.0   Lerome Peckers  \n",
       "2          0.0        0.0           0.0     0.0     0.0  Sabih Unhearfus  "
      ]
     },
     "execution_count": 8,
     "metadata": {},
     "output_type": "execute_result"
    }
   ],
   "source": [
    "test.head(3)"
   ]
  },
  {
   "cell_type": "code",
   "execution_count": 9,
   "id": "e87ebe35",
   "metadata": {
    "execution": {
     "iopub.execute_input": "2022-04-04T03:02:05.824851Z",
     "iopub.status.busy": "2022-04-04T03:02:05.823858Z",
     "iopub.status.idle": "2022-04-04T03:02:05.828062Z",
     "shell.execute_reply": "2022-04-04T03:02:05.827453Z",
     "shell.execute_reply.started": "2022-04-04T02:13:34.434091Z"
    },
    "papermill": {
     "duration": 0.057031,
     "end_time": "2022-04-04T03:02:05.828214",
     "exception": false,
     "start_time": "2022-04-04T03:02:05.771183",
     "status": "completed"
    },
    "tags": []
   },
   "outputs": [
    {
     "data": {
      "text/html": [
       "<div>\n",
       "<style scoped>\n",
       "    .dataframe tbody tr th:only-of-type {\n",
       "        vertical-align: middle;\n",
       "    }\n",
       "\n",
       "    .dataframe tbody tr th {\n",
       "        vertical-align: top;\n",
       "    }\n",
       "\n",
       "    .dataframe thead th {\n",
       "        text-align: right;\n",
       "    }\n",
       "</style>\n",
       "<table border=\"1\" class=\"dataframe\">\n",
       "  <thead>\n",
       "    <tr style=\"text-align: right;\">\n",
       "      <th></th>\n",
       "      <th>PassengerId</th>\n",
       "      <th>Transported</th>\n",
       "    </tr>\n",
       "  </thead>\n",
       "  <tbody>\n",
       "    <tr>\n",
       "      <th>0</th>\n",
       "      <td>0013_01</td>\n",
       "      <td>False</td>\n",
       "    </tr>\n",
       "    <tr>\n",
       "      <th>1</th>\n",
       "      <td>0018_01</td>\n",
       "      <td>False</td>\n",
       "    </tr>\n",
       "    <tr>\n",
       "      <th>2</th>\n",
       "      <td>0019_01</td>\n",
       "      <td>False</td>\n",
       "    </tr>\n",
       "  </tbody>\n",
       "</table>\n",
       "</div>"
      ],
      "text/plain": [
       "  PassengerId  Transported\n",
       "0     0013_01        False\n",
       "1     0018_01        False\n",
       "2     0019_01        False"
      ]
     },
     "execution_count": 9,
     "metadata": {},
     "output_type": "execute_result"
    }
   ],
   "source": [
    "sample_submission.head(3)"
   ]
  },
  {
   "cell_type": "markdown",
   "id": "35a651ad",
   "metadata": {
    "papermill": {
     "duration": 0.040955,
     "end_time": "2022-04-04T03:02:05.909270",
     "exception": false,
     "start_time": "2022-04-04T03:02:05.868315",
     "status": "completed"
    },
    "tags": []
   },
   "source": [
    "#### There are a total of 13 features, of which 6 are numerical variables.\n",
    "#### The target, the column we're going to predict, is 'Trasnported', which is a bool type variable"
   ]
  },
  {
   "cell_type": "markdown",
   "id": "09dd2365",
   "metadata": {
    "papermill": {
     "duration": 0.042044,
     "end_time": "2022-04-04T03:02:05.991301",
     "exception": false,
     "start_time": "2022-04-04T03:02:05.949257",
     "status": "completed"
    },
    "tags": []
   },
   "source": []
  },
  {
   "cell_type": "markdown",
   "id": "c4ca9274",
   "metadata": {
    "papermill": {
     "duration": 0.040598,
     "end_time": "2022-04-04T03:02:06.073344",
     "exception": false,
     "start_time": "2022-04-04T03:02:06.032746",
     "status": "completed"
    },
    "tags": []
   },
   "source": [
    "# Step 2. EDA\n",
    "#### - data visualization\n",
    "#### - scatter plot, bar graph, etc\n",
    "#### - interpretation and description of graphs"
   ]
  },
  {
   "cell_type": "markdown",
   "id": "a0d75882",
   "metadata": {
    "papermill": {
     "duration": 0.039775,
     "end_time": "2022-04-04T03:02:06.154119",
     "exception": false,
     "start_time": "2022-04-04T03:02:06.114344",
     "status": "completed"
    },
    "tags": []
   },
   "source": [
    "## Overview of Data"
   ]
  },
  {
   "cell_type": "code",
   "execution_count": 10,
   "id": "876d77dc",
   "metadata": {
    "execution": {
     "iopub.execute_input": "2022-04-04T03:02:06.251791Z",
     "iopub.status.busy": "2022-04-04T03:02:06.250937Z",
     "iopub.status.idle": "2022-04-04T03:02:06.361279Z",
     "shell.execute_reply": "2022-04-04T03:02:06.360719Z",
     "shell.execute_reply.started": "2022-04-04T02:59:10.024131Z"
    },
    "papermill": {
     "duration": 0.165002,
     "end_time": "2022-04-04T03:02:06.361428",
     "exception": false,
     "start_time": "2022-04-04T03:02:06.196426",
     "status": "completed"
    },
    "tags": []
   },
   "outputs": [
    {
     "data": {
      "text/html": [
       "<style type=\"text/css\">\n",
       "#T_1e5a3_row0_col0 {\n",
       "  background-color: #4a98c9;\n",
       "  color: #000000;\n",
       "  width: 10em;\n",
       "  height: 80%;\n",
       "  background: linear-gradient(90deg,lavender 95.0%, transparent 95.0%);\n",
       "}\n",
       "#T_1e5a3_row0_col1 {\n",
       "  background-color: #d0e1f2;\n",
       "  color: #000000;\n",
       "  width: 10em;\n",
       "  height: 80%;\n",
       "  background: linear-gradient(90deg,khaki 6.3%, transparent 6.3%);\n",
       "}\n",
       "#T_1e5a3_row0_col2 {\n",
       "  background-color: #d0e1f2;\n",
       "  color: #000000;\n",
       "  width: 10em;\n",
       "  height: 80%;\n",
       "  background: linear-gradient(90deg,peachpuff 0.9%, transparent 0.9%);\n",
       "}\n",
       "#T_1e5a3_row0_col3, #T_1e5a3_row1_col3, #T_1e5a3_row2_col3, #T_1e5a3_row3_col3, #T_1e5a3_row4_col3, #T_1e5a3_row5_col3 {\n",
       "  background-color: #f7fbff;\n",
       "  color: #000000;\n",
       "}\n",
       "#T_1e5a3_row0_col4, #T_1e5a3_row0_col5, #T_1e5a3_row2_col6, #T_1e5a3_row2_col7 {\n",
       "  background-color: #4a98c9;\n",
       "  color: #000000;\n",
       "}\n",
       "#T_1e5a3_row0_col6 {\n",
       "  background-color: #b9d6ea;\n",
       "  color: #000000;\n",
       "}\n",
       "#T_1e5a3_row0_col7, #T_1e5a3_row1_col4, #T_1e5a3_row1_col5, #T_1e5a3_row2_col4, #T_1e5a3_row2_col5, #T_1e5a3_row3_col4, #T_1e5a3_row3_col5, #T_1e5a3_row3_col6, #T_1e5a3_row4_col4, #T_1e5a3_row4_col5, #T_1e5a3_row5_col4, #T_1e5a3_row5_col5 {\n",
       "  background-color: #d0e1f2;\n",
       "  color: #000000;\n",
       "}\n",
       "#T_1e5a3_row1_col0 {\n",
       "  background-color: #539ecd;\n",
       "  color: #000000;\n",
       "  width: 10em;\n",
       "  height: 80%;\n",
       "  background: linear-gradient(90deg,lavender 93.3%, transparent 93.3%);\n",
       "}\n",
       "#T_1e5a3_row1_col1 {\n",
       "  background-color: #9cc9e1;\n",
       "  color: #000000;\n",
       "  width: 10em;\n",
       "  height: 80%;\n",
       "  background: linear-gradient(90deg,khaki 49.1%, transparent 49.1%);\n",
       "}\n",
       "#T_1e5a3_row1_col2 {\n",
       "  background-color: #a1cbe2;\n",
       "  color: #000000;\n",
       "  width: 10em;\n",
       "  height: 80%;\n",
       "  background: linear-gradient(90deg,peachpuff 41.4%, transparent 41.4%);\n",
       "}\n",
       "#T_1e5a3_row1_col6 {\n",
       "  background-color: #a3cce3;\n",
       "  color: #000000;\n",
       "}\n",
       "#T_1e5a3_row1_col7 {\n",
       "  background-color: #97c6df;\n",
       "  color: #000000;\n",
       "}\n",
       "#T_1e5a3_row2_col0, #T_1e5a3_row4_col0 {\n",
       "  background-color: #5ca4d0;\n",
       "  color: #000000;\n",
       "  width: 10em;\n",
       "  height: 80%;\n",
       "  background: linear-gradient(90deg,lavender 91.7%, transparent 91.7%);\n",
       "}\n",
       "#T_1e5a3_row2_col1 {\n",
       "  background-color: #4a98c9;\n",
       "  color: #000000;\n",
       "  width: 10em;\n",
       "  height: 80%;\n",
       "  background: linear-gradient(90deg,khaki 100.0%, transparent 100.0%);\n",
       "}\n",
       "#T_1e5a3_row2_col2 {\n",
       "  background-color: #4a98c9;\n",
       "  color: #000000;\n",
       "  width: 10em;\n",
       "  height: 80%;\n",
       "  background: linear-gradient(90deg,peachpuff 100.0%, transparent 100.0%);\n",
       "}\n",
       "#T_1e5a3_row3_col0 {\n",
       "  background-color: #d0e1f2;\n",
       "  color: #000000;\n",
       "  width: 10em;\n",
       "  height: 80%;\n",
       "  background: linear-gradient(90deg,lavender 70.8%, transparent 70.8%);\n",
       "}\n",
       "#T_1e5a3_row3_col1 {\n",
       "  background-color: #abd0e6;\n",
       "  color: #000000;\n",
       "  width: 10em;\n",
       "  height: 80%;\n",
       "  background: linear-gradient(90deg,khaki 37.9%, transparent 37.9%);\n",
       "}\n",
       "#T_1e5a3_row3_col2 {\n",
       "  background-color: #a6cee4;\n",
       "  color: #000000;\n",
       "  width: 10em;\n",
       "  height: 80%;\n",
       "  background: linear-gradient(90deg,peachpuff 37.5%, transparent 37.5%);\n",
       "}\n",
       "#T_1e5a3_row3_col7 {\n",
       "  background-color: #66abd4;\n",
       "  color: #000000;\n",
       "}\n",
       "#T_1e5a3_row4_col1 {\n",
       "  background-color: #7ab6d9;\n",
       "  color: #000000;\n",
       "  width: 10em;\n",
       "  height: 80%;\n",
       "  background: linear-gradient(90deg,khaki 67.9%, transparent 67.9%);\n",
       "}\n",
       "#T_1e5a3_row4_col2 {\n",
       "  background-color: #72b2d8;\n",
       "  color: #000000;\n",
       "  width: 10em;\n",
       "  height: 80%;\n",
       "  background: linear-gradient(90deg,peachpuff 70.5%, transparent 70.5%);\n",
       "}\n",
       "#T_1e5a3_row4_col6 {\n",
       "  background-color: #7ab6d9;\n",
       "  color: #000000;\n",
       "}\n",
       "#T_1e5a3_row4_col7 {\n",
       "  background-color: #6aaed6;\n",
       "  color: #000000;\n",
       "}\n",
       "#T_1e5a3_row5_col0 {\n",
       "  background-color: #75b4d8;\n",
       "  color: #000000;\n",
       "  width: 10em;\n",
       "  height: 80%;\n",
       "  background: linear-gradient(90deg,lavender 87.5%, transparent 87.5%);\n",
       "}\n",
       "#T_1e5a3_row5_col1 {\n",
       "  background-color: #7cb7da;\n",
       "  color: #000000;\n",
       "  width: 10em;\n",
       "  height: 80%;\n",
       "  background: linear-gradient(90deg,khaki 66.6%, transparent 66.6%);\n",
       "}\n",
       "#T_1e5a3_row5_col2 {\n",
       "  background-color: #72b2d8;\n",
       "  color: #000000;\n",
       "  width: 10em;\n",
       "  height: 80%;\n",
       "  background: linear-gradient(90deg,peachpuff 71.1%, transparent 71.1%);\n",
       "}\n",
       "#T_1e5a3_row5_col6 {\n",
       "  background-color: #a5cde3;\n",
       "  color: #000000;\n",
       "}\n",
       "#T_1e5a3_row5_col7 {\n",
       "  background-color: #63a8d3;\n",
       "  color: #000000;\n",
       "}\n",
       "</style>\n",
       "<table id=\"T_1e5a3_\">\n",
       "  <thead>\n",
       "    <tr>\n",
       "      <th class=\"blank level0\" >&nbsp;</th>\n",
       "      <th class=\"col_heading level0 col0\" >count</th>\n",
       "      <th class=\"col_heading level0 col1\" >mean</th>\n",
       "      <th class=\"col_heading level0 col2\" >std</th>\n",
       "      <th class=\"col_heading level0 col3\" >min</th>\n",
       "      <th class=\"col_heading level0 col4\" >25%</th>\n",
       "      <th class=\"col_heading level0 col5\" >50%</th>\n",
       "      <th class=\"col_heading level0 col6\" >75%</th>\n",
       "      <th class=\"col_heading level0 col7\" >max</th>\n",
       "    </tr>\n",
       "  </thead>\n",
       "  <tbody>\n",
       "    <tr>\n",
       "      <th id=\"T_1e5a3_level0_row0\" class=\"row_heading level0 row0\" >Age</th>\n",
       "      <td id=\"T_1e5a3_row0_col0\" class=\"data row0 col0\" >8514.000000</td>\n",
       "      <td id=\"T_1e5a3_row0_col1\" class=\"data row0 col1\" >28.827930</td>\n",
       "      <td id=\"T_1e5a3_row0_col2\" class=\"data row0 col2\" >14.489021</td>\n",
       "      <td id=\"T_1e5a3_row0_col3\" class=\"data row0 col3\" >0.000000</td>\n",
       "      <td id=\"T_1e5a3_row0_col4\" class=\"data row0 col4\" >19.000000</td>\n",
       "      <td id=\"T_1e5a3_row0_col5\" class=\"data row0 col5\" >27.000000</td>\n",
       "      <td id=\"T_1e5a3_row0_col6\" class=\"data row0 col6\" >38.000000</td>\n",
       "      <td id=\"T_1e5a3_row0_col7\" class=\"data row0 col7\" >79.000000</td>\n",
       "    </tr>\n",
       "    <tr>\n",
       "      <th id=\"T_1e5a3_level0_row1\" class=\"row_heading level0 row1\" >RoomService</th>\n",
       "      <td id=\"T_1e5a3_row1_col0\" class=\"data row1 col0\" >8512.000000</td>\n",
       "      <td id=\"T_1e5a3_row1_col1\" class=\"data row1 col1\" >224.687617</td>\n",
       "      <td id=\"T_1e5a3_row1_col2\" class=\"data row1 col2\" >666.717663</td>\n",
       "      <td id=\"T_1e5a3_row1_col3\" class=\"data row1 col3\" >0.000000</td>\n",
       "      <td id=\"T_1e5a3_row1_col4\" class=\"data row1 col4\" >0.000000</td>\n",
       "      <td id=\"T_1e5a3_row1_col5\" class=\"data row1 col5\" >0.000000</td>\n",
       "      <td id=\"T_1e5a3_row1_col6\" class=\"data row1 col6\" >47.000000</td>\n",
       "      <td id=\"T_1e5a3_row1_col7\" class=\"data row1 col7\" >14327.000000</td>\n",
       "    </tr>\n",
       "    <tr>\n",
       "      <th id=\"T_1e5a3_level0_row2\" class=\"row_heading level0 row2\" >FoodCourt</th>\n",
       "      <td id=\"T_1e5a3_row2_col0\" class=\"data row2 col0\" >8510.000000</td>\n",
       "      <td id=\"T_1e5a3_row2_col1\" class=\"data row2 col1\" >458.077203</td>\n",
       "      <td id=\"T_1e5a3_row2_col2\" class=\"data row2 col2\" >1611.489240</td>\n",
       "      <td id=\"T_1e5a3_row2_col3\" class=\"data row2 col3\" >0.000000</td>\n",
       "      <td id=\"T_1e5a3_row2_col4\" class=\"data row2 col4\" >0.000000</td>\n",
       "      <td id=\"T_1e5a3_row2_col5\" class=\"data row2 col5\" >0.000000</td>\n",
       "      <td id=\"T_1e5a3_row2_col6\" class=\"data row2 col6\" >76.000000</td>\n",
       "      <td id=\"T_1e5a3_row2_col7\" class=\"data row2 col7\" >29813.000000</td>\n",
       "    </tr>\n",
       "    <tr>\n",
       "      <th id=\"T_1e5a3_level0_row3\" class=\"row_heading level0 row3\" >ShoppingMall</th>\n",
       "      <td id=\"T_1e5a3_row3_col0\" class=\"data row3 col0\" >8485.000000</td>\n",
       "      <td id=\"T_1e5a3_row3_col1\" class=\"data row3 col1\" >173.729169</td>\n",
       "      <td id=\"T_1e5a3_row3_col2\" class=\"data row3 col2\" >604.696458</td>\n",
       "      <td id=\"T_1e5a3_row3_col3\" class=\"data row3 col3\" >0.000000</td>\n",
       "      <td id=\"T_1e5a3_row3_col4\" class=\"data row3 col4\" >0.000000</td>\n",
       "      <td id=\"T_1e5a3_row3_col5\" class=\"data row3 col5\" >0.000000</td>\n",
       "      <td id=\"T_1e5a3_row3_col6\" class=\"data row3 col6\" >27.000000</td>\n",
       "      <td id=\"T_1e5a3_row3_col7\" class=\"data row3 col7\" >23492.000000</td>\n",
       "    </tr>\n",
       "    <tr>\n",
       "      <th id=\"T_1e5a3_level0_row4\" class=\"row_heading level0 row4\" >Spa</th>\n",
       "      <td id=\"T_1e5a3_row4_col0\" class=\"data row4 col0\" >8510.000000</td>\n",
       "      <td id=\"T_1e5a3_row4_col1\" class=\"data row4 col1\" >311.138778</td>\n",
       "      <td id=\"T_1e5a3_row4_col2\" class=\"data row4 col2\" >1136.705535</td>\n",
       "      <td id=\"T_1e5a3_row4_col3\" class=\"data row4 col3\" >0.000000</td>\n",
       "      <td id=\"T_1e5a3_row4_col4\" class=\"data row4 col4\" >0.000000</td>\n",
       "      <td id=\"T_1e5a3_row4_col5\" class=\"data row4 col5\" >0.000000</td>\n",
       "      <td id=\"T_1e5a3_row4_col6\" class=\"data row4 col6\" >59.000000</td>\n",
       "      <td id=\"T_1e5a3_row4_col7\" class=\"data row4 col7\" >22408.000000</td>\n",
       "    </tr>\n",
       "    <tr>\n",
       "      <th id=\"T_1e5a3_level0_row5\" class=\"row_heading level0 row5\" >VRDeck</th>\n",
       "      <td id=\"T_1e5a3_row5_col0\" class=\"data row5 col0\" >8505.000000</td>\n",
       "      <td id=\"T_1e5a3_row5_col1\" class=\"data row5 col1\" >304.854791</td>\n",
       "      <td id=\"T_1e5a3_row5_col2\" class=\"data row5 col2\" >1145.717189</td>\n",
       "      <td id=\"T_1e5a3_row5_col3\" class=\"data row5 col3\" >0.000000</td>\n",
       "      <td id=\"T_1e5a3_row5_col4\" class=\"data row5 col4\" >0.000000</td>\n",
       "      <td id=\"T_1e5a3_row5_col5\" class=\"data row5 col5\" >0.000000</td>\n",
       "      <td id=\"T_1e5a3_row5_col6\" class=\"data row5 col6\" >46.000000</td>\n",
       "      <td id=\"T_1e5a3_row5_col7\" class=\"data row5 col7\" >24133.000000</td>\n",
       "    </tr>\n",
       "  </tbody>\n",
       "</table>\n"
      ],
      "text/plain": [
       "<pandas.io.formats.style.Styler at 0x7fb6142827d0>"
      ]
     },
     "execution_count": 10,
     "metadata": {},
     "output_type": "execute_result"
    }
   ],
   "source": [
    "%matplotlib inline\n",
    "train.describe().T.style.background_gradient(cmap=\"Blues\",\n",
    "                    low=0.5, high=1, text_color_threshold=0)\\\n",
    "                    .bar(subset=[\"count\"], color=\"lavender\", vmin=8400, vmax=8520)\\\n",
    "                    .bar(subset=[\"mean\"], color=\"khaki\", vmin=0)\\\n",
    "                    .bar(subset=[\"std\"], color=\"peachpuff\", vmin=0)"
   ]
  },
  {
   "cell_type": "markdown",
   "id": "5b1071a2",
   "metadata": {
    "papermill": {
     "duration": 0.040964,
     "end_time": "2022-04-04T03:02:06.443532",
     "exception": false,
     "start_time": "2022-04-04T03:02:06.402568",
     "status": "completed"
    },
    "tags": []
   },
   "source": [
    "#### ※ Except Age, more than half of all numeric variables are zero.\n",
    "   - They are amount the passenger has billed at each of many amenities\n",
    "   - Preprocessing such as feature engineering and one-hot encoding is required."
   ]
  },
  {
   "cell_type": "code",
   "execution_count": 11,
   "id": "939a6a79",
   "metadata": {
    "execution": {
     "iopub.execute_input": "2022-04-04T03:02:06.540701Z",
     "iopub.status.busy": "2022-04-04T03:02:06.539572Z",
     "iopub.status.idle": "2022-04-04T03:02:06.582964Z",
     "shell.execute_reply": "2022-04-04T03:02:06.582376Z",
     "shell.execute_reply.started": "2022-04-04T02:13:34.765616Z"
    },
    "papermill": {
     "duration": 0.097889,
     "end_time": "2022-04-04T03:02:06.583125",
     "exception": false,
     "start_time": "2022-04-04T03:02:06.485236",
     "status": "completed"
    },
    "tags": []
   },
   "outputs": [
    {
     "data": {
      "text/html": [
       "<div>\n",
       "<style scoped>\n",
       "    .dataframe tbody tr th:only-of-type {\n",
       "        vertical-align: middle;\n",
       "    }\n",
       "\n",
       "    .dataframe tbody tr th {\n",
       "        vertical-align: top;\n",
       "    }\n",
       "\n",
       "    .dataframe thead th {\n",
       "        text-align: right;\n",
       "    }\n",
       "</style>\n",
       "<table border=\"1\" class=\"dataframe\">\n",
       "  <thead>\n",
       "    <tr style=\"text-align: right;\">\n",
       "      <th></th>\n",
       "      <th>PassengerId</th>\n",
       "      <th>HomePlanet</th>\n",
       "      <th>CryoSleep</th>\n",
       "      <th>Cabin</th>\n",
       "      <th>Destination</th>\n",
       "      <th>VIP</th>\n",
       "      <th>Name</th>\n",
       "    </tr>\n",
       "  </thead>\n",
       "  <tbody>\n",
       "    <tr>\n",
       "      <th>count</th>\n",
       "      <td>8693</td>\n",
       "      <td>8492</td>\n",
       "      <td>8476</td>\n",
       "      <td>8494</td>\n",
       "      <td>8511</td>\n",
       "      <td>8490</td>\n",
       "      <td>8493</td>\n",
       "    </tr>\n",
       "    <tr>\n",
       "      <th>unique</th>\n",
       "      <td>8693</td>\n",
       "      <td>3</td>\n",
       "      <td>2</td>\n",
       "      <td>6560</td>\n",
       "      <td>3</td>\n",
       "      <td>2</td>\n",
       "      <td>8473</td>\n",
       "    </tr>\n",
       "    <tr>\n",
       "      <th>top</th>\n",
       "      <td>0001_01</td>\n",
       "      <td>Earth</td>\n",
       "      <td>False</td>\n",
       "      <td>G/734/S</td>\n",
       "      <td>TRAPPIST-1e</td>\n",
       "      <td>False</td>\n",
       "      <td>Gollux Reedall</td>\n",
       "    </tr>\n",
       "    <tr>\n",
       "      <th>freq</th>\n",
       "      <td>1</td>\n",
       "      <td>4602</td>\n",
       "      <td>5439</td>\n",
       "      <td>8</td>\n",
       "      <td>5915</td>\n",
       "      <td>8291</td>\n",
       "      <td>2</td>\n",
       "    </tr>\n",
       "  </tbody>\n",
       "</table>\n",
       "</div>"
      ],
      "text/plain": [
       "       PassengerId HomePlanet CryoSleep    Cabin  Destination    VIP  \\\n",
       "count         8693       8492      8476     8494         8511   8490   \n",
       "unique        8693          3         2     6560            3      2   \n",
       "top        0001_01      Earth     False  G/734/S  TRAPPIST-1e  False   \n",
       "freq             1       4602      5439        8         5915   8291   \n",
       "\n",
       "                  Name  \n",
       "count             8493  \n",
       "unique            8473  \n",
       "top     Gollux Reedall  \n",
       "freq                 2  "
      ]
     },
     "execution_count": 11,
     "metadata": {},
     "output_type": "execute_result"
    }
   ],
   "source": [
    "train.describe(include=['O'])"
   ]
  },
  {
   "cell_type": "markdown",
   "id": "0f5d352b",
   "metadata": {
    "papermill": {
     "duration": 0.041682,
     "end_time": "2022-04-04T03:02:06.668598",
     "exception": false,
     "start_time": "2022-04-04T03:02:06.626916",
     "status": "completed"
    },
    "tags": []
   },
   "source": [
    "#### ※ PassengerID, Cabin, and Name are text data, not categorical.\n",
    "  - They don't seem to be important to the performance of the model.\n",
    "  - In ML modeling, these features won't be used."
   ]
  },
  {
   "cell_type": "markdown",
   "id": "1413be4a",
   "metadata": {
    "papermill": {
     "duration": 0.042139,
     "end_time": "2022-04-04T03:02:06.752312",
     "exception": false,
     "start_time": "2022-04-04T03:02:06.710173",
     "status": "completed"
    },
    "tags": []
   },
   "source": [
    "## Missing Value Distribution"
   ]
  },
  {
   "cell_type": "code",
   "execution_count": 12,
   "id": "a7670984",
   "metadata": {
    "execution": {
     "iopub.execute_input": "2022-04-04T03:02:06.852447Z",
     "iopub.status.busy": "2022-04-04T03:02:06.851668Z",
     "iopub.status.idle": "2022-04-04T03:02:06.862603Z",
     "shell.execute_reply": "2022-04-04T03:02:06.862007Z",
     "shell.execute_reply.started": "2022-04-04T02:13:34.996186Z"
    },
    "papermill": {
     "duration": 0.069053,
     "end_time": "2022-04-04T03:02:06.862760",
     "exception": false,
     "start_time": "2022-04-04T03:02:06.793707",
     "status": "completed"
    },
    "tags": []
   },
   "outputs": [],
   "source": [
    "train_miss = pd.DataFrame({'dtype' : train.iloc[:, :-1].dtypes,\n",
    "                           'missing' : train.iloc[:, :-1].isnull().sum()})\n",
    "test_miss = pd.DataFrame({'dtype' : test.dtypes,\n",
    "                          'missing' : test.isnull().sum()})"
   ]
  },
  {
   "cell_type": "code",
   "execution_count": 13,
   "id": "32b99226",
   "metadata": {
    "execution": {
     "iopub.execute_input": "2022-04-04T03:02:06.961234Z",
     "iopub.status.busy": "2022-04-04T03:02:06.960540Z",
     "iopub.status.idle": "2022-04-04T03:02:07.560014Z",
     "shell.execute_reply": "2022-04-04T03:02:07.560514Z",
     "shell.execute_reply.started": "2022-04-04T02:13:35.222307Z"
    },
    "papermill": {
     "duration": 0.656069,
     "end_time": "2022-04-04T03:02:07.560711",
     "exception": false,
     "start_time": "2022-04-04T03:02:06.904642",
     "status": "completed"
    },
    "tags": []
   },
   "outputs": [
    {
     "data": {
      "image/png": "[encoded data removed]",
      "text/plain": [
       "<Figure size 792x360 with 2 Axes>"
      ]
     },
     "metadata": {
      "needs_background": "light"
     },
     "output_type": "display_data"
    }
   ],
   "source": [
    "fig, ax = plt.subplots(1,2, figsize=(11,5))\n",
    "width = 0.5\n",
    "bar1 = ax[0].barh(sorted(train.columns[:-1].to_list(), reverse=True),\n",
    "                  train_miss['missing'].sort_index(ascending=False),\n",
    "                  width, color=\"cornflowerblue\")\n",
    "bar2 = ax[1].barh(sorted(test.columns.to_list(), reverse=True),\n",
    "                  test_miss['missing'].sort_index(ascending=False),\n",
    "                  width, color=\"lightsalmon\")\n",
    "\n",
    "ax[0].set_title(\"Missing in Train Data\", loc=\"left\", pad=10, size=15)\n",
    "ax[0].set_xlim(0,240)\n",
    "ax[1].set_title(\"Missing in Test Data\", loc=\"left\", pad=10, size=15)\n",
    "ax[1].set_xlim(0,120)\n",
    "\n",
    "ax[0].bar_label(bar1, padding=2, size=12)\n",
    "ax[1].bar_label(bar2, padding=2, size=12)\n",
    "\n",
    "fig.tight_layout()\n",
    "plt.show()"
   ]
  },
  {
   "cell_type": "markdown",
   "id": "bd8a66d3",
   "metadata": {
    "papermill": {
     "duration": 0.046415,
     "end_time": "2022-04-04T03:02:07.653658",
     "exception": false,
     "start_time": "2022-04-04T03:02:07.607243",
     "status": "completed"
    },
    "tags": []
   },
   "source": [
    "#### The ratio of missing values by feature is less than 10%.\n",
    "- The numerical features will be replaced by the median value.\n",
    "- The categorical features will be replaced by the most frequent value."
   ]
  },
  {
   "cell_type": "markdown",
   "id": "7638ec67",
   "metadata": {
    "papermill": {
     "duration": 0.043592,
     "end_time": "2022-04-04T03:02:07.741320",
     "exception": false,
     "start_time": "2022-04-04T03:02:07.697728",
     "status": "completed"
    },
    "tags": []
   },
   "source": [
    "## Categorical Feature Distribution"
   ]
  },
  {
   "cell_type": "code",
   "execution_count": 14,
   "id": "d9f8a132",
   "metadata": {
    "execution": {
     "iopub.execute_input": "2022-04-04T03:02:07.850645Z",
     "iopub.status.busy": "2022-04-04T03:02:07.849444Z",
     "iopub.status.idle": "2022-04-04T03:02:07.856732Z",
     "shell.execute_reply": "2022-04-04T03:02:07.857229Z",
     "shell.execute_reply.started": "2022-04-04T02:13:35.953276Z"
    },
    "papermill": {
     "duration": 0.059209,
     "end_time": "2022-04-04T03:02:07.857410",
     "exception": false,
     "start_time": "2022-04-04T03:02:07.798201",
     "status": "completed"
    },
    "tags": []
   },
   "outputs": [
    {
     "data": {
      "text/plain": [
       "['HomePlanet', 'CryoSleep', 'Destination', 'VIP']"
      ]
     },
     "execution_count": 14,
     "metadata": {},
     "output_type": "execute_result"
    }
   ],
   "source": [
    "train_cat = train.select_dtypes(include = 'object')\n",
    "test_cat = test.select_dtypes(include = 'object')\n",
    "col_cat = train_cat.columns.to_list()[1:6]\n",
    "del col_cat[2]\n",
    "col_cat"
   ]
  },
  {
   "cell_type": "code",
   "execution_count": 15,
   "id": "7f98e4b0",
   "metadata": {
    "execution": {
     "iopub.execute_input": "2022-04-04T03:02:08.086452Z",
     "iopub.status.busy": "2022-04-04T03:02:08.085706Z",
     "iopub.status.idle": "2022-04-04T03:02:08.800817Z",
     "shell.execute_reply": "2022-04-04T03:02:08.801331Z",
     "shell.execute_reply.started": "2022-04-04T02:13:35.966380Z"
    },
    "papermill": {
     "duration": 0.900757,
     "end_time": "2022-04-04T03:02:08.801514",
     "exception": false,
     "start_time": "2022-04-04T03:02:07.900757",
     "status": "completed"
    },
    "tags": []
   },
   "outputs": [
    {
     "data": {
      "image/png": "[encoded data removed]",
      "text/plain": [
       "<Figure size 792x792 with 4 Axes>"
      ]
     },
     "metadata": {
      "needs_background": "light"
     },
     "output_type": "display_data"
    }
   ],
   "source": [
    "fig, ax = plt.subplots(2,2,figsize=(11,11))\n",
    "\n",
    "width = 0.35\n",
    "x = []\n",
    "b = []\n",
    "b2 = []\n",
    "\n",
    "for i in range(2):\n",
    "    for j in range(2):\n",
    "        x.append(train_cat.loc[:,col_cat[2*i+j]].unique().tolist()[:-1])\n",
    "        b.append(ax[i,j].bar(np.arange(len(x[2*i+j])) - width/2,\n",
    "                            train_cat.loc[:,col_cat[2*i+j]].value_counts().to_list(),\n",
    "                            width, label = \"Train Data\", color=\"cornflowerblue\"))\n",
    "        b2.append(ax[i,j].bar(np.arange(len(x[2*i+j])) + width/2,\n",
    "                            test_cat.loc[:,col_cat[2*i+j]].value_counts().to_list(),\n",
    "                            width, label = \"Test Data\", color=\"lightsalmon\"))\n",
    "        ax[i,j].bar_label(b[2*i+j], label_type='edge', size=12)\n",
    "        ax[i,j].bar_label(b2[2*i+j], label_type='edge', size=12)\n",
    "        ax[i,j].set_title(f'{col_cat[2*i+j]} Distribution',\n",
    "                          pad=10, size=15)\n",
    "        ax[i,j].set_xticks(np.arange(len(x[2*i+j])), x[2*i+j], size=12)\n",
    "        ax[i,j].legend(loc=\"best\", fontsize=12)\n",
    "\n",
    "fig.tight_layout()\n",
    "plt.show()"
   ]
  },
  {
   "cell_type": "markdown",
   "id": "4138077d",
   "metadata": {
    "papermill": {
     "duration": 0.046989,
     "end_time": "2022-04-04T03:02:08.897034",
     "exception": false,
     "start_time": "2022-04-04T03:02:08.850045",
     "status": "completed"
    },
    "tags": []
   },
   "source": [
    "## Numeric Feature Distribution"
   ]
  },
  {
   "cell_type": "code",
   "execution_count": 16,
   "id": "ef85a10c",
   "metadata": {
    "execution": {
     "iopub.execute_input": "2022-04-04T03:02:09.001104Z",
     "iopub.status.busy": "2022-04-04T03:02:09.000371Z",
     "iopub.status.idle": "2022-04-04T03:02:09.004481Z",
     "shell.execute_reply": "2022-04-04T03:02:09.003784Z",
     "shell.execute_reply.started": "2022-04-04T02:13:36.683321Z"
    },
    "papermill": {
     "duration": 0.061271,
     "end_time": "2022-04-04T03:02:09.004623",
     "exception": false,
     "start_time": "2022-04-04T03:02:08.943352",
     "status": "completed"
    },
    "tags": []
   },
   "outputs": [
    {
     "data": {
      "text/plain": [
       "['Age', 'RoomService', 'FoodCourt', 'ShoppingMall', 'Spa', 'VRDeck']"
      ]
     },
     "execution_count": 16,
     "metadata": {},
     "output_type": "execute_result"
    }
   ],
   "source": [
    "numeric = ['int8', 'int16', 'int32', 'int64', 'float16', 'float32', 'float64']\n",
    "train_num = train.select_dtypes(include = numeric)\n",
    "test_num = test.select_dtypes(include = numeric)\n",
    "col_num = train_num.columns.to_list()\n",
    "col_num"
   ]
  },
  {
   "cell_type": "code",
   "execution_count": 17,
   "id": "af614d96",
   "metadata": {
    "execution": {
     "iopub.execute_input": "2022-04-04T03:02:09.110189Z",
     "iopub.status.busy": "2022-04-04T03:02:09.108476Z",
     "iopub.status.idle": "2022-04-04T03:02:09.726213Z",
     "shell.execute_reply": "2022-04-04T03:02:09.725655Z",
     "shell.execute_reply.started": "2022-04-04T02:13:36.696629Z"
    },
    "papermill": {
     "duration": 0.67317,
     "end_time": "2022-04-04T03:02:09.726370",
     "exception": false,
     "start_time": "2022-04-04T03:02:09.053200",
     "status": "completed"
    },
    "tags": []
   },
   "outputs": [
    {
     "data": {
      "image/png": "[encoded data removed]",
      "text/plain": [
       "<Figure size 864x1080 with 6 Axes>"
      ]
     },
     "metadata": {
      "needs_background": "light"
     },
     "output_type": "display_data"
    }
   ],
   "source": [
    "fig, ax = plt.subplots(3,2,figsize=(12,15))\n",
    "\n",
    "for i in range(3):\n",
    "    for j in range(2):\n",
    "        ax[i, j].boxplot(train_num.iloc[:,2*i+j].tolist()[:10], 0, 'rD')\n",
    "        ax[i, j].set_title(col_num[2*i+j], pad=7, size=15)\n",
    "\n",
    "plt.show()"
   ]
  },
  {
   "cell_type": "markdown",
   "id": "af40ca34",
   "metadata": {
    "papermill": {
     "duration": 0.047507,
     "end_time": "2022-04-04T03:02:09.824426",
     "exception": false,
     "start_time": "2022-04-04T03:02:09.776919",
     "status": "completed"
    },
    "tags": []
   },
   "source": [
    "## Feature Correlation"
   ]
  },
  {
   "cell_type": "code",
   "execution_count": 18,
   "id": "1d6f03e2",
   "metadata": {
    "execution": {
     "iopub.execute_input": "2022-04-04T03:02:09.929027Z",
     "iopub.status.busy": "2022-04-04T03:02:09.928244Z",
     "iopub.status.idle": "2022-04-04T03:02:09.947099Z",
     "shell.execute_reply": "2022-04-04T03:02:09.947652Z",
     "shell.execute_reply.started": "2022-04-04T02:13:37.328725Z"
    },
    "papermill": {
     "duration": 0.0754,
     "end_time": "2022-04-04T03:02:09.947837",
     "exception": false,
     "start_time": "2022-04-04T03:02:09.872437",
     "status": "completed"
    },
    "tags": []
   },
   "outputs": [
    {
     "data": {
      "text/html": [
       "<style type=\"text/css\">\n",
       "#T_88a8f_row0_col0, #T_88a8f_row1_col1, #T_88a8f_row2_col2, #T_88a8f_row3_col3, #T_88a8f_row4_col4, #T_88a8f_row5_col5 {\n",
       "  background-color: #053061;\n",
       "  color: #f1f1f1;\n",
       "}\n",
       "#T_88a8f_row0_col1, #T_88a8f_row1_col0 {\n",
       "  background-color: #d7e8f1;\n",
       "  color: #000000;\n",
       "}\n",
       "#T_88a8f_row0_col2, #T_88a8f_row2_col0 {\n",
       "  background-color: #a9d1e5;\n",
       "  color: #000000;\n",
       "}\n",
       "#T_88a8f_row0_col3, #T_88a8f_row3_col0 {\n",
       "  background-color: #e7f0f4;\n",
       "  color: #000000;\n",
       "}\n",
       "#T_88a8f_row0_col4, #T_88a8f_row4_col0 {\n",
       "  background-color: #aed3e6;\n",
       "  color: #000000;\n",
       "}\n",
       "#T_88a8f_row0_col5, #T_88a8f_row5_col0 {\n",
       "  background-color: #c0dceb;\n",
       "  color: #000000;\n",
       "}\n",
       "#T_88a8f_row1_col2, #T_88a8f_row2_col1 {\n",
       "  background-color: #f8f1ed;\n",
       "  color: #000000;\n",
       "}\n",
       "#T_88a8f_row1_col3, #T_88a8f_row3_col1 {\n",
       "  background-color: #ddebf2;\n",
       "  color: #000000;\n",
       "}\n",
       "#T_88a8f_row1_col4, #T_88a8f_row4_col1 {\n",
       "  background-color: #f2f5f6;\n",
       "  color: #000000;\n",
       "}\n",
       "#T_88a8f_row1_col5, #T_88a8f_row5_col1 {\n",
       "  background-color: #f9f0eb;\n",
       "  color: #000000;\n",
       "}\n",
       "#T_88a8f_row2_col3, #T_88a8f_row3_col2 {\n",
       "  background-color: #f8f2ef;\n",
       "  color: #000000;\n",
       "}\n",
       "#T_88a8f_row2_col4, #T_88a8f_row4_col2 {\n",
       "  background-color: #529dc8;\n",
       "  color: #f1f1f1;\n",
       "}\n",
       "#T_88a8f_row2_col5, #T_88a8f_row5_col2 {\n",
       "  background-color: #4f9bc7;\n",
       "  color: #f1f1f1;\n",
       "}\n",
       "#T_88a8f_row3_col4, #T_88a8f_row4_col3 {\n",
       "  background-color: #f0f4f6;\n",
       "  color: #000000;\n",
       "}\n",
       "#T_88a8f_row3_col5, #T_88a8f_row5_col3 {\n",
       "  background-color: #f8f4f2;\n",
       "  color: #000000;\n",
       "}\n",
       "#T_88a8f_row4_col5, #T_88a8f_row5_col4 {\n",
       "  background-color: #96c7df;\n",
       "  color: #000000;\n",
       "}\n",
       "</style>\n",
       "<table id=\"T_88a8f_\">\n",
       "  <thead>\n",
       "    <tr>\n",
       "      <th class=\"blank level0\" >&nbsp;</th>\n",
       "      <th class=\"col_heading level0 col0\" >Age</th>\n",
       "      <th class=\"col_heading level0 col1\" >RoomService</th>\n",
       "      <th class=\"col_heading level0 col2\" >FoodCourt</th>\n",
       "      <th class=\"col_heading level0 col3\" >ShoppingMall</th>\n",
       "      <th class=\"col_heading level0 col4\" >Spa</th>\n",
       "      <th class=\"col_heading level0 col5\" >VRDeck</th>\n",
       "    </tr>\n",
       "  </thead>\n",
       "  <tbody>\n",
       "    <tr>\n",
       "      <th id=\"T_88a8f_level0_row0\" class=\"row_heading level0 row0\" >Age</th>\n",
       "      <td id=\"T_88a8f_row0_col0\" class=\"data row0 col0\" >1.000000</td>\n",
       "      <td id=\"T_88a8f_row0_col1\" class=\"data row0 col1\" >0.068723</td>\n",
       "      <td id=\"T_88a8f_row0_col2\" class=\"data row0 col2\" >0.130421</td>\n",
       "      <td id=\"T_88a8f_row0_col3\" class=\"data row0 col3\" >0.033133</td>\n",
       "      <td id=\"T_88a8f_row0_col4\" class=\"data row0 col4\" >0.123970</td>\n",
       "      <td id=\"T_88a8f_row0_col5\" class=\"data row0 col5\" >0.101007</td>\n",
       "    </tr>\n",
       "    <tr>\n",
       "      <th id=\"T_88a8f_level0_row1\" class=\"row_heading level0 row1\" >RoomService</th>\n",
       "      <td id=\"T_88a8f_row1_col0\" class=\"data row1 col0\" >0.068723</td>\n",
       "      <td id=\"T_88a8f_row1_col1\" class=\"data row1 col1\" >1.000000</td>\n",
       "      <td id=\"T_88a8f_row1_col2\" class=\"data row1 col2\" >-0.015889</td>\n",
       "      <td id=\"T_88a8f_row1_col3\" class=\"data row1 col3\" >0.054480</td>\n",
       "      <td id=\"T_88a8f_row1_col4\" class=\"data row1 col4\" >0.010080</td>\n",
       "      <td id=\"T_88a8f_row1_col5\" class=\"data row1 col5\" >-0.019581</td>\n",
       "    </tr>\n",
       "    <tr>\n",
       "      <th id=\"T_88a8f_level0_row2\" class=\"row_heading level0 row2\" >FoodCourt</th>\n",
       "      <td id=\"T_88a8f_row2_col0\" class=\"data row2 col0\" >0.130421</td>\n",
       "      <td id=\"T_88a8f_row2_col1\" class=\"data row2 col1\" >-0.015889</td>\n",
       "      <td id=\"T_88a8f_row2_col2\" class=\"data row2 col2\" >1.000000</td>\n",
       "      <td id=\"T_88a8f_row2_col3\" class=\"data row2 col3\" >-0.014228</td>\n",
       "      <td id=\"T_88a8f_row2_col4\" class=\"data row2 col4\" >0.221891</td>\n",
       "      <td id=\"T_88a8f_row2_col5\" class=\"data row2 col5\" >0.227995</td>\n",
       "    </tr>\n",
       "    <tr>\n",
       "      <th id=\"T_88a8f_level0_row3\" class=\"row_heading level0 row3\" >ShoppingMall</th>\n",
       "      <td id=\"T_88a8f_row3_col0\" class=\"data row3 col0\" >0.033133</td>\n",
       "      <td id=\"T_88a8f_row3_col1\" class=\"data row3 col1\" >0.054480</td>\n",
       "      <td id=\"T_88a8f_row3_col2\" class=\"data row3 col2\" >-0.014228</td>\n",
       "      <td id=\"T_88a8f_row3_col3\" class=\"data row3 col3\" >1.000000</td>\n",
       "      <td id=\"T_88a8f_row3_col4\" class=\"data row3 col4\" >0.013879</td>\n",
       "      <td id=\"T_88a8f_row3_col5\" class=\"data row3 col5\" >-0.007322</td>\n",
       "    </tr>\n",
       "    <tr>\n",
       "      <th id=\"T_88a8f_level0_row4\" class=\"row_heading level0 row4\" >Spa</th>\n",
       "      <td id=\"T_88a8f_row4_col0\" class=\"data row4 col0\" >0.123970</td>\n",
       "      <td id=\"T_88a8f_row4_col1\" class=\"data row4 col1\" >0.010080</td>\n",
       "      <td id=\"T_88a8f_row4_col2\" class=\"data row4 col2\" >0.221891</td>\n",
       "      <td id=\"T_88a8f_row4_col3\" class=\"data row4 col3\" >0.013879</td>\n",
       "      <td id=\"T_88a8f_row4_col4\" class=\"data row4 col4\" >1.000000</td>\n",
       "      <td id=\"T_88a8f_row4_col5\" class=\"data row4 col5\" >0.153821</td>\n",
       "    </tr>\n",
       "    <tr>\n",
       "      <th id=\"T_88a8f_level0_row5\" class=\"row_heading level0 row5\" >VRDeck</th>\n",
       "      <td id=\"T_88a8f_row5_col0\" class=\"data row5 col0\" >0.101007</td>\n",
       "      <td id=\"T_88a8f_row5_col1\" class=\"data row5 col1\" >-0.019581</td>\n",
       "      <td id=\"T_88a8f_row5_col2\" class=\"data row5 col2\" >0.227995</td>\n",
       "      <td id=\"T_88a8f_row5_col3\" class=\"data row5 col3\" >-0.007322</td>\n",
       "      <td id=\"T_88a8f_row5_col4\" class=\"data row5 col4\" >0.153821</td>\n",
       "      <td id=\"T_88a8f_row5_col5\" class=\"data row5 col5\" >1.000000</td>\n",
       "    </tr>\n",
       "  </tbody>\n",
       "</table>\n"
      ],
      "text/plain": [
       "<pandas.io.formats.style.Styler at 0x7fb5df0b6b90>"
      ]
     },
     "execution_count": 18,
     "metadata": {},
     "output_type": "execute_result"
    }
   ],
   "source": [
    "train.iloc[:,:-1].corr().style.background_gradient(\n",
    "                        cmap=\"RdBu\", axis=None, vmin=-0.4, vmax=0.4)"
   ]
  },
  {
   "cell_type": "markdown",
   "id": "09ddea40",
   "metadata": {
    "papermill": {
     "duration": 0.047281,
     "end_time": "2022-04-04T03:02:10.046483",
     "exception": false,
     "start_time": "2022-04-04T03:02:09.999202",
     "status": "completed"
    },
    "tags": []
   },
   "source": [
    "#### There seems to be little correlation between features.\n",
    "- Issues such as multicollinearity don't have to be considered."
   ]
  },
  {
   "cell_type": "markdown",
   "id": "7a1c013b",
   "metadata": {
    "papermill": {
     "duration": 0.047914,
     "end_time": "2022-04-04T03:02:10.144173",
     "exception": false,
     "start_time": "2022-04-04T03:02:10.096259",
     "status": "completed"
    },
    "tags": []
   },
   "source": [
    "## Target Distribution"
   ]
  },
  {
   "cell_type": "code",
   "execution_count": 19,
   "id": "426f4315",
   "metadata": {
    "execution": {
     "iopub.execute_input": "2022-04-04T03:02:10.262988Z",
     "iopub.status.busy": "2022-04-04T03:02:10.261842Z",
     "iopub.status.idle": "2022-04-04T03:02:10.625935Z",
     "shell.execute_reply": "2022-04-04T03:02:10.626569Z",
     "shell.execute_reply.started": "2022-04-04T02:36:33.367871Z"
    },
    "papermill": {
     "duration": 0.434377,
     "end_time": "2022-04-04T03:02:10.626775",
     "exception": false,
     "start_time": "2022-04-04T03:02:10.192398",
     "status": "completed"
    },
    "tags": []
   },
   "outputs": [
    {
     "data": {
      "image/png": "[encoded data removed]",
      "text/plain": [
       "<Figure size 360x360 with 1 Axes>"
      ]
     },
     "metadata": {},
     "output_type": "display_data"
    }
   ],
   "source": [
    "fig, ax = plt.subplots(figsize=(5,5))\n",
    "\n",
    "labels = train[\"Transported\"].unique().tolist()\n",
    "lst = train[\"Transported\"].value_counts().to_list()\n",
    "pie = ax.pie([lst[0], lst[1]], labels = labels, autopct='%.2f%%',\n",
    "             textprops=dict(color=\"white\", fontsize=15, weight=\"bold\"),\n",
    "             colors=[\"cornflowerblue\", \"lightsalmon\"], shadow=True,\n",
    "             wedgeprops=dict(width=0.75), startangle=45, explode=(0.025,0))\n",
    "\n",
    "ax.set_title(\"Target Distribution\", size=20)\n",
    "ax.legend(title=\"Transported\", title_fontsize=12, loc='best', fontsize=15)\n",
    "\n",
    "plt.show()"
   ]
  },
  {
   "cell_type": "code",
   "execution_count": 20,
   "id": "c1e8ab1e",
   "metadata": {
    "execution": {
     "iopub.execute_input": "2022-04-04T03:02:10.733610Z",
     "iopub.status.busy": "2022-04-04T03:02:10.732806Z",
     "iopub.status.idle": "2022-04-04T03:02:10.737329Z",
     "shell.execute_reply": "2022-04-04T03:02:10.736739Z",
     "shell.execute_reply.started": "2022-04-04T02:13:37.743005Z"
    },
    "papermill": {
     "duration": 0.061258,
     "end_time": "2022-04-04T03:02:10.737496",
     "exception": false,
     "start_time": "2022-04-04T03:02:10.676238",
     "status": "completed"
    },
    "tags": []
   },
   "outputs": [],
   "source": [
    "train_0 = train[train['Transported']==False]\n",
    "train_1 = train[train['Transported']==True]"
   ]
  },
  {
   "cell_type": "code",
   "execution_count": 21,
   "id": "c0d734b7",
   "metadata": {
    "execution": {
     "iopub.execute_input": "2022-04-04T03:02:10.846661Z",
     "iopub.status.busy": "2022-04-04T03:02:10.845593Z",
     "iopub.status.idle": "2022-04-04T03:02:11.565765Z",
     "shell.execute_reply": "2022-04-04T03:02:11.566315Z",
     "shell.execute_reply.started": "2022-04-04T02:13:37.751505Z"
    },
    "papermill": {
     "duration": 0.779387,
     "end_time": "2022-04-04T03:02:11.566513",
     "exception": false,
     "start_time": "2022-04-04T03:02:10.787126",
     "status": "completed"
    },
    "tags": []
   },
   "outputs": [
    {
     "data": {
      "image/png": "[encoded data removed]",
      "text/plain": [
       "<Figure size 792x792 with 4 Axes>"
      ]
     },
     "metadata": {
      "needs_background": "light"
     },
     "output_type": "display_data"
    }
   ],
   "source": [
    "fig, ax = plt.subplots(2,2,figsize=(11,11))\n",
    "\n",
    "width = 0.35\n",
    "x = []\n",
    "b = []\n",
    "b2 = []\n",
    "\n",
    "for i in range(2):\n",
    "    for j in range(2):\n",
    "        x.append(train_cat.loc[:,col_cat[2*i+j]].unique().tolist()[:-1])\n",
    "        b.append(ax[i,j].bar(np.arange(len(x[2*i+j])) - width/2,\n",
    "                            train_0.loc[:,col_cat[2*i+j]].value_counts().to_list(),\n",
    "                            width, label = \"Train Data\", color=\"cornflowerblue\"))\n",
    "        b2.append(ax[i,j].bar(np.arange(len(x[2*i+j])) + width/2,\n",
    "                            train_1.loc[:,col_cat[2*i+j]].value_counts().to_list(),\n",
    "                            width, label = \"Test Data\", color=\"lightsalmon\"))\n",
    "        ax[i,j].bar_label(b[2*i+j], label_type='edge', size=12)\n",
    "        ax[i,j].bar_label(b2[2*i+j], label_type='edge', size=12)\n",
    "        ax[i,j].set_title(f'{col_cat[2*i+j]} by Target',\n",
    "                          pad=10, size=15)\n",
    "        ax[i,j].set_xticks(np.arange(len(x[2*i+j])), x[2*i+j], size=12)\n",
    "        ax[i,j].legend(loc=\"best\", fontsize=12)\n",
    "\n",
    "fig.tight_layout()\n",
    "plt.show()"
   ]
  },
  {
   "cell_type": "markdown",
   "id": "4f4a935c",
   "metadata": {
    "papermill": {
     "duration": 0.052031,
     "end_time": "2022-04-04T03:02:11.672850",
     "exception": false,
     "start_time": "2022-04-04T03:02:11.620819",
     "status": "completed"
    },
    "tags": []
   },
   "source": []
  },
  {
   "cell_type": "markdown",
   "id": "061320b0",
   "metadata": {
    "papermill": {
     "duration": 0.052731,
     "end_time": "2022-04-04T03:02:11.777741",
     "exception": false,
     "start_time": "2022-04-04T03:02:11.725010",
     "status": "completed"
    },
    "tags": []
   },
   "source": [
    "# Step 3. Data Preproccessing\n",
    "#### - Feature engineering, standardization, one-hot encoding, etc\n",
    "#### - Create derived variables and descibe why you made this variable."
   ]
  },
  {
   "cell_type": "markdown",
   "id": "154a6fc9",
   "metadata": {
    "papermill": {
     "duration": 0.052053,
     "end_time": "2022-04-04T03:02:11.882170",
     "exception": false,
     "start_time": "2022-04-04T03:02:11.830117",
     "status": "completed"
    },
    "tags": []
   },
   "source": [
    "# Step 4. ML Model\n",
    "#### - Use 1~2 ML model and describe about them\n",
    "#### - Cross Validation and hyperparameter tuning"
   ]
  },
  {
   "cell_type": "code",
   "execution_count": 22,
   "id": "1eb97c0f",
   "metadata": {
    "execution": {
     "iopub.execute_input": "2022-04-04T03:02:11.994121Z",
     "iopub.status.busy": "2022-04-04T03:02:11.993247Z",
     "iopub.status.idle": "2022-04-04T03:02:12.005098Z",
     "shell.execute_reply": "2022-04-04T03:02:12.005819Z",
     "shell.execute_reply.started": "2022-04-04T02:13:38.483846Z"
    },
    "papermill": {
     "duration": 0.06992,
     "end_time": "2022-04-04T03:02:12.006073",
     "exception": false,
     "start_time": "2022-04-04T03:02:11.936153",
     "status": "completed"
    },
    "tags": []
   },
   "outputs": [
    {
     "name": "stdout",
     "output_type": "stream",
     "text": [
      "(8693, 13)\n",
      "(8693,)\n"
     ]
    }
   ],
   "source": [
    "train_input = train.iloc[:, :-1].to_numpy()\n",
    "train_target = train.iloc[:,-1].to_numpy()\n",
    "print(train_input.shape)\n",
    "print(train_target.shape)"
   ]
  },
  {
   "cell_type": "markdown",
   "id": "ab57a060",
   "metadata": {
    "papermill": {
     "duration": 0.053316,
     "end_time": "2022-04-04T03:02:12.113077",
     "exception": false,
     "start_time": "2022-04-04T03:02:12.059761",
     "status": "completed"
    },
    "tags": []
   },
   "source": [
    "# Step 5. Model Evaluation\n",
    "#### - Split data set into training data and verification data.\n",
    "#### - Create Confusion Matrix and compare model accuracy."
   ]
  },
  {
   "cell_type": "markdown",
   "id": "ae0f60a9",
   "metadata": {
    "papermill": {
     "duration": 0.052882,
     "end_time": "2022-04-04T03:02:12.227783",
     "exception": false,
     "start_time": "2022-04-04T03:02:12.174901",
     "status": "completed"
    },
    "tags": []
   },
   "source": [
    "# Step 6. Submission\n",
    "#### - Submit according to the sample given"
   ]
  },
  {
   "cell_type": "markdown",
   "id": "5d132e27",
   "metadata": {
    "papermill": {
     "duration": 0.05322,
     "end_time": "2022-04-04T03:02:12.333174",
     "exception": false,
     "start_time": "2022-04-04T03:02:12.279954",
     "status": "completed"
    },
    "tags": []
   },
   "source": [
    "# Reference\n",
    "#### - Be sure to link the referenced code in order to prevent plagiarism on your laptop.\n",
    "#### - Write author name, code title, and url"
   ]
  }
 ],
 "metadata": {
  "kernelspec": {
   "display_name": "Python 3",
   "language": "python",
   "name": "python3"
  },
  "language_info": {
   "codemirror_mode": {
    "name": "ipython",
    "version": 3
   },
   "file_extension": ".py",
   "mimetype": "text/x-python",
   "name": "python",
   "nbconvert_exporter": "python",
   "pygments_lexer": "ipython3",
   "version": "3.7.12"
  },
  "papermill": {
   "default_parameters": {},
   "duration": 21.449418,
   "end_time": "2022-04-04T03:02:13.298557",
   "environment_variables": {},
   "exception": null,
   "input_path": "__notebook__.ipynb",
   "output_path": "__notebook__.ipynb",
   "parameters": {},
   "start_time": "2022-04-04T03:01:51.849139",
   "version": "2.3.3"
  }
 },
 "nbformat": 4,
 "nbformat_minor": 5
}
